{
  "nbformat": 4,
  "nbformat_minor": 0,
  "metadata": {
    "colab": {
      "name": "Text Classification Template",
      "provenance": [],
      "include_colab_link": true
    },
    "kernelspec": {
      "name": "python3",
      "display_name": "Python 3"
    },
    "accelerator": "GPU",
    "widgets": {
      "application/vnd.jupyter.widget-state+json": {
        "bc2d30e3bf064e5a8f934e5778817046": {
          "model_module": "@jupyter-widgets/controls",
          "model_name": "HBoxModel",
          "state": {
            "_view_name": "HBoxView",
            "_dom_classes": [],
            "_model_name": "HBoxModel",
            "_view_module": "@jupyter-widgets/controls",
            "_model_module_version": "1.5.0",
            "_view_count": null,
            "_view_module_version": "1.5.0",
            "box_style": "",
            "layout": "IPY_MODEL_06ab6c153e994b1eabd9dafaddbe3197",
            "_model_module": "@jupyter-widgets/controls",
            "children": [
              "IPY_MODEL_f106a444163747b5b3d0e78ad5ffabe7",
              "IPY_MODEL_a7cdf5c704da4bd8812c1b09773fa65b"
            ]
          }
        },
        "06ab6c153e994b1eabd9dafaddbe3197": {
          "model_module": "@jupyter-widgets/base",
          "model_name": "LayoutModel",
          "state": {
            "_view_name": "LayoutView",
            "grid_template_rows": null,
            "right": null,
            "justify_content": null,
            "_view_module": "@jupyter-widgets/base",
            "overflow": null,
            "_model_module_version": "1.2.0",
            "_view_count": null,
            "flex_flow": null,
            "width": null,
            "min_width": null,
            "border": null,
            "align_items": null,
            "bottom": null,
            "_model_module": "@jupyter-widgets/base",
            "top": null,
            "grid_column": null,
            "overflow_y": null,
            "overflow_x": null,
            "grid_auto_flow": null,
            "grid_area": null,
            "grid_template_columns": null,
            "flex": null,
            "_model_name": "LayoutModel",
            "justify_items": null,
            "grid_row": null,
            "max_height": null,
            "align_content": null,
            "visibility": null,
            "align_self": null,
            "height": null,
            "min_height": null,
            "padding": null,
            "grid_auto_rows": null,
            "grid_gap": null,
            "max_width": null,
            "order": null,
            "_view_module_version": "1.2.0",
            "grid_template_areas": null,
            "object_position": null,
            "object_fit": null,
            "grid_auto_columns": null,
            "margin": null,
            "display": null,
            "left": null
          }
        },
        "f106a444163747b5b3d0e78ad5ffabe7": {
          "model_module": "@jupyter-widgets/controls",
          "model_name": "FloatProgressModel",
          "state": {
            "_view_name": "ProgressView",
            "style": "IPY_MODEL_b2ae559a33d34a97a683e64df0b04f3c",
            "_dom_classes": [],
            "description": "Downloading: 100%",
            "_model_name": "FloatProgressModel",
            "bar_style": "success",
            "max": 508,
            "_view_module": "@jupyter-widgets/controls",
            "_model_module_version": "1.5.0",
            "value": 508,
            "_view_count": null,
            "_view_module_version": "1.5.0",
            "orientation": "horizontal",
            "min": 0,
            "description_tooltip": null,
            "_model_module": "@jupyter-widgets/controls",
            "layout": "IPY_MODEL_37b07389b38c41e093f5ed97df575dc2"
          }
        },
        "a7cdf5c704da4bd8812c1b09773fa65b": {
          "model_module": "@jupyter-widgets/controls",
          "model_name": "HTMLModel",
          "state": {
            "_view_name": "HTMLView",
            "style": "IPY_MODEL_3ba61e4bd7eb4cefb345abd770301188",
            "_dom_classes": [],
            "description": "",
            "_model_name": "HTMLModel",
            "placeholder": "​",
            "_view_module": "@jupyter-widgets/controls",
            "_model_module_version": "1.5.0",
            "value": " 508/508 [00:20&lt;00:00, 24.5B/s]",
            "_view_count": null,
            "_view_module_version": "1.5.0",
            "description_tooltip": null,
            "_model_module": "@jupyter-widgets/controls",
            "layout": "IPY_MODEL_da762b62e17444029c4d7034beb48e46"
          }
        },
        "b2ae559a33d34a97a683e64df0b04f3c": {
          "model_module": "@jupyter-widgets/controls",
          "model_name": "ProgressStyleModel",
          "state": {
            "_view_name": "StyleView",
            "_model_name": "ProgressStyleModel",
            "description_width": "initial",
            "_view_module": "@jupyter-widgets/base",
            "_model_module_version": "1.5.0",
            "_view_count": null,
            "_view_module_version": "1.2.0",
            "bar_color": null,
            "_model_module": "@jupyter-widgets/controls"
          }
        },
        "37b07389b38c41e093f5ed97df575dc2": {
          "model_module": "@jupyter-widgets/base",
          "model_name": "LayoutModel",
          "state": {
            "_view_name": "LayoutView",
            "grid_template_rows": null,
            "right": null,
            "justify_content": null,
            "_view_module": "@jupyter-widgets/base",
            "overflow": null,
            "_model_module_version": "1.2.0",
            "_view_count": null,
            "flex_flow": null,
            "width": null,
            "min_width": null,
            "border": null,
            "align_items": null,
            "bottom": null,
            "_model_module": "@jupyter-widgets/base",
            "top": null,
            "grid_column": null,
            "overflow_y": null,
            "overflow_x": null,
            "grid_auto_flow": null,
            "grid_area": null,
            "grid_template_columns": null,
            "flex": null,
            "_model_name": "LayoutModel",
            "justify_items": null,
            "grid_row": null,
            "max_height": null,
            "align_content": null,
            "visibility": null,
            "align_self": null,
            "height": null,
            "min_height": null,
            "padding": null,
            "grid_auto_rows": null,
            "grid_gap": null,
            "max_width": null,
            "order": null,
            "_view_module_version": "1.2.0",
            "grid_template_areas": null,
            "object_position": null,
            "object_fit": null,
            "grid_auto_columns": null,
            "margin": null,
            "display": null,
            "left": null
          }
        },
        "3ba61e4bd7eb4cefb345abd770301188": {
          "model_module": "@jupyter-widgets/controls",
          "model_name": "DescriptionStyleModel",
          "state": {
            "_view_name": "StyleView",
            "_model_name": "DescriptionStyleModel",
            "description_width": "",
            "_view_module": "@jupyter-widgets/base",
            "_model_module_version": "1.5.0",
            "_view_count": null,
            "_view_module_version": "1.2.0",
            "_model_module": "@jupyter-widgets/controls"
          }
        },
        "da762b62e17444029c4d7034beb48e46": {
          "model_module": "@jupyter-widgets/base",
          "model_name": "LayoutModel",
          "state": {
            "_view_name": "LayoutView",
            "grid_template_rows": null,
            "right": null,
            "justify_content": null,
            "_view_module": "@jupyter-widgets/base",
            "overflow": null,
            "_model_module_version": "1.2.0",
            "_view_count": null,
            "flex_flow": null,
            "width": null,
            "min_width": null,
            "border": null,
            "align_items": null,
            "bottom": null,
            "_model_module": "@jupyter-widgets/base",
            "top": null,
            "grid_column": null,
            "overflow_y": null,
            "overflow_x": null,
            "grid_auto_flow": null,
            "grid_area": null,
            "grid_template_columns": null,
            "flex": null,
            "_model_name": "LayoutModel",
            "justify_items": null,
            "grid_row": null,
            "max_height": null,
            "align_content": null,
            "visibility": null,
            "align_self": null,
            "height": null,
            "min_height": null,
            "padding": null,
            "grid_auto_rows": null,
            "grid_gap": null,
            "max_width": null,
            "order": null,
            "_view_module_version": "1.2.0",
            "grid_template_areas": null,
            "object_position": null,
            "object_fit": null,
            "grid_auto_columns": null,
            "margin": null,
            "display": null,
            "left": null
          }
        },
        "b093a937473343b1b70bfbb220f8469d": {
          "model_module": "@jupyter-widgets/controls",
          "model_name": "HBoxModel",
          "state": {
            "_view_name": "HBoxView",
            "_dom_classes": [],
            "_model_name": "HBoxModel",
            "_view_module": "@jupyter-widgets/controls",
            "_model_module_version": "1.5.0",
            "_view_count": null,
            "_view_module_version": "1.5.0",
            "box_style": "",
            "layout": "IPY_MODEL_1bd89b6f4347427dafbdd462665929b9",
            "_model_module": "@jupyter-widgets/controls",
            "children": [
              "IPY_MODEL_202c1d3267504e8b80fb8524cfdf2f0c",
              "IPY_MODEL_2f791a6ae52b49249b0f819dce77192f"
            ]
          }
        },
        "1bd89b6f4347427dafbdd462665929b9": {
          "model_module": "@jupyter-widgets/base",
          "model_name": "LayoutModel",
          "state": {
            "_view_name": "LayoutView",
            "grid_template_rows": null,
            "right": null,
            "justify_content": null,
            "_view_module": "@jupyter-widgets/base",
            "overflow": null,
            "_model_module_version": "1.2.0",
            "_view_count": null,
            "flex_flow": null,
            "width": null,
            "min_width": null,
            "border": null,
            "align_items": null,
            "bottom": null,
            "_model_module": "@jupyter-widgets/base",
            "top": null,
            "grid_column": null,
            "overflow_y": null,
            "overflow_x": null,
            "grid_auto_flow": null,
            "grid_area": null,
            "grid_template_columns": null,
            "flex": null,
            "_model_name": "LayoutModel",
            "justify_items": null,
            "grid_row": null,
            "max_height": null,
            "align_content": null,
            "visibility": null,
            "align_self": null,
            "height": null,
            "min_height": null,
            "padding": null,
            "grid_auto_rows": null,
            "grid_gap": null,
            "max_width": null,
            "order": null,
            "_view_module_version": "1.2.0",
            "grid_template_areas": null,
            "object_position": null,
            "object_fit": null,
            "grid_auto_columns": null,
            "margin": null,
            "display": null,
            "left": null
          }
        },
        "202c1d3267504e8b80fb8524cfdf2f0c": {
          "model_module": "@jupyter-widgets/controls",
          "model_name": "FloatProgressModel",
          "state": {
            "_view_name": "ProgressView",
            "style": "IPY_MODEL_19f29587421540178ea9da247d6183ad",
            "_dom_classes": [],
            "description": "Downloading: 100%",
            "_model_name": "FloatProgressModel",
            "bar_style": "success",
            "max": 445032417,
            "_view_module": "@jupyter-widgets/controls",
            "_model_module_version": "1.5.0",
            "value": 445032417,
            "_view_count": null,
            "_view_module_version": "1.5.0",
            "orientation": "horizontal",
            "min": 0,
            "description_tooltip": null,
            "_model_module": "@jupyter-widgets/controls",
            "layout": "IPY_MODEL_e6fad7092fd846578ad2602db0770ca0"
          }
        },
        "2f791a6ae52b49249b0f819dce77192f": {
          "model_module": "@jupyter-widgets/controls",
          "model_name": "HTMLModel",
          "state": {
            "_view_name": "HTMLView",
            "style": "IPY_MODEL_4d1ffba54d614ec1b6de24065a88068c",
            "_dom_classes": [],
            "description": "",
            "_model_name": "HTMLModel",
            "placeholder": "​",
            "_view_module": "@jupyter-widgets/controls",
            "_model_module_version": "1.5.0",
            "value": " 445M/445M [00:12&lt;00:00, 36.1MB/s]",
            "_view_count": null,
            "_view_module_version": "1.5.0",
            "description_tooltip": null,
            "_model_module": "@jupyter-widgets/controls",
            "layout": "IPY_MODEL_72d490603908400d98db9fe22faf26fd"
          }
        },
        "19f29587421540178ea9da247d6183ad": {
          "model_module": "@jupyter-widgets/controls",
          "model_name": "ProgressStyleModel",
          "state": {
            "_view_name": "StyleView",
            "_model_name": "ProgressStyleModel",
            "description_width": "initial",
            "_view_module": "@jupyter-widgets/base",
            "_model_module_version": "1.5.0",
            "_view_count": null,
            "_view_module_version": "1.2.0",
            "bar_color": null,
            "_model_module": "@jupyter-widgets/controls"
          }
        },
        "e6fad7092fd846578ad2602db0770ca0": {
          "model_module": "@jupyter-widgets/base",
          "model_name": "LayoutModel",
          "state": {
            "_view_name": "LayoutView",
            "grid_template_rows": null,
            "right": null,
            "justify_content": null,
            "_view_module": "@jupyter-widgets/base",
            "overflow": null,
            "_model_module_version": "1.2.0",
            "_view_count": null,
            "flex_flow": null,
            "width": null,
            "min_width": null,
            "border": null,
            "align_items": null,
            "bottom": null,
            "_model_module": "@jupyter-widgets/base",
            "top": null,
            "grid_column": null,
            "overflow_y": null,
            "overflow_x": null,
            "grid_auto_flow": null,
            "grid_area": null,
            "grid_template_columns": null,
            "flex": null,
            "_model_name": "LayoutModel",
            "justify_items": null,
            "grid_row": null,
            "max_height": null,
            "align_content": null,
            "visibility": null,
            "align_self": null,
            "height": null,
            "min_height": null,
            "padding": null,
            "grid_auto_rows": null,
            "grid_gap": null,
            "max_width": null,
            "order": null,
            "_view_module_version": "1.2.0",
            "grid_template_areas": null,
            "object_position": null,
            "object_fit": null,
            "grid_auto_columns": null,
            "margin": null,
            "display": null,
            "left": null
          }
        },
        "4d1ffba54d614ec1b6de24065a88068c": {
          "model_module": "@jupyter-widgets/controls",
          "model_name": "DescriptionStyleModel",
          "state": {
            "_view_name": "StyleView",
            "_model_name": "DescriptionStyleModel",
            "description_width": "",
            "_view_module": "@jupyter-widgets/base",
            "_model_module_version": "1.5.0",
            "_view_count": null,
            "_view_module_version": "1.2.0",
            "_model_module": "@jupyter-widgets/controls"
          }
        },
        "72d490603908400d98db9fe22faf26fd": {
          "model_module": "@jupyter-widgets/base",
          "model_name": "LayoutModel",
          "state": {
            "_view_name": "LayoutView",
            "grid_template_rows": null,
            "right": null,
            "justify_content": null,
            "_view_module": "@jupyter-widgets/base",
            "overflow": null,
            "_model_module_version": "1.2.0",
            "_view_count": null,
            "flex_flow": null,
            "width": null,
            "min_width": null,
            "border": null,
            "align_items": null,
            "bottom": null,
            "_model_module": "@jupyter-widgets/base",
            "top": null,
            "grid_column": null,
            "overflow_y": null,
            "overflow_x": null,
            "grid_auto_flow": null,
            "grid_area": null,
            "grid_template_columns": null,
            "flex": null,
            "_model_name": "LayoutModel",
            "justify_items": null,
            "grid_row": null,
            "max_height": null,
            "align_content": null,
            "visibility": null,
            "align_self": null,
            "height": null,
            "min_height": null,
            "padding": null,
            "grid_auto_rows": null,
            "grid_gap": null,
            "max_width": null,
            "order": null,
            "_view_module_version": "1.2.0",
            "grid_template_areas": null,
            "object_position": null,
            "object_fit": null,
            "grid_auto_columns": null,
            "margin": null,
            "display": null,
            "left": null
          }
        },
        "0179f6914c4f48b3ba8f14608c00eb9d": {
          "model_module": "@jupyter-widgets/controls",
          "model_name": "HBoxModel",
          "state": {
            "_view_name": "HBoxView",
            "_dom_classes": [],
            "_model_name": "HBoxModel",
            "_view_module": "@jupyter-widgets/controls",
            "_model_module_version": "1.5.0",
            "_view_count": null,
            "_view_module_version": "1.5.0",
            "box_style": "",
            "layout": "IPY_MODEL_12f47d9cc643432e8160e60c3518e665",
            "_model_module": "@jupyter-widgets/controls",
            "children": [
              "IPY_MODEL_66b182611b8c43408bbda0cea82152fe",
              "IPY_MODEL_3fa0959c8979450f819a4482da66924b"
            ]
          }
        },
        "12f47d9cc643432e8160e60c3518e665": {
          "model_module": "@jupyter-widgets/base",
          "model_name": "LayoutModel",
          "state": {
            "_view_name": "LayoutView",
            "grid_template_rows": null,
            "right": null,
            "justify_content": null,
            "_view_module": "@jupyter-widgets/base",
            "overflow": null,
            "_model_module_version": "1.2.0",
            "_view_count": null,
            "flex_flow": null,
            "width": null,
            "min_width": null,
            "border": null,
            "align_items": null,
            "bottom": null,
            "_model_module": "@jupyter-widgets/base",
            "top": null,
            "grid_column": null,
            "overflow_y": null,
            "overflow_x": null,
            "grid_auto_flow": null,
            "grid_area": null,
            "grid_template_columns": null,
            "flex": null,
            "_model_name": "LayoutModel",
            "justify_items": null,
            "grid_row": null,
            "max_height": null,
            "align_content": null,
            "visibility": null,
            "align_self": null,
            "height": null,
            "min_height": null,
            "padding": null,
            "grid_auto_rows": null,
            "grid_gap": null,
            "max_width": null,
            "order": null,
            "_view_module_version": "1.2.0",
            "grid_template_areas": null,
            "object_position": null,
            "object_fit": null,
            "grid_auto_columns": null,
            "margin": null,
            "display": null,
            "left": null
          }
        },
        "66b182611b8c43408bbda0cea82152fe": {
          "model_module": "@jupyter-widgets/controls",
          "model_name": "FloatProgressModel",
          "state": {
            "_view_name": "ProgressView",
            "style": "IPY_MODEL_f7b230e731624e58b667229dc9c8d9df",
            "_dom_classes": [],
            "description": "Downloading: 100%",
            "_model_name": "FloatProgressModel",
            "bar_style": "success",
            "max": 810912,
            "_view_module": "@jupyter-widgets/controls",
            "_model_module_version": "1.5.0",
            "value": 810912,
            "_view_count": null,
            "_view_module_version": "1.5.0",
            "orientation": "horizontal",
            "min": 0,
            "description_tooltip": null,
            "_model_module": "@jupyter-widgets/controls",
            "layout": "IPY_MODEL_6ce4e87123e8499ea5af9e78dac370af"
          }
        },
        "3fa0959c8979450f819a4482da66924b": {
          "model_module": "@jupyter-widgets/controls",
          "model_name": "HTMLModel",
          "state": {
            "_view_name": "HTMLView",
            "style": "IPY_MODEL_c1073011bb7a4c62b05077159c3ba1be",
            "_dom_classes": [],
            "description": "",
            "_model_name": "HTMLModel",
            "placeholder": "​",
            "_view_module": "@jupyter-widgets/controls",
            "_model_module_version": "1.5.0",
            "value": " 811k/811k [00:00&lt;00:00, 1.34MB/s]",
            "_view_count": null,
            "_view_module_version": "1.5.0",
            "description_tooltip": null,
            "_model_module": "@jupyter-widgets/controls",
            "layout": "IPY_MODEL_c6a22606d09b4c9c96872c21d77158e8"
          }
        },
        "f7b230e731624e58b667229dc9c8d9df": {
          "model_module": "@jupyter-widgets/controls",
          "model_name": "ProgressStyleModel",
          "state": {
            "_view_name": "StyleView",
            "_model_name": "ProgressStyleModel",
            "description_width": "initial",
            "_view_module": "@jupyter-widgets/base",
            "_model_module_version": "1.5.0",
            "_view_count": null,
            "_view_module_version": "1.2.0",
            "bar_color": null,
            "_model_module": "@jupyter-widgets/controls"
          }
        },
        "6ce4e87123e8499ea5af9e78dac370af": {
          "model_module": "@jupyter-widgets/base",
          "model_name": "LayoutModel",
          "state": {
            "_view_name": "LayoutView",
            "grid_template_rows": null,
            "right": null,
            "justify_content": null,
            "_view_module": "@jupyter-widgets/base",
            "overflow": null,
            "_model_module_version": "1.2.0",
            "_view_count": null,
            "flex_flow": null,
            "width": null,
            "min_width": null,
            "border": null,
            "align_items": null,
            "bottom": null,
            "_model_module": "@jupyter-widgets/base",
            "top": null,
            "grid_column": null,
            "overflow_y": null,
            "overflow_x": null,
            "grid_auto_flow": null,
            "grid_area": null,
            "grid_template_columns": null,
            "flex": null,
            "_model_name": "LayoutModel",
            "justify_items": null,
            "grid_row": null,
            "max_height": null,
            "align_content": null,
            "visibility": null,
            "align_self": null,
            "height": null,
            "min_height": null,
            "padding": null,
            "grid_auto_rows": null,
            "grid_gap": null,
            "max_width": null,
            "order": null,
            "_view_module_version": "1.2.0",
            "grid_template_areas": null,
            "object_position": null,
            "object_fit": null,
            "grid_auto_columns": null,
            "margin": null,
            "display": null,
            "left": null
          }
        },
        "c1073011bb7a4c62b05077159c3ba1be": {
          "model_module": "@jupyter-widgets/controls",
          "model_name": "DescriptionStyleModel",
          "state": {
            "_view_name": "StyleView",
            "_model_name": "DescriptionStyleModel",
            "description_width": "",
            "_view_module": "@jupyter-widgets/base",
            "_model_module_version": "1.5.0",
            "_view_count": null,
            "_view_module_version": "1.2.0",
            "_model_module": "@jupyter-widgets/controls"
          }
        },
        "c6a22606d09b4c9c96872c21d77158e8": {
          "model_module": "@jupyter-widgets/base",
          "model_name": "LayoutModel",
          "state": {
            "_view_name": "LayoutView",
            "grid_template_rows": null,
            "right": null,
            "justify_content": null,
            "_view_module": "@jupyter-widgets/base",
            "overflow": null,
            "_model_module_version": "1.2.0",
            "_view_count": null,
            "flex_flow": null,
            "width": null,
            "min_width": null,
            "border": null,
            "align_items": null,
            "bottom": null,
            "_model_module": "@jupyter-widgets/base",
            "top": null,
            "grid_column": null,
            "overflow_y": null,
            "overflow_x": null,
            "grid_auto_flow": null,
            "grid_area": null,
            "grid_template_columns": null,
            "flex": null,
            "_model_name": "LayoutModel",
            "justify_items": null,
            "grid_row": null,
            "max_height": null,
            "align_content": null,
            "visibility": null,
            "align_self": null,
            "height": null,
            "min_height": null,
            "padding": null,
            "grid_auto_rows": null,
            "grid_gap": null,
            "max_width": null,
            "order": null,
            "_view_module_version": "1.2.0",
            "grid_template_areas": null,
            "object_position": null,
            "object_fit": null,
            "grid_auto_columns": null,
            "margin": null,
            "display": null,
            "left": null
          }
        },
        "95cd10feca01451fb7b377b443922a43": {
          "model_module": "@jupyter-widgets/controls",
          "model_name": "HBoxModel",
          "state": {
            "_view_name": "HBoxView",
            "_dom_classes": [],
            "_model_name": "HBoxModel",
            "_view_module": "@jupyter-widgets/controls",
            "_model_module_version": "1.5.0",
            "_view_count": null,
            "_view_module_version": "1.5.0",
            "box_style": "",
            "layout": "IPY_MODEL_4ad8e2f1669f487090b0991fc6a0cea6",
            "_model_module": "@jupyter-widgets/controls",
            "children": [
              "IPY_MODEL_267eec9992824e19b815a34c4a8594b5",
              "IPY_MODEL_666d50177223477bafa0c1d823091195"
            ]
          }
        },
        "4ad8e2f1669f487090b0991fc6a0cea6": {
          "model_module": "@jupyter-widgets/base",
          "model_name": "LayoutModel",
          "state": {
            "_view_name": "LayoutView",
            "grid_template_rows": null,
            "right": null,
            "justify_content": null,
            "_view_module": "@jupyter-widgets/base",
            "overflow": null,
            "_model_module_version": "1.2.0",
            "_view_count": null,
            "flex_flow": null,
            "width": null,
            "min_width": null,
            "border": null,
            "align_items": null,
            "bottom": null,
            "_model_module": "@jupyter-widgets/base",
            "top": null,
            "grid_column": null,
            "overflow_y": null,
            "overflow_x": null,
            "grid_auto_flow": null,
            "grid_area": null,
            "grid_template_columns": null,
            "flex": null,
            "_model_name": "LayoutModel",
            "justify_items": null,
            "grid_row": null,
            "max_height": null,
            "align_content": null,
            "visibility": null,
            "align_self": null,
            "height": null,
            "min_height": null,
            "padding": null,
            "grid_auto_rows": null,
            "grid_gap": null,
            "max_width": null,
            "order": null,
            "_view_module_version": "1.2.0",
            "grid_template_areas": null,
            "object_position": null,
            "object_fit": null,
            "grid_auto_columns": null,
            "margin": null,
            "display": null,
            "left": null
          }
        },
        "267eec9992824e19b815a34c4a8594b5": {
          "model_module": "@jupyter-widgets/controls",
          "model_name": "FloatProgressModel",
          "state": {
            "_view_name": "ProgressView",
            "style": "IPY_MODEL_d0b9210b5ceb4715892a21d88d634085",
            "_dom_classes": [],
            "description": "Epoch: 100%",
            "_model_name": "FloatProgressModel",
            "bar_style": "success",
            "max": 2,
            "_view_module": "@jupyter-widgets/controls",
            "_model_module_version": "1.5.0",
            "value": 2,
            "_view_count": null,
            "_view_module_version": "1.5.0",
            "orientation": "horizontal",
            "min": 0,
            "description_tooltip": null,
            "_model_module": "@jupyter-widgets/controls",
            "layout": "IPY_MODEL_fc9623d2ae5a4a46bb1c5202f986be44"
          }
        },
        "666d50177223477bafa0c1d823091195": {
          "model_module": "@jupyter-widgets/controls",
          "model_name": "HTMLModel",
          "state": {
            "_view_name": "HTMLView",
            "style": "IPY_MODEL_e0ab25b74bd74b5a8acfd19d49aab033",
            "_dom_classes": [],
            "description": "",
            "_model_name": "HTMLModel",
            "placeholder": "​",
            "_view_module": "@jupyter-widgets/controls",
            "_model_module_version": "1.5.0",
            "value": " 2/2 [20:05&lt;00:00, 602.63s/it]",
            "_view_count": null,
            "_view_module_version": "1.5.0",
            "description_tooltip": null,
            "_model_module": "@jupyter-widgets/controls",
            "layout": "IPY_MODEL_42dcd79489074f378cfe08c410248f1c"
          }
        },
        "d0b9210b5ceb4715892a21d88d634085": {
          "model_module": "@jupyter-widgets/controls",
          "model_name": "ProgressStyleModel",
          "state": {
            "_view_name": "StyleView",
            "_model_name": "ProgressStyleModel",
            "description_width": "initial",
            "_view_module": "@jupyter-widgets/base",
            "_model_module_version": "1.5.0",
            "_view_count": null,
            "_view_module_version": "1.2.0",
            "bar_color": null,
            "_model_module": "@jupyter-widgets/controls"
          }
        },
        "fc9623d2ae5a4a46bb1c5202f986be44": {
          "model_module": "@jupyter-widgets/base",
          "model_name": "LayoutModel",
          "state": {
            "_view_name": "LayoutView",
            "grid_template_rows": null,
            "right": null,
            "justify_content": null,
            "_view_module": "@jupyter-widgets/base",
            "overflow": null,
            "_model_module_version": "1.2.0",
            "_view_count": null,
            "flex_flow": null,
            "width": null,
            "min_width": null,
            "border": null,
            "align_items": null,
            "bottom": null,
            "_model_module": "@jupyter-widgets/base",
            "top": null,
            "grid_column": null,
            "overflow_y": null,
            "overflow_x": null,
            "grid_auto_flow": null,
            "grid_area": null,
            "grid_template_columns": null,
            "flex": null,
            "_model_name": "LayoutModel",
            "justify_items": null,
            "grid_row": null,
            "max_height": null,
            "align_content": null,
            "visibility": null,
            "align_self": null,
            "height": null,
            "min_height": null,
            "padding": null,
            "grid_auto_rows": null,
            "grid_gap": null,
            "max_width": null,
            "order": null,
            "_view_module_version": "1.2.0",
            "grid_template_areas": null,
            "object_position": null,
            "object_fit": null,
            "grid_auto_columns": null,
            "margin": null,
            "display": null,
            "left": null
          }
        },
        "e0ab25b74bd74b5a8acfd19d49aab033": {
          "model_module": "@jupyter-widgets/controls",
          "model_name": "DescriptionStyleModel",
          "state": {
            "_view_name": "StyleView",
            "_model_name": "DescriptionStyleModel",
            "description_width": "",
            "_view_module": "@jupyter-widgets/base",
            "_model_module_version": "1.5.0",
            "_view_count": null,
            "_view_module_version": "1.2.0",
            "_model_module": "@jupyter-widgets/controls"
          }
        },
        "42dcd79489074f378cfe08c410248f1c": {
          "model_module": "@jupyter-widgets/base",
          "model_name": "LayoutModel",
          "state": {
            "_view_name": "LayoutView",
            "grid_template_rows": null,
            "right": null,
            "justify_content": null,
            "_view_module": "@jupyter-widgets/base",
            "overflow": null,
            "_model_module_version": "1.2.0",
            "_view_count": null,
            "flex_flow": null,
            "width": null,
            "min_width": null,
            "border": null,
            "align_items": null,
            "bottom": null,
            "_model_module": "@jupyter-widgets/base",
            "top": null,
            "grid_column": null,
            "overflow_y": null,
            "overflow_x": null,
            "grid_auto_flow": null,
            "grid_area": null,
            "grid_template_columns": null,
            "flex": null,
            "_model_name": "LayoutModel",
            "justify_items": null,
            "grid_row": null,
            "max_height": null,
            "align_content": null,
            "visibility": null,
            "align_self": null,
            "height": null,
            "min_height": null,
            "padding": null,
            "grid_auto_rows": null,
            "grid_gap": null,
            "max_width": null,
            "order": null,
            "_view_module_version": "1.2.0",
            "grid_template_areas": null,
            "object_position": null,
            "object_fit": null,
            "grid_auto_columns": null,
            "margin": null,
            "display": null,
            "left": null
          }
        },
        "b0028039da764c60be674c625fac9974": {
          "model_module": "@jupyter-widgets/controls",
          "model_name": "HBoxModel",
          "state": {
            "_view_name": "HBoxView",
            "_dom_classes": [],
            "_model_name": "HBoxModel",
            "_view_module": "@jupyter-widgets/controls",
            "_model_module_version": "1.5.0",
            "_view_count": null,
            "_view_module_version": "1.5.0",
            "box_style": "",
            "layout": "IPY_MODEL_602c34db87f74a1cbdfb12445920d7d2",
            "_model_module": "@jupyter-widgets/controls",
            "children": [
              "IPY_MODEL_b20e0d1427424492971fb3715a86b8f8",
              "IPY_MODEL_878f0195d8f04523b4ffce43117c3a12"
            ]
          }
        },
        "602c34db87f74a1cbdfb12445920d7d2": {
          "model_module": "@jupyter-widgets/base",
          "model_name": "LayoutModel",
          "state": {
            "_view_name": "LayoutView",
            "grid_template_rows": null,
            "right": null,
            "justify_content": null,
            "_view_module": "@jupyter-widgets/base",
            "overflow": null,
            "_model_module_version": "1.2.0",
            "_view_count": null,
            "flex_flow": null,
            "width": null,
            "min_width": null,
            "border": null,
            "align_items": null,
            "bottom": null,
            "_model_module": "@jupyter-widgets/base",
            "top": null,
            "grid_column": null,
            "overflow_y": null,
            "overflow_x": null,
            "grid_auto_flow": null,
            "grid_area": null,
            "grid_template_columns": null,
            "flex": null,
            "_model_name": "LayoutModel",
            "justify_items": null,
            "grid_row": null,
            "max_height": null,
            "align_content": null,
            "visibility": null,
            "align_self": null,
            "height": null,
            "min_height": null,
            "padding": null,
            "grid_auto_rows": null,
            "grid_gap": null,
            "max_width": null,
            "order": null,
            "_view_module_version": "1.2.0",
            "grid_template_areas": null,
            "object_position": null,
            "object_fit": null,
            "grid_auto_columns": null,
            "margin": null,
            "display": null,
            "left": null
          }
        },
        "b20e0d1427424492971fb3715a86b8f8": {
          "model_module": "@jupyter-widgets/controls",
          "model_name": "FloatProgressModel",
          "state": {
            "_view_name": "ProgressView",
            "style": "IPY_MODEL_060771e841d24ad98c55dbb039392430",
            "_dom_classes": [],
            "description": "Iteration: 100%",
            "_model_name": "FloatProgressModel",
            "bar_style": "success",
            "max": 1044,
            "_view_module": "@jupyter-widgets/controls",
            "_model_module_version": "1.5.0",
            "value": 1044,
            "_view_count": null,
            "_view_module_version": "1.5.0",
            "orientation": "horizontal",
            "min": 0,
            "description_tooltip": null,
            "_model_module": "@jupyter-widgets/controls",
            "layout": "IPY_MODEL_efbdd51b9baf4a4abd41a1ae4d941f4f"
          }
        },
        "878f0195d8f04523b4ffce43117c3a12": {
          "model_module": "@jupyter-widgets/controls",
          "model_name": "HTMLModel",
          "state": {
            "_view_name": "HTMLView",
            "style": "IPY_MODEL_7e5cc33513904eb0bb39ff9cdb31a0a5",
            "_dom_classes": [],
            "description": "",
            "_model_name": "HTMLModel",
            "placeholder": "​",
            "_view_module": "@jupyter-widgets/controls",
            "_model_module_version": "1.5.0",
            "value": " 1044/1044 [10:01&lt;00:00,  1.73it/s]",
            "_view_count": null,
            "_view_module_version": "1.5.0",
            "description_tooltip": null,
            "_model_module": "@jupyter-widgets/controls",
            "layout": "IPY_MODEL_2b807b89f230402f85bc70c1d494dc08"
          }
        },
        "060771e841d24ad98c55dbb039392430": {
          "model_module": "@jupyter-widgets/controls",
          "model_name": "ProgressStyleModel",
          "state": {
            "_view_name": "StyleView",
            "_model_name": "ProgressStyleModel",
            "description_width": "initial",
            "_view_module": "@jupyter-widgets/base",
            "_model_module_version": "1.5.0",
            "_view_count": null,
            "_view_module_version": "1.2.0",
            "bar_color": null,
            "_model_module": "@jupyter-widgets/controls"
          }
        },
        "efbdd51b9baf4a4abd41a1ae4d941f4f": {
          "model_module": "@jupyter-widgets/base",
          "model_name": "LayoutModel",
          "state": {
            "_view_name": "LayoutView",
            "grid_template_rows": null,
            "right": null,
            "justify_content": null,
            "_view_module": "@jupyter-widgets/base",
            "overflow": null,
            "_model_module_version": "1.2.0",
            "_view_count": null,
            "flex_flow": null,
            "width": null,
            "min_width": null,
            "border": null,
            "align_items": null,
            "bottom": null,
            "_model_module": "@jupyter-widgets/base",
            "top": null,
            "grid_column": null,
            "overflow_y": null,
            "overflow_x": null,
            "grid_auto_flow": null,
            "grid_area": null,
            "grid_template_columns": null,
            "flex": null,
            "_model_name": "LayoutModel",
            "justify_items": null,
            "grid_row": null,
            "max_height": null,
            "align_content": null,
            "visibility": null,
            "align_self": null,
            "height": null,
            "min_height": null,
            "padding": null,
            "grid_auto_rows": null,
            "grid_gap": null,
            "max_width": null,
            "order": null,
            "_view_module_version": "1.2.0",
            "grid_template_areas": null,
            "object_position": null,
            "object_fit": null,
            "grid_auto_columns": null,
            "margin": null,
            "display": null,
            "left": null
          }
        },
        "7e5cc33513904eb0bb39ff9cdb31a0a5": {
          "model_module": "@jupyter-widgets/controls",
          "model_name": "DescriptionStyleModel",
          "state": {
            "_view_name": "StyleView",
            "_model_name": "DescriptionStyleModel",
            "description_width": "",
            "_view_module": "@jupyter-widgets/base",
            "_model_module_version": "1.5.0",
            "_view_count": null,
            "_view_module_version": "1.2.0",
            "_model_module": "@jupyter-widgets/controls"
          }
        },
        "2b807b89f230402f85bc70c1d494dc08": {
          "model_module": "@jupyter-widgets/base",
          "model_name": "LayoutModel",
          "state": {
            "_view_name": "LayoutView",
            "grid_template_rows": null,
            "right": null,
            "justify_content": null,
            "_view_module": "@jupyter-widgets/base",
            "overflow": null,
            "_model_module_version": "1.2.0",
            "_view_count": null,
            "flex_flow": null,
            "width": null,
            "min_width": null,
            "border": null,
            "align_items": null,
            "bottom": null,
            "_model_module": "@jupyter-widgets/base",
            "top": null,
            "grid_column": null,
            "overflow_y": null,
            "overflow_x": null,
            "grid_auto_flow": null,
            "grid_area": null,
            "grid_template_columns": null,
            "flex": null,
            "_model_name": "LayoutModel",
            "justify_items": null,
            "grid_row": null,
            "max_height": null,
            "align_content": null,
            "visibility": null,
            "align_self": null,
            "height": null,
            "min_height": null,
            "padding": null,
            "grid_auto_rows": null,
            "grid_gap": null,
            "max_width": null,
            "order": null,
            "_view_module_version": "1.2.0",
            "grid_template_areas": null,
            "object_position": null,
            "object_fit": null,
            "grid_auto_columns": null,
            "margin": null,
            "display": null,
            "left": null
          }
        },
        "59fe815da4d74315a6580d70edda6bef": {
          "model_module": "@jupyter-widgets/controls",
          "model_name": "HBoxModel",
          "state": {
            "_view_name": "HBoxView",
            "_dom_classes": [],
            "_model_name": "HBoxModel",
            "_view_module": "@jupyter-widgets/controls",
            "_model_module_version": "1.5.0",
            "_view_count": null,
            "_view_module_version": "1.5.0",
            "box_style": "",
            "layout": "IPY_MODEL_c6f8297440ec4c509fb0da7627e4f5dc",
            "_model_module": "@jupyter-widgets/controls",
            "children": [
              "IPY_MODEL_c667edc3732c4ec0b6b8af87c623f614",
              "IPY_MODEL_d0c925ac65594dfda3e5a703f433e15a"
            ]
          }
        },
        "c6f8297440ec4c509fb0da7627e4f5dc": {
          "model_module": "@jupyter-widgets/base",
          "model_name": "LayoutModel",
          "state": {
            "_view_name": "LayoutView",
            "grid_template_rows": null,
            "right": null,
            "justify_content": null,
            "_view_module": "@jupyter-widgets/base",
            "overflow": null,
            "_model_module_version": "1.2.0",
            "_view_count": null,
            "flex_flow": null,
            "width": null,
            "min_width": null,
            "border": null,
            "align_items": null,
            "bottom": null,
            "_model_module": "@jupyter-widgets/base",
            "top": null,
            "grid_column": null,
            "overflow_y": null,
            "overflow_x": null,
            "grid_auto_flow": null,
            "grid_area": null,
            "grid_template_columns": null,
            "flex": null,
            "_model_name": "LayoutModel",
            "justify_items": null,
            "grid_row": null,
            "max_height": null,
            "align_content": null,
            "visibility": null,
            "align_self": null,
            "height": null,
            "min_height": null,
            "padding": null,
            "grid_auto_rows": null,
            "grid_gap": null,
            "max_width": null,
            "order": null,
            "_view_module_version": "1.2.0",
            "grid_template_areas": null,
            "object_position": null,
            "object_fit": null,
            "grid_auto_columns": null,
            "margin": null,
            "display": null,
            "left": null
          }
        },
        "c667edc3732c4ec0b6b8af87c623f614": {
          "model_module": "@jupyter-widgets/controls",
          "model_name": "FloatProgressModel",
          "state": {
            "_view_name": "ProgressView",
            "style": "IPY_MODEL_443fdb91555e47fcb1527aa00356361a",
            "_dom_classes": [],
            "description": "Iteration: 100%",
            "_model_name": "FloatProgressModel",
            "bar_style": "success",
            "max": 1044,
            "_view_module": "@jupyter-widgets/controls",
            "_model_module_version": "1.5.0",
            "value": 1044,
            "_view_count": null,
            "_view_module_version": "1.5.0",
            "orientation": "horizontal",
            "min": 0,
            "description_tooltip": null,
            "_model_module": "@jupyter-widgets/controls",
            "layout": "IPY_MODEL_dbafb453be6b4e11a1dc60717a3e0236"
          }
        },
        "d0c925ac65594dfda3e5a703f433e15a": {
          "model_module": "@jupyter-widgets/controls",
          "model_name": "HTMLModel",
          "state": {
            "_view_name": "HTMLView",
            "style": "IPY_MODEL_02a7f7b911184ae3b134a879454c710f",
            "_dom_classes": [],
            "description": "",
            "_model_name": "HTMLModel",
            "placeholder": "​",
            "_view_module": "@jupyter-widgets/controls",
            "_model_module_version": "1.5.0",
            "value": " 1044/1044 [10:03&lt;00:00,  1.73it/s]",
            "_view_count": null,
            "_view_module_version": "1.5.0",
            "description_tooltip": null,
            "_model_module": "@jupyter-widgets/controls",
            "layout": "IPY_MODEL_fe615287b98048e7888a8219d21d1648"
          }
        },
        "443fdb91555e47fcb1527aa00356361a": {
          "model_module": "@jupyter-widgets/controls",
          "model_name": "ProgressStyleModel",
          "state": {
            "_view_name": "StyleView",
            "_model_name": "ProgressStyleModel",
            "description_width": "initial",
            "_view_module": "@jupyter-widgets/base",
            "_model_module_version": "1.5.0",
            "_view_count": null,
            "_view_module_version": "1.2.0",
            "bar_color": null,
            "_model_module": "@jupyter-widgets/controls"
          }
        },
        "dbafb453be6b4e11a1dc60717a3e0236": {
          "model_module": "@jupyter-widgets/base",
          "model_name": "LayoutModel",
          "state": {
            "_view_name": "LayoutView",
            "grid_template_rows": null,
            "right": null,
            "justify_content": null,
            "_view_module": "@jupyter-widgets/base",
            "overflow": null,
            "_model_module_version": "1.2.0",
            "_view_count": null,
            "flex_flow": null,
            "width": null,
            "min_width": null,
            "border": null,
            "align_items": null,
            "bottom": null,
            "_model_module": "@jupyter-widgets/base",
            "top": null,
            "grid_column": null,
            "overflow_y": null,
            "overflow_x": null,
            "grid_auto_flow": null,
            "grid_area": null,
            "grid_template_columns": null,
            "flex": null,
            "_model_name": "LayoutModel",
            "justify_items": null,
            "grid_row": null,
            "max_height": null,
            "align_content": null,
            "visibility": null,
            "align_self": null,
            "height": null,
            "min_height": null,
            "padding": null,
            "grid_auto_rows": null,
            "grid_gap": null,
            "max_width": null,
            "order": null,
            "_view_module_version": "1.2.0",
            "grid_template_areas": null,
            "object_position": null,
            "object_fit": null,
            "grid_auto_columns": null,
            "margin": null,
            "display": null,
            "left": null
          }
        },
        "02a7f7b911184ae3b134a879454c710f": {
          "model_module": "@jupyter-widgets/controls",
          "model_name": "DescriptionStyleModel",
          "state": {
            "_view_name": "StyleView",
            "_model_name": "DescriptionStyleModel",
            "description_width": "",
            "_view_module": "@jupyter-widgets/base",
            "_model_module_version": "1.5.0",
            "_view_count": null,
            "_view_module_version": "1.2.0",
            "_model_module": "@jupyter-widgets/controls"
          }
        },
        "fe615287b98048e7888a8219d21d1648": {
          "model_module": "@jupyter-widgets/base",
          "model_name": "LayoutModel",
          "state": {
            "_view_name": "LayoutView",
            "grid_template_rows": null,
            "right": null,
            "justify_content": null,
            "_view_module": "@jupyter-widgets/base",
            "overflow": null,
            "_model_module_version": "1.2.0",
            "_view_count": null,
            "flex_flow": null,
            "width": null,
            "min_width": null,
            "border": null,
            "align_items": null,
            "bottom": null,
            "_model_module": "@jupyter-widgets/base",
            "top": null,
            "grid_column": null,
            "overflow_y": null,
            "overflow_x": null,
            "grid_auto_flow": null,
            "grid_area": null,
            "grid_template_columns": null,
            "flex": null,
            "_model_name": "LayoutModel",
            "justify_items": null,
            "grid_row": null,
            "max_height": null,
            "align_content": null,
            "visibility": null,
            "align_self": null,
            "height": null,
            "min_height": null,
            "padding": null,
            "grid_auto_rows": null,
            "grid_gap": null,
            "max_width": null,
            "order": null,
            "_view_module_version": "1.2.0",
            "grid_template_areas": null,
            "object_position": null,
            "object_fit": null,
            "grid_auto_columns": null,
            "margin": null,
            "display": null,
            "left": null
          }
        },
        "5cf09fc355a04f3b90e24679b389a530": {
          "model_module": "@jupyter-widgets/controls",
          "model_name": "HBoxModel",
          "state": {
            "_view_name": "HBoxView",
            "_dom_classes": [],
            "_model_name": "HBoxModel",
            "_view_module": "@jupyter-widgets/controls",
            "_model_module_version": "1.5.0",
            "_view_count": null,
            "_view_module_version": "1.5.0",
            "box_style": "",
            "layout": "IPY_MODEL_42e0a7625915493fa7768d97d73e4262",
            "_model_module": "@jupyter-widgets/controls",
            "children": [
              "IPY_MODEL_26906074120441479f9caa8376294383",
              "IPY_MODEL_ee2c689274c3492b96c136b022e59047"
            ]
          }
        },
        "42e0a7625915493fa7768d97d73e4262": {
          "model_module": "@jupyter-widgets/base",
          "model_name": "LayoutModel",
          "state": {
            "_view_name": "LayoutView",
            "grid_template_rows": null,
            "right": null,
            "justify_content": null,
            "_view_module": "@jupyter-widgets/base",
            "overflow": null,
            "_model_module_version": "1.2.0",
            "_view_count": null,
            "flex_flow": null,
            "width": null,
            "min_width": null,
            "border": null,
            "align_items": null,
            "bottom": null,
            "_model_module": "@jupyter-widgets/base",
            "top": null,
            "grid_column": null,
            "overflow_y": null,
            "overflow_x": null,
            "grid_auto_flow": null,
            "grid_area": null,
            "grid_template_columns": null,
            "flex": null,
            "_model_name": "LayoutModel",
            "justify_items": null,
            "grid_row": null,
            "max_height": null,
            "align_content": null,
            "visibility": null,
            "align_self": null,
            "height": null,
            "min_height": null,
            "padding": null,
            "grid_auto_rows": null,
            "grid_gap": null,
            "max_width": null,
            "order": null,
            "_view_module_version": "1.2.0",
            "grid_template_areas": null,
            "object_position": null,
            "object_fit": null,
            "grid_auto_columns": null,
            "margin": null,
            "display": null,
            "left": null
          }
        },
        "26906074120441479f9caa8376294383": {
          "model_module": "@jupyter-widgets/controls",
          "model_name": "FloatProgressModel",
          "state": {
            "_view_name": "ProgressView",
            "style": "IPY_MODEL_da5bce1324f748a98e5363ed53771468",
            "_dom_classes": [],
            "description": "Evaluation: 100%",
            "_model_name": "FloatProgressModel",
            "bar_style": "success",
            "max": 112,
            "_view_module": "@jupyter-widgets/controls",
            "_model_module_version": "1.5.0",
            "value": 112,
            "_view_count": null,
            "_view_module_version": "1.5.0",
            "orientation": "horizontal",
            "min": 0,
            "description_tooltip": null,
            "_model_module": "@jupyter-widgets/controls",
            "layout": "IPY_MODEL_ad3e891f963c478d8925e98cf8967376"
          }
        },
        "ee2c689274c3492b96c136b022e59047": {
          "model_module": "@jupyter-widgets/controls",
          "model_name": "HTMLModel",
          "state": {
            "_view_name": "HTMLView",
            "style": "IPY_MODEL_9c9d7885e2f549379461b9af3fea4a4e",
            "_dom_classes": [],
            "description": "",
            "_model_name": "HTMLModel",
            "placeholder": "​",
            "_view_module": "@jupyter-widgets/controls",
            "_model_module_version": "1.5.0",
            "value": " 112/112 [01:17&lt;00:00,  1.45it/s]",
            "_view_count": null,
            "_view_module_version": "1.5.0",
            "description_tooltip": null,
            "_model_module": "@jupyter-widgets/controls",
            "layout": "IPY_MODEL_3095b392d3994b6cbc789b22969012d0"
          }
        },
        "da5bce1324f748a98e5363ed53771468": {
          "model_module": "@jupyter-widgets/controls",
          "model_name": "ProgressStyleModel",
          "state": {
            "_view_name": "StyleView",
            "_model_name": "ProgressStyleModel",
            "description_width": "initial",
            "_view_module": "@jupyter-widgets/base",
            "_model_module_version": "1.5.0",
            "_view_count": null,
            "_view_module_version": "1.2.0",
            "bar_color": null,
            "_model_module": "@jupyter-widgets/controls"
          }
        },
        "ad3e891f963c478d8925e98cf8967376": {
          "model_module": "@jupyter-widgets/base",
          "model_name": "LayoutModel",
          "state": {
            "_view_name": "LayoutView",
            "grid_template_rows": null,
            "right": null,
            "justify_content": null,
            "_view_module": "@jupyter-widgets/base",
            "overflow": null,
            "_model_module_version": "1.2.0",
            "_view_count": null,
            "flex_flow": null,
            "width": null,
            "min_width": null,
            "border": null,
            "align_items": null,
            "bottom": null,
            "_model_module": "@jupyter-widgets/base",
            "top": null,
            "grid_column": null,
            "overflow_y": null,
            "overflow_x": null,
            "grid_auto_flow": null,
            "grid_area": null,
            "grid_template_columns": null,
            "flex": null,
            "_model_name": "LayoutModel",
            "justify_items": null,
            "grid_row": null,
            "max_height": null,
            "align_content": null,
            "visibility": null,
            "align_self": null,
            "height": null,
            "min_height": null,
            "padding": null,
            "grid_auto_rows": null,
            "grid_gap": null,
            "max_width": null,
            "order": null,
            "_view_module_version": "1.2.0",
            "grid_template_areas": null,
            "object_position": null,
            "object_fit": null,
            "grid_auto_columns": null,
            "margin": null,
            "display": null,
            "left": null
          }
        },
        "9c9d7885e2f549379461b9af3fea4a4e": {
          "model_module": "@jupyter-widgets/controls",
          "model_name": "DescriptionStyleModel",
          "state": {
            "_view_name": "StyleView",
            "_model_name": "DescriptionStyleModel",
            "description_width": "",
            "_view_module": "@jupyter-widgets/base",
            "_model_module_version": "1.5.0",
            "_view_count": null,
            "_view_module_version": "1.2.0",
            "_model_module": "@jupyter-widgets/controls"
          }
        },
        "3095b392d3994b6cbc789b22969012d0": {
          "model_module": "@jupyter-widgets/base",
          "model_name": "LayoutModel",
          "state": {
            "_view_name": "LayoutView",
            "grid_template_rows": null,
            "right": null,
            "justify_content": null,
            "_view_module": "@jupyter-widgets/base",
            "overflow": null,
            "_model_module_version": "1.2.0",
            "_view_count": null,
            "flex_flow": null,
            "width": null,
            "min_width": null,
            "border": null,
            "align_items": null,
            "bottom": null,
            "_model_module": "@jupyter-widgets/base",
            "top": null,
            "grid_column": null,
            "overflow_y": null,
            "overflow_x": null,
            "grid_auto_flow": null,
            "grid_area": null,
            "grid_template_columns": null,
            "flex": null,
            "_model_name": "LayoutModel",
            "justify_items": null,
            "grid_row": null,
            "max_height": null,
            "align_content": null,
            "visibility": null,
            "align_self": null,
            "height": null,
            "min_height": null,
            "padding": null,
            "grid_auto_rows": null,
            "grid_gap": null,
            "max_width": null,
            "order": null,
            "_view_module_version": "1.2.0",
            "grid_template_areas": null,
            "object_position": null,
            "object_fit": null,
            "grid_auto_columns": null,
            "margin": null,
            "display": null,
            "left": null
          }
        }
      }
    }
  },
  "cells": [
    {
      "cell_type": "markdown",
      "metadata": {
        "id": "view-in-github",
        "colab_type": "text"
      },
      "source": [
        "<a href=\"https://colab.research.google.com/github/msrjdin/TransformerUseCases/blob/master/Text%20Classification/camembert-base.ipynb\" target=\"_parent\"><img src=\"https://colab.research.google.com/assets/colab-badge.svg\" alt=\"Open In Colab\"/></a>"
      ]
    },
    {
      "cell_type": "code",
      "metadata": {
        "id": "Dl-5ZsrBwBiN",
        "colab_type": "code",
        "colab": {
          "base_uri": "https://localhost:8080/",
          "height": 367
        },
        "outputId": "9a4fb9f0-bd9b-4f2d-e508-33612e74f59f"
      },
      "source": [
        "!pip3 install transformers"
      ],
      "execution_count": 6,
      "outputs": [
        {
          "output_type": "stream",
          "text": [
            "Requirement already satisfied: transformers in /usr/local/lib/python3.6/dist-packages (3.1.0)\n",
            "Requirement already satisfied: packaging in /usr/local/lib/python3.6/dist-packages (from transformers) (20.4)\n",
            "Requirement already satisfied: filelock in /usr/local/lib/python3.6/dist-packages (from transformers) (3.0.12)\n",
            "Requirement already satisfied: dataclasses; python_version < \"3.7\" in /usr/local/lib/python3.6/dist-packages (from transformers) (0.7)\n",
            "Requirement already satisfied: tqdm>=4.27 in /usr/local/lib/python3.6/dist-packages (from transformers) (4.41.1)\n",
            "Requirement already satisfied: sacremoses in /usr/local/lib/python3.6/dist-packages (from transformers) (0.0.43)\n",
            "Requirement already satisfied: tokenizers==0.8.1.rc2 in /usr/local/lib/python3.6/dist-packages (from transformers) (0.8.1rc2)\n",
            "Requirement already satisfied: numpy in /usr/local/lib/python3.6/dist-packages (from transformers) (1.18.5)\n",
            "Requirement already satisfied: regex!=2019.12.17 in /usr/local/lib/python3.6/dist-packages (from transformers) (2019.12.20)\n",
            "Requirement already satisfied: requests in /usr/local/lib/python3.6/dist-packages (from transformers) (2.23.0)\n",
            "Requirement already satisfied: sentencepiece!=0.1.92 in /usr/local/lib/python3.6/dist-packages (from transformers) (0.1.91)\n",
            "Requirement already satisfied: pyparsing>=2.0.2 in /usr/local/lib/python3.6/dist-packages (from packaging->transformers) (2.4.7)\n",
            "Requirement already satisfied: six in /usr/local/lib/python3.6/dist-packages (from packaging->transformers) (1.15.0)\n",
            "Requirement already satisfied: click in /usr/local/lib/python3.6/dist-packages (from sacremoses->transformers) (7.1.2)\n",
            "Requirement already satisfied: joblib in /usr/local/lib/python3.6/dist-packages (from sacremoses->transformers) (0.16.0)\n",
            "Requirement already satisfied: chardet<4,>=3.0.2 in /usr/local/lib/python3.6/dist-packages (from requests->transformers) (3.0.4)\n",
            "Requirement already satisfied: idna<3,>=2.5 in /usr/local/lib/python3.6/dist-packages (from requests->transformers) (2.10)\n",
            "Requirement already satisfied: urllib3!=1.25.0,!=1.25.1,<1.26,>=1.21.1 in /usr/local/lib/python3.6/dist-packages (from requests->transformers) (1.24.3)\n",
            "Requirement already satisfied: certifi>=2017.4.17 in /usr/local/lib/python3.6/dist-packages (from requests->transformers) (2020.6.20)\n"
          ],
          "name": "stdout"
        }
      ]
    },
    {
      "cell_type": "code",
      "metadata": {
        "id": "PkAZtZlLtGKP",
        "colab_type": "code",
        "colab": {}
      },
      "source": [
        "import pandas as pd"
      ],
      "execution_count": 7,
      "outputs": []
    },
    {
      "cell_type": "code",
      "metadata": {
        "id": "4JnBJP4jv_W0",
        "colab_type": "code",
        "colab": {}
      },
      "source": [
        "df = pd.read_csv('Data.csv')"
      ],
      "execution_count": 8,
      "outputs": []
    },
    {
      "cell_type": "code",
      "metadata": {
        "id": "aEMyWqYRwDEC",
        "colab_type": "code",
        "colab": {}
      },
      "source": [
        "df.dropna(inplace=True)"
      ],
      "execution_count": 9,
      "outputs": []
    },
    {
      "cell_type": "code",
      "metadata": {
        "id": "x3Tfpl44wKNE",
        "colab_type": "code",
        "colab": {
          "base_uri": "https://localhost:8080/",
          "height": 35
        },
        "outputId": "e60f747b-69d3-404f-e65d-edc29bc09337"
      },
      "source": [
        "df.shape"
      ],
      "execution_count": 10,
      "outputs": [
        {
          "output_type": "execute_result",
          "data": {
            "text/plain": [
              "(23853, 5)"
            ]
          },
          "metadata": {
            "tags": []
          },
          "execution_count": 10
        }
      ]
    },
    {
      "cell_type": "code",
      "metadata": {
        "id": "6H2wprcXwKkc",
        "colab_type": "code",
        "colab": {
          "base_uri": "https://localhost:8080/",
          "height": 202
        },
        "outputId": "138ce968-ae6e-4fbf-ab90-82edac4e3fd1"
      },
      "source": [
        "df.head()"
      ],
      "execution_count": 11,
      "outputs": [
        {
          "output_type": "execute_result",
          "data": {
            "text/html": [
              "<div>\n",
              "<style scoped>\n",
              "    .dataframe tbody tr th:only-of-type {\n",
              "        vertical-align: middle;\n",
              "    }\n",
              "\n",
              "    .dataframe tbody tr th {\n",
              "        vertical-align: top;\n",
              "    }\n",
              "\n",
              "    .dataframe thead th {\n",
              "        text-align: right;\n",
              "    }\n",
              "</style>\n",
              "<table border=\"1\" class=\"dataframe\">\n",
              "  <thead>\n",
              "    <tr style=\"text-align: right;\">\n",
              "      <th></th>\n",
              "      <th>asin</th>\n",
              "      <th>Rating5</th>\n",
              "      <th>title</th>\n",
              "      <th>body1</th>\n",
              "      <th>price</th>\n",
              "    </tr>\n",
              "  </thead>\n",
              "  <tbody>\n",
              "    <tr>\n",
              "      <th>0</th>\n",
              "      <td>B0009N5L7K</td>\n",
              "      <td>0</td>\n",
              "      <td>Stupid phone</td>\n",
              "      <td>BUY SERVICE</td>\n",
              "      <td>49.95</td>\n",
              "    </tr>\n",
              "    <tr>\n",
              "      <th>1</th>\n",
              "      <td>B0009N5L7K</td>\n",
              "      <td>0</td>\n",
              "      <td>Exellent Service</td>\n",
              "      <td>nextel nearly year started time last year Moto...</td>\n",
              "      <td>49.95</td>\n",
              "    </tr>\n",
              "    <tr>\n",
              "      <th>2</th>\n",
              "      <td>B0009N5L7K</td>\n",
              "      <td>1</td>\n",
              "      <td>I love it</td>\n",
              "      <td>got say easy use, hear person talking fine pro...</td>\n",
              "      <td>49.95</td>\n",
              "    </tr>\n",
              "    <tr>\n",
              "      <th>3</th>\n",
              "      <td>B0009N5L7K</td>\n",
              "      <td>0</td>\n",
              "      <td>Phones locked</td>\n",
              "      <td>1 star phones locked pay additional fees unlock</td>\n",
              "      <td>49.95</td>\n",
              "    </tr>\n",
              "    <tr>\n",
              "      <th>4</th>\n",
              "      <td>B0009N5L7K</td>\n",
              "      <td>1</td>\n",
              "      <td>Excellent product</td>\n",
              "      <td>product good. used cell phone one projects wor...</td>\n",
              "      <td>49.95</td>\n",
              "    </tr>\n",
              "  </tbody>\n",
              "</table>\n",
              "</div>"
            ],
            "text/plain": [
              "         asin  ...  price\n",
              "0  B0009N5L7K  ...  49.95\n",
              "1  B0009N5L7K  ...  49.95\n",
              "2  B0009N5L7K  ...  49.95\n",
              "3  B0009N5L7K  ...  49.95\n",
              "4  B0009N5L7K  ...  49.95\n",
              "\n",
              "[5 rows x 5 columns]"
            ]
          },
          "metadata": {
            "tags": []
          },
          "execution_count": 11
        }
      ]
    },
    {
      "cell_type": "code",
      "metadata": {
        "id": "AU8_zZ18wL4T",
        "colab_type": "code",
        "colab": {}
      },
      "source": [
        "df.rename(columns = {'body1':'text', 'Rating5':'5star'}, inplace=True)"
      ],
      "execution_count": 12,
      "outputs": []
    },
    {
      "cell_type": "code",
      "metadata": {
        "id": "A_fwmOjA6z-1",
        "colab_type": "code",
        "colab": {}
      },
      "source": [
        "df.reset_index(drop= True, inplace=True)"
      ],
      "execution_count": 13,
      "outputs": []
    },
    {
      "cell_type": "code",
      "metadata": {
        "id": "5PnUOkH_wad2",
        "colab_type": "code",
        "colab": {
          "base_uri": "https://localhost:8080/",
          "height": 202
        },
        "outputId": "880549d6-c7ff-4523-e767-c3794cac1135"
      },
      "source": [
        "df.head()"
      ],
      "execution_count": 14,
      "outputs": [
        {
          "output_type": "execute_result",
          "data": {
            "text/html": [
              "<div>\n",
              "<style scoped>\n",
              "    .dataframe tbody tr th:only-of-type {\n",
              "        vertical-align: middle;\n",
              "    }\n",
              "\n",
              "    .dataframe tbody tr th {\n",
              "        vertical-align: top;\n",
              "    }\n",
              "\n",
              "    .dataframe thead th {\n",
              "        text-align: right;\n",
              "    }\n",
              "</style>\n",
              "<table border=\"1\" class=\"dataframe\">\n",
              "  <thead>\n",
              "    <tr style=\"text-align: right;\">\n",
              "      <th></th>\n",
              "      <th>asin</th>\n",
              "      <th>5star</th>\n",
              "      <th>title</th>\n",
              "      <th>text</th>\n",
              "      <th>price</th>\n",
              "    </tr>\n",
              "  </thead>\n",
              "  <tbody>\n",
              "    <tr>\n",
              "      <th>0</th>\n",
              "      <td>B0009N5L7K</td>\n",
              "      <td>0</td>\n",
              "      <td>Stupid phone</td>\n",
              "      <td>BUY SERVICE</td>\n",
              "      <td>49.95</td>\n",
              "    </tr>\n",
              "    <tr>\n",
              "      <th>1</th>\n",
              "      <td>B0009N5L7K</td>\n",
              "      <td>0</td>\n",
              "      <td>Exellent Service</td>\n",
              "      <td>nextel nearly year started time last year Moto...</td>\n",
              "      <td>49.95</td>\n",
              "    </tr>\n",
              "    <tr>\n",
              "      <th>2</th>\n",
              "      <td>B0009N5L7K</td>\n",
              "      <td>1</td>\n",
              "      <td>I love it</td>\n",
              "      <td>got say easy use, hear person talking fine pro...</td>\n",
              "      <td>49.95</td>\n",
              "    </tr>\n",
              "    <tr>\n",
              "      <th>3</th>\n",
              "      <td>B0009N5L7K</td>\n",
              "      <td>0</td>\n",
              "      <td>Phones locked</td>\n",
              "      <td>1 star phones locked pay additional fees unlock</td>\n",
              "      <td>49.95</td>\n",
              "    </tr>\n",
              "    <tr>\n",
              "      <th>4</th>\n",
              "      <td>B0009N5L7K</td>\n",
              "      <td>1</td>\n",
              "      <td>Excellent product</td>\n",
              "      <td>product good. used cell phone one projects wor...</td>\n",
              "      <td>49.95</td>\n",
              "    </tr>\n",
              "  </tbody>\n",
              "</table>\n",
              "</div>"
            ],
            "text/plain": [
              "         asin  5star  ...                                               text  price\n",
              "0  B0009N5L7K      0  ...                                        BUY SERVICE  49.95\n",
              "1  B0009N5L7K      0  ...  nextel nearly year started time last year Moto...  49.95\n",
              "2  B0009N5L7K      1  ...  got say easy use, hear person talking fine pro...  49.95\n",
              "3  B0009N5L7K      0  ...    1 star phones locked pay additional fees unlock  49.95\n",
              "4  B0009N5L7K      1  ...  product good. used cell phone one projects wor...  49.95\n",
              "\n",
              "[5 rows x 5 columns]"
            ]
          },
          "metadata": {
            "tags": []
          },
          "execution_count": 14
        }
      ]
    },
    {
      "cell_type": "code",
      "metadata": {
        "id": "yvqe927nwbR4",
        "colab_type": "code",
        "colab": {}
      },
      "source": [
        "from sklearn.model_selection import train_test_split\n",
        "X= df['text'].copy()\n",
        "y= df['5star']\n",
        "X_train, X_test, y_train, y_test = train_test_split(X, y, test_size=0.3, random_state=42)"
      ],
      "execution_count": 15,
      "outputs": []
    },
    {
      "cell_type": "code",
      "metadata": {
        "id": "3X9vOChww3jd",
        "colab_type": "code",
        "colab": {}
      },
      "source": [
        "from transformers import AutoTokenizer, AutoModelForSequenceClassification"
      ],
      "execution_count": 16,
      "outputs": []
    },
    {
      "cell_type": "code",
      "metadata": {
        "id": "2PTxjjclxA8u",
        "colab_type": "code",
        "colab": {
          "base_uri": "https://localhost:8080/",
          "height": 272,
          "referenced_widgets": [
            "bc2d30e3bf064e5a8f934e5778817046",
            "06ab6c153e994b1eabd9dafaddbe3197",
            "f106a444163747b5b3d0e78ad5ffabe7",
            "a7cdf5c704da4bd8812c1b09773fa65b",
            "b2ae559a33d34a97a683e64df0b04f3c",
            "37b07389b38c41e093f5ed97df575dc2",
            "3ba61e4bd7eb4cefb345abd770301188",
            "da762b62e17444029c4d7034beb48e46",
            "b093a937473343b1b70bfbb220f8469d",
            "1bd89b6f4347427dafbdd462665929b9",
            "202c1d3267504e8b80fb8524cfdf2f0c",
            "2f791a6ae52b49249b0f819dce77192f",
            "19f29587421540178ea9da247d6183ad",
            "e6fad7092fd846578ad2602db0770ca0",
            "4d1ffba54d614ec1b6de24065a88068c",
            "72d490603908400d98db9fe22faf26fd",
            "0179f6914c4f48b3ba8f14608c00eb9d",
            "12f47d9cc643432e8160e60c3518e665",
            "66b182611b8c43408bbda0cea82152fe",
            "3fa0959c8979450f819a4482da66924b",
            "f7b230e731624e58b667229dc9c8d9df",
            "6ce4e87123e8499ea5af9e78dac370af",
            "c1073011bb7a4c62b05077159c3ba1be",
            "c6a22606d09b4c9c96872c21d77158e8"
          ]
        },
        "outputId": "3a7069a9-af67-4610-8579-1548ef6259c4"
      },
      "source": [
        "#Setting the model_name runs the model required\n",
        "model_name = \"camembert-base\"\n",
        "pt_model = AutoModelForSequenceClassification.from_pretrained(model_name)\n",
        "tokenizer = AutoTokenizer.from_pretrained(model_name)"
      ],
      "execution_count": 17,
      "outputs": [
        {
          "output_type": "display_data",
          "data": {
            "application/vnd.jupyter.widget-view+json": {
              "model_id": "bc2d30e3bf064e5a8f934e5778817046",
              "version_minor": 0,
              "version_major": 2
            },
            "text/plain": [
              "HBox(children=(FloatProgress(value=0.0, description='Downloading', max=508.0, style=ProgressStyle(description_…"
            ]
          },
          "metadata": {
            "tags": []
          }
        },
        {
          "output_type": "stream",
          "text": [
            "\n"
          ],
          "name": "stdout"
        },
        {
          "output_type": "display_data",
          "data": {
            "application/vnd.jupyter.widget-view+json": {
              "model_id": "b093a937473343b1b70bfbb220f8469d",
              "version_minor": 0,
              "version_major": 2
            },
            "text/plain": [
              "HBox(children=(FloatProgress(value=0.0, description='Downloading', max=445032417.0, style=ProgressStyle(descri…"
            ]
          },
          "metadata": {
            "tags": []
          }
        },
        {
          "output_type": "stream",
          "text": [
            "\n"
          ],
          "name": "stdout"
        },
        {
          "output_type": "stream",
          "text": [
            "Some weights of the model checkpoint at camembert-base were not used when initializing CamembertForSequenceClassification: ['lm_head.bias', 'lm_head.dense.weight', 'lm_head.dense.bias', 'lm_head.layer_norm.weight', 'lm_head.layer_norm.bias', 'lm_head.decoder.weight']\n",
            "- This IS expected if you are initializing CamembertForSequenceClassification from the checkpoint of a model trained on another task or with another architecture (e.g. initializing a BertForSequenceClassification model from a BertForPretraining model).\n",
            "- This IS NOT expected if you are initializing CamembertForSequenceClassification from the checkpoint of a model that you expect to be exactly identical (initializing a BertForSequenceClassification model from a BertForSequenceClassification model).\n",
            "Some weights of CamembertForSequenceClassification were not initialized from the model checkpoint at camembert-base and are newly initialized: ['classifier.dense.weight', 'classifier.dense.bias', 'classifier.out_proj.weight', 'classifier.out_proj.bias']\n",
            "You should probably TRAIN this model on a down-stream task to be able to use it for predictions and inference.\n"
          ],
          "name": "stderr"
        },
        {
          "output_type": "display_data",
          "data": {
            "application/vnd.jupyter.widget-view+json": {
              "model_id": "0179f6914c4f48b3ba8f14608c00eb9d",
              "version_minor": 0,
              "version_major": 2
            },
            "text/plain": [
              "HBox(children=(FloatProgress(value=0.0, description='Downloading', max=810912.0, style=ProgressStyle(descripti…"
            ]
          },
          "metadata": {
            "tags": []
          }
        },
        {
          "output_type": "stream",
          "text": [
            "\n"
          ],
          "name": "stdout"
        }
      ]
    },
    {
      "cell_type": "code",
      "metadata": {
        "id": "X7F3JQJ2xO1D",
        "colab_type": "code",
        "colab": {}
      },
      "source": [
        "tr_enc = tokenizer(list(X_train.values), padding=True, truncation=True, max_length=100)\n",
        "tst_enc = tokenizer(list(X_test.values),  padding=True, truncation=True,  max_length=100)"
      ],
      "execution_count": 18,
      "outputs": []
    },
    {
      "cell_type": "code",
      "metadata": {
        "id": "K3c8fQNn28Ex",
        "colab_type": "code",
        "colab": {}
      },
      "source": [
        "import torch\n",
        "\n",
        "class buildingDataset(torch.utils.data.Dataset):\n",
        "    def __init__(self, encodings, labels):\n",
        "        self.encodings = encodings\n",
        "        self.labels = labels\n",
        "\n",
        "    def __getitem__(self, idx):\n",
        "        item = {key: torch.tensor(val[idx]) for key, val in self.encodings.items()}\n",
        "        item['labels'] = torch.tensor(self.labels[idx])\n",
        "        return item\n",
        "\n",
        "    def __len__(self):\n",
        "        return len(self.labels)\n",
        "\n",
        "train_dataset = buildingDataset(tr_enc, list(y_train.values))\n",
        "val_dataset = buildingDataset(tst_enc, list(y_test.values))"
      ],
      "execution_count": 19,
      "outputs": []
    },
    {
      "cell_type": "code",
      "metadata": {
        "id": "YhkSEqx2x15m",
        "colab_type": "code",
        "colab": {}
      },
      "source": [
        "from sklearn.metrics import accuracy_score, precision_recall_fscore_support\n",
        "\n",
        "def compute_metrics(pred):\n",
        "    labels = pred.label_ids\n",
        "    preds = pred.predictions.argmax(-1)\n",
        "    precision, recall, f1, _ = precision_recall_fscore_support(labels, preds, average='binary')\n",
        "    acc = accuracy_score(labels, preds)\n",
        "    return {\n",
        "        'accuracy': acc,\n",
        "        'f1': f1,\n",
        "        'precision': precision,\n",
        "        'recall': recall\n",
        "    }"
      ],
      "execution_count": 20,
      "outputs": []
    },
    {
      "cell_type": "code",
      "metadata": {
        "id": "BN4NVFeA3a2J",
        "colab_type": "code",
        "colab": {}
      },
      "source": [
        "from transformers import Trainer, TrainingArguments\n",
        "\n",
        "training_args = TrainingArguments(\n",
        "    output_dir='./results',          # output directory\n",
        "    num_train_epochs=2,              # total number of training epochs\n",
        "    per_device_train_batch_size=16,  # batch size per device during training\n",
        "    per_device_eval_batch_size=64,   # batch size for evaluation\n",
        "    warmup_steps=100,                # number of warmup steps for learning rate scheduler\n",
        "    weight_decay=0.01,               # strength of weight decay\n",
        "    logging_dir='./logs',            # directory for storing logs\n",
        "    logging_steps=10\n",
        ")\n",
        "\n",
        "trainer = Trainer(\n",
        "    model=pt_model,                         # the instantiated 🤗 Transformers model to be trained\n",
        "    args=training_args,                  # training arguments, defined above\n",
        "    train_dataset=train_dataset,         # training dataset\n",
        "    eval_dataset=val_dataset,             # evaluation dataset\n",
        "    compute_metrics = compute_metrics\n",
        ")\n"
      ],
      "execution_count": 21,
      "outputs": []
    },
    {
      "cell_type": "code",
      "metadata": {
        "id": "ohr1WQgw5rhJ",
        "colab_type": "code",
        "colab": {
          "base_uri": "https://localhost:8080/",
          "height": 1000,
          "referenced_widgets": [
            "95cd10feca01451fb7b377b443922a43",
            "4ad8e2f1669f487090b0991fc6a0cea6",
            "267eec9992824e19b815a34c4a8594b5",
            "666d50177223477bafa0c1d823091195",
            "d0b9210b5ceb4715892a21d88d634085",
            "fc9623d2ae5a4a46bb1c5202f986be44",
            "e0ab25b74bd74b5a8acfd19d49aab033",
            "42dcd79489074f378cfe08c410248f1c",
            "b0028039da764c60be674c625fac9974",
            "602c34db87f74a1cbdfb12445920d7d2",
            "b20e0d1427424492971fb3715a86b8f8",
            "878f0195d8f04523b4ffce43117c3a12",
            "060771e841d24ad98c55dbb039392430",
            "efbdd51b9baf4a4abd41a1ae4d941f4f",
            "7e5cc33513904eb0bb39ff9cdb31a0a5",
            "2b807b89f230402f85bc70c1d494dc08",
            "59fe815da4d74315a6580d70edda6bef",
            "c6f8297440ec4c509fb0da7627e4f5dc",
            "c667edc3732c4ec0b6b8af87c623f614",
            "d0c925ac65594dfda3e5a703f433e15a",
            "443fdb91555e47fcb1527aa00356361a",
            "dbafb453be6b4e11a1dc60717a3e0236",
            "02a7f7b911184ae3b134a879454c710f",
            "fe615287b98048e7888a8219d21d1648"
          ]
        },
        "outputId": "eed86b95-9b8a-4ae6-dcf6-7cbc14cc5ee7"
      },
      "source": [
        "trainer.train()"
      ],
      "execution_count": 22,
      "outputs": [
        {
          "output_type": "display_data",
          "data": {
            "application/vnd.jupyter.widget-view+json": {
              "model_id": "95cd10feca01451fb7b377b443922a43",
              "version_minor": 0,
              "version_major": 2
            },
            "text/plain": [
              "HBox(children=(FloatProgress(value=0.0, description='Epoch', max=2.0, style=ProgressStyle(description_width='i…"
            ]
          },
          "metadata": {
            "tags": []
          }
        },
        {
          "output_type": "display_data",
          "data": {
            "application/vnd.jupyter.widget-view+json": {
              "model_id": "b0028039da764c60be674c625fac9974",
              "version_minor": 0,
              "version_major": 2
            },
            "text/plain": [
              "HBox(children=(FloatProgress(value=0.0, description='Iteration', max=1044.0, style=ProgressStyle(description_w…"
            ]
          },
          "metadata": {
            "tags": []
          }
        },
        {
          "output_type": "stream",
          "text": [
            "{'loss': 0.693388557434082, 'learning_rate': 5e-06, 'epoch': 0.009578544061302681, 'step': 10}\n",
            "{'loss': 0.6937730789184571, 'learning_rate': 1e-05, 'epoch': 0.019157088122605363, 'step': 20}\n",
            "{'loss': 0.6921953201293946, 'learning_rate': 1.5e-05, 'epoch': 0.028735632183908046, 'step': 30}\n",
            "{'loss': 0.682624626159668, 'learning_rate': 2e-05, 'epoch': 0.038314176245210725, 'step': 40}\n",
            "{'loss': 0.6828376770019531, 'learning_rate': 2.5e-05, 'epoch': 0.04789272030651341, 'step': 50}\n",
            "{'loss': 0.6575931549072266, 'learning_rate': 3e-05, 'epoch': 0.05747126436781609, 'step': 60}\n",
            "{'loss': 0.6668800354003906, 'learning_rate': 3.5e-05, 'epoch': 0.06704980842911877, 'step': 70}\n",
            "{'loss': 0.6121574401855469, 'learning_rate': 4e-05, 'epoch': 0.07662835249042145, 'step': 80}\n",
            "{'loss': 0.5587615966796875, 'learning_rate': 4.5e-05, 'epoch': 0.08620689655172414, 'step': 90}\n",
            "{'loss': 0.57872314453125, 'learning_rate': 5e-05, 'epoch': 0.09578544061302682, 'step': 100}\n",
            "{'loss': 0.6299209594726562, 'learning_rate': 4.9748490945674046e-05, 'epoch': 0.1053639846743295, 'step': 110}\n",
            "{'loss': 0.5191238403320313, 'learning_rate': 4.949698189134809e-05, 'epoch': 0.11494252873563218, 'step': 120}\n",
            "{'loss': 0.5079071044921875, 'learning_rate': 4.9245472837022134e-05, 'epoch': 0.12452107279693486, 'step': 130}\n",
            "{'loss': 0.5183418273925782, 'learning_rate': 4.899396378269618e-05, 'epoch': 0.13409961685823754, 'step': 140}\n",
            "{'loss': 0.6956977844238281, 'learning_rate': 4.874245472837022e-05, 'epoch': 0.14367816091954022, 'step': 150}\n",
            "{'loss': 0.6067619323730469, 'learning_rate': 4.849094567404427e-05, 'epoch': 0.1532567049808429, 'step': 160}\n",
            "{'loss': 0.5010856628417969, 'learning_rate': 4.8239436619718316e-05, 'epoch': 0.16283524904214558, 'step': 170}\n",
            "{'loss': 0.59295654296875, 'learning_rate': 4.798792756539235e-05, 'epoch': 0.1724137931034483, 'step': 180}\n",
            "{'loss': 0.4976936340332031, 'learning_rate': 4.77364185110664e-05, 'epoch': 0.18199233716475097, 'step': 190}\n",
            "{'loss': 0.5426261901855469, 'learning_rate': 4.748490945674045e-05, 'epoch': 0.19157088122605365, 'step': 200}\n",
            "{'loss': 0.525347900390625, 'learning_rate': 4.723340040241449e-05, 'epoch': 0.20114942528735633, 'step': 210}\n",
            "{'loss': 0.6246490478515625, 'learning_rate': 4.6981891348088536e-05, 'epoch': 0.210727969348659, 'step': 220}\n",
            "{'loss': 0.5491653442382812, 'learning_rate': 4.673038229376257e-05, 'epoch': 0.22030651340996169, 'step': 230}\n",
            "{'loss': 0.542083740234375, 'learning_rate': 4.647887323943662e-05, 'epoch': 0.22988505747126436, 'step': 240}\n",
            "{'loss': 0.5870468139648437, 'learning_rate': 4.622736418511067e-05, 'epoch': 0.23946360153256704, 'step': 250}\n",
            "{'loss': 0.5604904174804688, 'learning_rate': 4.597585513078471e-05, 'epoch': 0.24904214559386972, 'step': 260}\n",
            "{'loss': 0.48575439453125, 'learning_rate': 4.5724346076458755e-05, 'epoch': 0.25862068965517243, 'step': 270}\n",
            "{'loss': 0.6069671630859375, 'learning_rate': 4.54728370221328e-05, 'epoch': 0.2681992337164751, 'step': 280}\n",
            "{'loss': 0.5155105590820312, 'learning_rate': 4.522132796780684e-05, 'epoch': 0.2777777777777778, 'step': 290}\n",
            "{'loss': 0.569915771484375, 'learning_rate': 4.4969818913480886e-05, 'epoch': 0.28735632183908044, 'step': 300}\n",
            "{'loss': 0.6032546997070313, 'learning_rate': 4.471830985915493e-05, 'epoch': 0.29693486590038315, 'step': 310}\n",
            "{'loss': 0.5150833129882812, 'learning_rate': 4.446680080482898e-05, 'epoch': 0.3065134099616858, 'step': 320}\n",
            "{'loss': 0.5954635620117188, 'learning_rate': 4.421529175050302e-05, 'epoch': 0.3160919540229885, 'step': 330}\n",
            "{'loss': 0.48901214599609377, 'learning_rate': 4.396378269617706e-05, 'epoch': 0.32567049808429116, 'step': 340}\n",
            "{'loss': 0.5535064697265625, 'learning_rate': 4.3712273641851106e-05, 'epoch': 0.33524904214559387, 'step': 350}\n",
            "{'loss': 0.4905120849609375, 'learning_rate': 4.3460764587525156e-05, 'epoch': 0.3448275862068966, 'step': 360}\n",
            "{'loss': 0.5283035278320313, 'learning_rate': 4.32092555331992e-05, 'epoch': 0.3544061302681992, 'step': 370}\n",
            "{'loss': 0.42894287109375, 'learning_rate': 4.295774647887324e-05, 'epoch': 0.36398467432950193, 'step': 380}\n",
            "{'loss': 0.5024459838867188, 'learning_rate': 4.270623742454729e-05, 'epoch': 0.3735632183908046, 'step': 390}\n",
            "{'loss': 0.516375732421875, 'learning_rate': 4.245472837022133e-05, 'epoch': 0.3831417624521073, 'step': 400}\n",
            "{'loss': 0.5729248046875, 'learning_rate': 4.2203219315895376e-05, 'epoch': 0.39272030651340994, 'step': 410}\n",
            "{'loss': 0.48979034423828127, 'learning_rate': 4.195171026156941e-05, 'epoch': 0.40229885057471265, 'step': 420}\n",
            "{'loss': 0.5045578002929687, 'learning_rate': 4.1700201207243463e-05, 'epoch': 0.4118773946360153, 'step': 430}\n",
            "{'loss': 0.5078826904296875, 'learning_rate': 4.144869215291751e-05, 'epoch': 0.421455938697318, 'step': 440}\n",
            "{'loss': 0.47913665771484376, 'learning_rate': 4.119718309859155e-05, 'epoch': 0.43103448275862066, 'step': 450}\n",
            "{'loss': 0.4398773193359375, 'learning_rate': 4.0945674044265595e-05, 'epoch': 0.44061302681992337, 'step': 460}\n",
            "{'loss': 0.4193023681640625, 'learning_rate': 4.069416498993964e-05, 'epoch': 0.4501915708812261, 'step': 470}\n",
            "{'loss': 0.4707000732421875, 'learning_rate': 4.044265593561368e-05, 'epoch': 0.45977011494252873, 'step': 480}\n",
            "{'loss': 0.5370880126953125, 'learning_rate': 4.019114688128773e-05, 'epoch': 0.46934865900383144, 'step': 490}\n",
            "{'loss': 0.48040771484375, 'learning_rate': 3.993963782696177e-05, 'epoch': 0.4789272030651341, 'step': 500}\n"
          ],
          "name": "stdout"
        },
        {
          "output_type": "stream",
          "text": [
            "/usr/local/lib/python3.6/dist-packages/torch/optim/lr_scheduler.py:200: UserWarning: Please also save or load the state of the optimzer when saving or loading the scheduler.\n",
            "  warnings.warn(SAVE_STATE_WARNING, UserWarning)\n"
          ],
          "name": "stderr"
        },
        {
          "output_type": "stream",
          "text": [
            "{'loss': 0.4633270263671875, 'learning_rate': 3.968812877263582e-05, 'epoch': 0.4885057471264368, 'step': 510}\n",
            "{'loss': 0.525897216796875, 'learning_rate': 3.943661971830986e-05, 'epoch': 0.49808429118773945, 'step': 520}\n",
            "{'loss': 0.4208221435546875, 'learning_rate': 3.91851106639839e-05, 'epoch': 0.5076628352490421, 'step': 530}\n",
            "{'loss': 0.4717376708984375, 'learning_rate': 3.8933601609657946e-05, 'epoch': 0.5172413793103449, 'step': 540}\n",
            "{'loss': 0.415972900390625, 'learning_rate': 3.8682092555332e-05, 'epoch': 0.5268199233716475, 'step': 550}\n",
            "{'loss': 0.4146331787109375, 'learning_rate': 3.843058350100604e-05, 'epoch': 0.5363984674329502, 'step': 560}\n",
            "{'loss': 0.474444580078125, 'learning_rate': 3.817907444668008e-05, 'epoch': 0.5459770114942529, 'step': 570}\n",
            "{'loss': 0.464599609375, 'learning_rate': 3.792756539235413e-05, 'epoch': 0.5555555555555556, 'step': 580}\n",
            "{'loss': 0.5824127197265625, 'learning_rate': 3.767605633802817e-05, 'epoch': 0.5651340996168582, 'step': 590}\n",
            "{'loss': 0.5411895751953125, 'learning_rate': 3.7424547283702216e-05, 'epoch': 0.5747126436781609, 'step': 600}\n",
            "{'loss': 0.4893798828125, 'learning_rate': 3.717303822937626e-05, 'epoch': 0.5842911877394636, 'step': 610}\n",
            "{'loss': 0.47783203125, 'learning_rate': 3.6921529175050304e-05, 'epoch': 0.5938697318007663, 'step': 620}\n",
            "{'loss': 0.42969970703125, 'learning_rate': 3.667002012072435e-05, 'epoch': 0.603448275862069, 'step': 630}\n",
            "{'loss': 0.4764923095703125, 'learning_rate': 3.641851106639839e-05, 'epoch': 0.6130268199233716, 'step': 640}\n",
            "{'loss': 0.470550537109375, 'learning_rate': 3.6167002012072435e-05, 'epoch': 0.6226053639846744, 'step': 650}\n",
            "{'loss': 0.473919677734375, 'learning_rate': 3.5915492957746486e-05, 'epoch': 0.632183908045977, 'step': 660}\n",
            "{'loss': 0.4895172119140625, 'learning_rate': 3.566398390342052e-05, 'epoch': 0.6417624521072797, 'step': 670}\n",
            "{'loss': 0.4419586181640625, 'learning_rate': 3.541247484909457e-05, 'epoch': 0.6513409961685823, 'step': 680}\n",
            "{'loss': 0.45406494140625, 'learning_rate': 3.516096579476861e-05, 'epoch': 0.6609195402298851, 'step': 690}\n",
            "{'loss': 0.3948577880859375, 'learning_rate': 3.490945674044266e-05, 'epoch': 0.6704980842911877, 'step': 700}\n",
            "{'loss': 0.437860107421875, 'learning_rate': 3.4657947686116705e-05, 'epoch': 0.6800766283524904, 'step': 710}\n",
            "{'loss': 0.48704833984375, 'learning_rate': 3.440643863179074e-05, 'epoch': 0.6896551724137931, 'step': 720}\n",
            "{'loss': 0.4660491943359375, 'learning_rate': 3.4154929577464786e-05, 'epoch': 0.6992337164750958, 'step': 730}\n",
            "{'loss': 0.4259429931640625, 'learning_rate': 3.390342052313884e-05, 'epoch': 0.7088122605363985, 'step': 740}\n",
            "{'loss': 0.449591064453125, 'learning_rate': 3.365191146881288e-05, 'epoch': 0.7183908045977011, 'step': 750}\n",
            "{'loss': 0.572198486328125, 'learning_rate': 3.3400402414486925e-05, 'epoch': 0.7279693486590039, 'step': 760}\n",
            "{'loss': 0.4679290771484375, 'learning_rate': 3.314889336016097e-05, 'epoch': 0.7375478927203065, 'step': 770}\n",
            "{'loss': 0.4264617919921875, 'learning_rate': 3.289738430583501e-05, 'epoch': 0.7471264367816092, 'step': 780}\n",
            "{'loss': 0.5050537109375, 'learning_rate': 3.2645875251509056e-05, 'epoch': 0.7567049808429118, 'step': 790}\n",
            "{'loss': 0.3857696533203125, 'learning_rate': 3.23943661971831e-05, 'epoch': 0.7662835249042146, 'step': 800}\n",
            "{'loss': 0.5029510498046875, 'learning_rate': 3.2142857142857144e-05, 'epoch': 0.7758620689655172, 'step': 810}\n",
            "{'loss': 0.4464508056640625, 'learning_rate': 3.189134808853119e-05, 'epoch': 0.7854406130268199, 'step': 820}\n",
            "{'loss': 0.4560455322265625, 'learning_rate': 3.163983903420523e-05, 'epoch': 0.7950191570881227, 'step': 830}\n",
            "{'loss': 0.4676727294921875, 'learning_rate': 3.1388329979879276e-05, 'epoch': 0.8045977011494253, 'step': 840}\n",
            "{'loss': 0.48929443359375, 'learning_rate': 3.113682092555332e-05, 'epoch': 0.814176245210728, 'step': 850}\n",
            "{'loss': 0.383795166015625, 'learning_rate': 3.088531187122737e-05, 'epoch': 0.8237547892720306, 'step': 860}\n",
            "{'loss': 0.3708221435546875, 'learning_rate': 3.063380281690141e-05, 'epoch': 0.8333333333333334, 'step': 870}\n",
            "{'loss': 0.55711669921875, 'learning_rate': 3.0382293762575454e-05, 'epoch': 0.842911877394636, 'step': 880}\n",
            "{'loss': 0.41204833984375, 'learning_rate': 3.0130784708249498e-05, 'epoch': 0.8524904214559387, 'step': 890}\n",
            "{'loss': 0.52374267578125, 'learning_rate': 2.9879275653923545e-05, 'epoch': 0.8620689655172413, 'step': 900}\n",
            "{'loss': 0.4629486083984375, 'learning_rate': 2.962776659959759e-05, 'epoch': 0.8716475095785441, 'step': 910}\n",
            "{'loss': 0.4174835205078125, 'learning_rate': 2.937625754527163e-05, 'epoch': 0.8812260536398467, 'step': 920}\n",
            "{'loss': 0.4549652099609375, 'learning_rate': 2.9124748490945674e-05, 'epoch': 0.8908045977011494, 'step': 930}\n",
            "{'loss': 0.5161163330078125, 'learning_rate': 2.887323943661972e-05, 'epoch': 0.9003831417624522, 'step': 940}\n",
            "{'loss': 0.4189422607421875, 'learning_rate': 2.8621730382293765e-05, 'epoch': 0.9099616858237548, 'step': 950}\n",
            "{'loss': 0.3645111083984375, 'learning_rate': 2.8370221327967812e-05, 'epoch': 0.9195402298850575, 'step': 960}\n",
            "{'loss': 0.438580322265625, 'learning_rate': 2.811871227364185e-05, 'epoch': 0.9291187739463601, 'step': 970}\n",
            "{'loss': 0.454327392578125, 'learning_rate': 2.7867203219315896e-05, 'epoch': 0.9386973180076629, 'step': 980}\n",
            "{'loss': 0.335699462890625, 'learning_rate': 2.761569416498994e-05, 'epoch': 0.9482758620689655, 'step': 990}\n",
            "{'loss': 0.4608673095703125, 'learning_rate': 2.7364185110663988e-05, 'epoch': 0.9578544061302682, 'step': 1000}\n",
            "{'loss': 0.4531982421875, 'learning_rate': 2.711267605633803e-05, 'epoch': 0.9674329501915708, 'step': 1010}\n",
            "{'loss': 0.423345947265625, 'learning_rate': 2.6861167002012072e-05, 'epoch': 0.9770114942528736, 'step': 1020}\n",
            "{'loss': 0.478741455078125, 'learning_rate': 2.660965794768612e-05, 'epoch': 0.9865900383141762, 'step': 1030}\n",
            "{'loss': 0.433929443359375, 'learning_rate': 2.6358148893360163e-05, 'epoch': 0.9961685823754789, 'step': 1040}\n",
            "\n"
          ],
          "name": "stdout"
        },
        {
          "output_type": "display_data",
          "data": {
            "application/vnd.jupyter.widget-view+json": {
              "model_id": "59fe815da4d74315a6580d70edda6bef",
              "version_minor": 0,
              "version_major": 2
            },
            "text/plain": [
              "HBox(children=(FloatProgress(value=0.0, description='Iteration', max=1044.0, style=ProgressStyle(description_w…"
            ]
          },
          "metadata": {
            "tags": []
          }
        },
        {
          "output_type": "stream",
          "text": [
            "{'loss': 0.39578857421875, 'learning_rate': 2.6106639839034207e-05, 'epoch': 1.0057471264367817, 'step': 1050}\n",
            "{'loss': 0.3864501953125, 'learning_rate': 2.5855130784708247e-05, 'epoch': 1.0153256704980842, 'step': 1060}\n",
            "{'loss': 0.372650146484375, 'learning_rate': 2.5603621730382295e-05, 'epoch': 1.024904214559387, 'step': 1070}\n",
            "{'loss': 0.37137451171875, 'learning_rate': 2.535211267605634e-05, 'epoch': 1.0344827586206897, 'step': 1080}\n",
            "{'loss': 0.4374755859375, 'learning_rate': 2.5100603621730386e-05, 'epoch': 1.0440613026819923, 'step': 1090}\n",
            "{'loss': 0.371270751953125, 'learning_rate': 2.4849094567404426e-05, 'epoch': 1.053639846743295, 'step': 1100}\n",
            "{'loss': 0.4509521484375, 'learning_rate': 2.4597585513078473e-05, 'epoch': 1.0632183908045978, 'step': 1110}\n",
            "{'loss': 0.38736572265625, 'learning_rate': 2.4346076458752517e-05, 'epoch': 1.0727969348659003, 'step': 1120}\n",
            "{'loss': 0.331951904296875, 'learning_rate': 2.409456740442656e-05, 'epoch': 1.082375478927203, 'step': 1130}\n",
            "{'loss': 0.402947998046875, 'learning_rate': 2.3843058350100605e-05, 'epoch': 1.0919540229885056, 'step': 1140}\n",
            "{'loss': 0.486883544921875, 'learning_rate': 2.359154929577465e-05, 'epoch': 1.1015325670498084, 'step': 1150}\n",
            "{'loss': 0.403558349609375, 'learning_rate': 2.3340040241448693e-05, 'epoch': 1.1111111111111112, 'step': 1160}\n",
            "{'loss': 0.416827392578125, 'learning_rate': 2.308853118712274e-05, 'epoch': 1.1206896551724137, 'step': 1170}\n",
            "{'loss': 0.330322265625, 'learning_rate': 2.283702213279678e-05, 'epoch': 1.1302681992337165, 'step': 1180}\n",
            "{'loss': 0.413653564453125, 'learning_rate': 2.2585513078470828e-05, 'epoch': 1.1398467432950192, 'step': 1190}\n",
            "{'loss': 0.41429443359375, 'learning_rate': 2.2334004024144868e-05, 'epoch': 1.1494252873563218, 'step': 1200}\n",
            "{'loss': 0.440509033203125, 'learning_rate': 2.2082494969818915e-05, 'epoch': 1.1590038314176245, 'step': 1210}\n",
            "{'loss': 0.409527587890625, 'learning_rate': 2.1830985915492956e-05, 'epoch': 1.1685823754789273, 'step': 1220}\n",
            "{'loss': 0.298974609375, 'learning_rate': 2.1579476861167003e-05, 'epoch': 1.1781609195402298, 'step': 1230}\n",
            "{'loss': 0.499432373046875, 'learning_rate': 2.1327967806841047e-05, 'epoch': 1.1877394636015326, 'step': 1240}\n",
            "{'loss': 0.413714599609375, 'learning_rate': 2.107645875251509e-05, 'epoch': 1.1973180076628354, 'step': 1250}\n",
            "{'loss': 0.39466552734375, 'learning_rate': 2.0824949698189135e-05, 'epoch': 1.206896551724138, 'step': 1260}\n",
            "{'loss': 0.439105224609375, 'learning_rate': 2.057344064386318e-05, 'epoch': 1.2164750957854407, 'step': 1270}\n",
            "{'loss': 0.353057861328125, 'learning_rate': 2.0321931589537226e-05, 'epoch': 1.2260536398467432, 'step': 1280}\n",
            "{'loss': 0.37315673828125, 'learning_rate': 2.007042253521127e-05, 'epoch': 1.235632183908046, 'step': 1290}\n",
            "{'loss': 0.342706298828125, 'learning_rate': 1.9818913480885314e-05, 'epoch': 1.2452107279693487, 'step': 1300}\n",
            "{'loss': 0.451202392578125, 'learning_rate': 1.9567404426559357e-05, 'epoch': 1.2547892720306513, 'step': 1310}\n",
            "{'loss': 0.355804443359375, 'learning_rate': 1.93158953722334e-05, 'epoch': 1.264367816091954, 'step': 1320}\n",
            "{'loss': 0.447918701171875, 'learning_rate': 1.9064386317907445e-05, 'epoch': 1.2739463601532566, 'step': 1330}\n",
            "{'loss': 0.37198486328125, 'learning_rate': 1.8812877263581492e-05, 'epoch': 1.2835249042145593, 'step': 1340}\n",
            "{'loss': 0.4240234375, 'learning_rate': 1.8561368209255533e-05, 'epoch': 1.293103448275862, 'step': 1350}\n",
            "{'loss': 0.415234375, 'learning_rate': 1.830985915492958e-05, 'epoch': 1.3026819923371646, 'step': 1360}\n",
            "{'loss': 0.349591064453125, 'learning_rate': 1.805835010060362e-05, 'epoch': 1.3122605363984674, 'step': 1370}\n",
            "{'loss': 0.390435791015625, 'learning_rate': 1.7806841046277668e-05, 'epoch': 1.3218390804597702, 'step': 1380}\n",
            "{'loss': 0.4917236328125, 'learning_rate': 1.7555331991951712e-05, 'epoch': 1.3314176245210727, 'step': 1390}\n",
            "{'loss': 0.393585205078125, 'learning_rate': 1.7303822937625756e-05, 'epoch': 1.3409961685823755, 'step': 1400}\n",
            "{'loss': 0.40447998046875, 'learning_rate': 1.70523138832998e-05, 'epoch': 1.3505747126436782, 'step': 1410}\n",
            "{'loss': 0.352838134765625, 'learning_rate': 1.6800804828973843e-05, 'epoch': 1.3601532567049808, 'step': 1420}\n",
            "{'loss': 0.395526123046875, 'learning_rate': 1.6549295774647887e-05, 'epoch': 1.3697318007662835, 'step': 1430}\n",
            "{'loss': 0.425506591796875, 'learning_rate': 1.6297786720321935e-05, 'epoch': 1.3793103448275863, 'step': 1440}\n",
            "{'loss': 0.33826904296875, 'learning_rate': 1.6046277665995975e-05, 'epoch': 1.3888888888888888, 'step': 1450}\n",
            "{'loss': 0.419940185546875, 'learning_rate': 1.5794768611670022e-05, 'epoch': 1.3984674329501916, 'step': 1460}\n",
            "{'loss': 0.3013671875, 'learning_rate': 1.5543259557344063e-05, 'epoch': 1.4080459770114944, 'step': 1470}\n",
            "{'loss': 0.31461181640625, 'learning_rate': 1.529175050301811e-05, 'epoch': 1.417624521072797, 'step': 1480}\n",
            "{'loss': 0.4447021484375, 'learning_rate': 1.5040241448692156e-05, 'epoch': 1.4272030651340997, 'step': 1490}\n",
            "{'loss': 0.423052978515625, 'learning_rate': 1.4788732394366198e-05, 'epoch': 1.4367816091954024, 'step': 1500}\n",
            "{'loss': 0.3638916015625, 'learning_rate': 1.4537223340040243e-05, 'epoch': 1.446360153256705, 'step': 1510}\n",
            "{'loss': 0.46923828125, 'learning_rate': 1.4285714285714285e-05, 'epoch': 1.4559386973180077, 'step': 1520}\n",
            "{'loss': 0.335107421875, 'learning_rate': 1.4034205231388331e-05, 'epoch': 1.4655172413793103, 'step': 1530}\n",
            "{'loss': 0.29281005859375, 'learning_rate': 1.3782696177062373e-05, 'epoch': 1.475095785440613, 'step': 1540}\n",
            "{'loss': 0.432501220703125, 'learning_rate': 1.3531187122736419e-05, 'epoch': 1.4846743295019156, 'step': 1550}\n",
            "{'loss': 0.51719970703125, 'learning_rate': 1.3279678068410464e-05, 'epoch': 1.4942528735632183, 'step': 1560}\n",
            "{'loss': 0.330792236328125, 'learning_rate': 1.3028169014084506e-05, 'epoch': 1.503831417624521, 'step': 1570}\n",
            "{'loss': 0.3699462890625, 'learning_rate': 1.2776659959758552e-05, 'epoch': 1.5134099616858236, 'step': 1580}\n",
            "{'loss': 0.45889892578125, 'learning_rate': 1.2525150905432594e-05, 'epoch': 1.5229885057471264, 'step': 1590}\n",
            "{'loss': 0.31226806640625, 'learning_rate': 1.227364185110664e-05, 'epoch': 1.5325670498084292, 'step': 1600}\n",
            "{'loss': 0.364215087890625, 'learning_rate': 1.2022132796780684e-05, 'epoch': 1.5421455938697317, 'step': 1610}\n",
            "{'loss': 0.398614501953125, 'learning_rate': 1.177062374245473e-05, 'epoch': 1.5517241379310345, 'step': 1620}\n",
            "{'loss': 0.34398193359375, 'learning_rate': 1.1519114688128773e-05, 'epoch': 1.5613026819923372, 'step': 1630}\n",
            "{'loss': 0.4184814453125, 'learning_rate': 1.1267605633802817e-05, 'epoch': 1.5708812260536398, 'step': 1640}\n",
            "{'loss': 0.442987060546875, 'learning_rate': 1.1016096579476862e-05, 'epoch': 1.5804597701149425, 'step': 1650}\n",
            "{'loss': 0.336871337890625, 'learning_rate': 1.0764587525150906e-05, 'epoch': 1.5900383141762453, 'step': 1660}\n",
            "{'loss': 0.305474853515625, 'learning_rate': 1.051307847082495e-05, 'epoch': 1.5996168582375478, 'step': 1670}\n",
            "{'loss': 0.33134765625, 'learning_rate': 1.0261569416498996e-05, 'epoch': 1.6091954022988506, 'step': 1680}\n",
            "{'loss': 0.407843017578125, 'learning_rate': 1.001006036217304e-05, 'epoch': 1.6187739463601534, 'step': 1690}\n",
            "{'loss': 0.378631591796875, 'learning_rate': 9.758551307847083e-06, 'epoch': 1.628352490421456, 'step': 1700}\n",
            "{'loss': 0.444549560546875, 'learning_rate': 9.507042253521127e-06, 'epoch': 1.6379310344827587, 'step': 1710}\n",
            "{'loss': 0.31290283203125, 'learning_rate': 9.255533199195171e-06, 'epoch': 1.6475095785440614, 'step': 1720}\n",
            "{'loss': 0.42904052734375, 'learning_rate': 9.004024144869217e-06, 'epoch': 1.657088122605364, 'step': 1730}\n",
            "{'loss': 0.457952880859375, 'learning_rate': 8.75251509054326e-06, 'epoch': 1.6666666666666665, 'step': 1740}\n",
            "{'loss': 0.378961181640625, 'learning_rate': 8.501006036217304e-06, 'epoch': 1.6762452107279695, 'step': 1750}\n",
            "{'loss': 0.4105712890625, 'learning_rate': 8.249496981891348e-06, 'epoch': 1.685823754789272, 'step': 1760}\n",
            "{'loss': 0.42745361328125, 'learning_rate': 7.997987927565392e-06, 'epoch': 1.6954022988505746, 'step': 1770}\n",
            "{'loss': 0.3335205078125, 'learning_rate': 7.746478873239436e-06, 'epoch': 1.7049808429118773, 'step': 1780}\n",
            "{'loss': 0.383062744140625, 'learning_rate': 7.494969818913482e-06, 'epoch': 1.71455938697318, 'step': 1790}\n",
            "{'loss': 0.41746826171875, 'learning_rate': 7.2434607645875255e-06, 'epoch': 1.7241379310344827, 'step': 1800}\n",
            "{'loss': 0.369403076171875, 'learning_rate': 6.991951710261569e-06, 'epoch': 1.7337164750957854, 'step': 1810}\n",
            "{'loss': 0.40604248046875, 'learning_rate': 6.740442655935614e-06, 'epoch': 1.7432950191570882, 'step': 1820}\n",
            "{'loss': 0.310894775390625, 'learning_rate': 6.488933601609658e-06, 'epoch': 1.7528735632183907, 'step': 1830}\n",
            "{'loss': 0.399029541015625, 'learning_rate': 6.237424547283703e-06, 'epoch': 1.7624521072796935, 'step': 1840}\n",
            "{'loss': 0.45030517578125, 'learning_rate': 5.9859154929577465e-06, 'epoch': 1.7720306513409962, 'step': 1850}\n",
            "{'loss': 0.36318359375, 'learning_rate': 5.734406438631791e-06, 'epoch': 1.7816091954022988, 'step': 1860}\n",
            "{'loss': 0.45068359375, 'learning_rate': 5.482897384305835e-06, 'epoch': 1.7911877394636015, 'step': 1870}\n",
            "{'loss': 0.324493408203125, 'learning_rate': 5.23138832997988e-06, 'epoch': 1.8007662835249043, 'step': 1880}\n",
            "{'loss': 0.28953857421875, 'learning_rate': 4.979879275653924e-06, 'epoch': 1.8103448275862069, 'step': 1890}\n",
            "{'loss': 0.409210205078125, 'learning_rate': 4.7283702213279675e-06, 'epoch': 1.8199233716475096, 'step': 1900}\n",
            "{'loss': 0.31282958984375, 'learning_rate': 4.476861167002012e-06, 'epoch': 1.8295019157088124, 'step': 1910}\n",
            "{'loss': 0.3777587890625, 'learning_rate': 4.225352112676056e-06, 'epoch': 1.839080459770115, 'step': 1920}\n",
            "{'loss': 0.35880126953125, 'learning_rate': 3.973843058350101e-06, 'epoch': 1.8486590038314177, 'step': 1930}\n",
            "{'loss': 0.37777099609375, 'learning_rate': 3.722334004024145e-06, 'epoch': 1.8582375478927204, 'step': 1940}\n",
            "{'loss': 0.371881103515625, 'learning_rate': 3.470824949698189e-06, 'epoch': 1.867816091954023, 'step': 1950}\n",
            "{'loss': 0.3973388671875, 'learning_rate': 3.2193158953722337e-06, 'epoch': 1.8773946360153255, 'step': 1960}\n",
            "{'loss': 0.375030517578125, 'learning_rate': 2.967806841046278e-06, 'epoch': 1.8869731800766285, 'step': 1970}\n",
            "{'loss': 0.37891845703125, 'learning_rate': 2.7162977867203223e-06, 'epoch': 1.896551724137931, 'step': 1980}\n",
            "{'loss': 0.325341796875, 'learning_rate': 2.464788732394366e-06, 'epoch': 1.9061302681992336, 'step': 1990}\n",
            "{'loss': 0.246197509765625, 'learning_rate': 2.2132796780684104e-06, 'epoch': 1.9157088122605364, 'step': 2000}\n",
            "{'loss': 0.36807861328125, 'learning_rate': 1.9617706237424547e-06, 'epoch': 1.9252873563218391, 'step': 2010}\n",
            "{'loss': 0.436444091796875, 'learning_rate': 1.7102615694164992e-06, 'epoch': 1.9348659003831417, 'step': 2020}\n",
            "{'loss': 0.304278564453125, 'learning_rate': 1.4587525150905433e-06, 'epoch': 1.9444444444444444, 'step': 2030}\n",
            "{'loss': 0.3254150390625, 'learning_rate': 1.2072434607645876e-06, 'epoch': 1.9540229885057472, 'step': 2040}\n",
            "{'loss': 0.385211181640625, 'learning_rate': 9.557344064386319e-07, 'epoch': 1.9636015325670497, 'step': 2050}\n",
            "{'loss': 0.427301025390625, 'learning_rate': 7.042253521126761e-07, 'epoch': 1.9731800766283525, 'step': 2060}\n",
            "{'loss': 0.40213623046875, 'learning_rate': 4.5271629778672034e-07, 'epoch': 1.9827586206896552, 'step': 2070}\n",
            "{'loss': 0.31953125, 'learning_rate': 2.012072434607646e-07, 'epoch': 1.9923371647509578, 'step': 2080}\n",
            "\n",
            "\n"
          ],
          "name": "stdout"
        },
        {
          "output_type": "execute_result",
          "data": {
            "text/plain": [
              "TrainOutput(global_step=2088, training_loss=0.4453107753475964)"
            ]
          },
          "metadata": {
            "tags": []
          },
          "execution_count": 22
        }
      ]
    },
    {
      "cell_type": "code",
      "metadata": {
        "id": "rF0HrKDgMa9s",
        "colab_type": "code",
        "colab": {
          "base_uri": "https://localhost:8080/",
          "height": 208,
          "referenced_widgets": [
            "5cf09fc355a04f3b90e24679b389a530",
            "42e0a7625915493fa7768d97d73e4262",
            "26906074120441479f9caa8376294383",
            "ee2c689274c3492b96c136b022e59047",
            "da5bce1324f748a98e5363ed53771468",
            "ad3e891f963c478d8925e98cf8967376",
            "9c9d7885e2f549379461b9af3fea4a4e",
            "3095b392d3994b6cbc789b22969012d0"
          ]
        },
        "outputId": "ca9ac675-747e-427e-f8d9-3500cf2fba75"
      },
      "source": [
        "trainer.evaluate()"
      ],
      "execution_count": 24,
      "outputs": [
        {
          "output_type": "display_data",
          "data": {
            "application/vnd.jupyter.widget-view+json": {
              "model_id": "5cf09fc355a04f3b90e24679b389a530",
              "version_minor": 0,
              "version_major": 2
            },
            "text/plain": [
              "HBox(children=(FloatProgress(value=0.0, description='Evaluation', max=112.0, style=ProgressStyle(description_w…"
            ]
          },
          "metadata": {
            "tags": []
          }
        },
        {
          "output_type": "stream",
          "text": [
            "\n",
            "{'eval_loss': 0.4220174372596005, 'eval_accuracy': 0.8235047512576859, 'eval_f1': 0.8351820435860631, 'eval_precision': 0.8022060666833793, 'eval_recall': 0.8709853021230267, 'epoch': 2.0, 'step': 2088}\n"
          ],
          "name": "stdout"
        },
        {
          "output_type": "execute_result",
          "data": {
            "text/plain": [
              "{'epoch': 2.0,\n",
              " 'eval_accuracy': 0.8235047512576859,\n",
              " 'eval_f1': 0.8351820435860631,\n",
              " 'eval_loss': 0.4220174372596005,\n",
              " 'eval_precision': 0.8022060666833793,\n",
              " 'eval_recall': 0.8709853021230267}"
            ]
          },
          "metadata": {
            "tags": []
          },
          "execution_count": 24
        }
      ]
    }
  ]
}