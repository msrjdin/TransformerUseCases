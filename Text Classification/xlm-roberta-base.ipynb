{
  "nbformat": 4,
  "nbformat_minor": 0,
  "metadata": {
    "colab": {
      "name": "Text Classification Template",
      "provenance": [],
      "include_colab_link": true
    },
    "kernelspec": {
      "name": "python3",
      "display_name": "Python 3"
    },
    "accelerator": "GPU",
    "widgets": {
      "application/vnd.jupyter.widget-state+json": {
        "938364b8fa4c493b88adf94f3895e521": {
          "model_module": "@jupyter-widgets/controls",
          "model_name": "HBoxModel",
          "state": {
            "_view_name": "HBoxView",
            "_dom_classes": [],
            "_model_name": "HBoxModel",
            "_view_module": "@jupyter-widgets/controls",
            "_model_module_version": "1.5.0",
            "_view_count": null,
            "_view_module_version": "1.5.0",
            "box_style": "",
            "layout": "IPY_MODEL_0bf403d38af24a9092dc3b03dc2b940b",
            "_model_module": "@jupyter-widgets/controls",
            "children": [
              "IPY_MODEL_c9d9dc8a5d3c4bde857dcf4c2cff7fd6",
              "IPY_MODEL_56aed51257c547ed8ebde33a0d0a35ea"
            ]
          }
        },
        "0bf403d38af24a9092dc3b03dc2b940b": {
          "model_module": "@jupyter-widgets/base",
          "model_name": "LayoutModel",
          "state": {
            "_view_name": "LayoutView",
            "grid_template_rows": null,
            "right": null,
            "justify_content": null,
            "_view_module": "@jupyter-widgets/base",
            "overflow": null,
            "_model_module_version": "1.2.0",
            "_view_count": null,
            "flex_flow": null,
            "width": null,
            "min_width": null,
            "border": null,
            "align_items": null,
            "bottom": null,
            "_model_module": "@jupyter-widgets/base",
            "top": null,
            "grid_column": null,
            "overflow_y": null,
            "overflow_x": null,
            "grid_auto_flow": null,
            "grid_area": null,
            "grid_template_columns": null,
            "flex": null,
            "_model_name": "LayoutModel",
            "justify_items": null,
            "grid_row": null,
            "max_height": null,
            "align_content": null,
            "visibility": null,
            "align_self": null,
            "height": null,
            "min_height": null,
            "padding": null,
            "grid_auto_rows": null,
            "grid_gap": null,
            "max_width": null,
            "order": null,
            "_view_module_version": "1.2.0",
            "grid_template_areas": null,
            "object_position": null,
            "object_fit": null,
            "grid_auto_columns": null,
            "margin": null,
            "display": null,
            "left": null
          }
        },
        "c9d9dc8a5d3c4bde857dcf4c2cff7fd6": {
          "model_module": "@jupyter-widgets/controls",
          "model_name": "FloatProgressModel",
          "state": {
            "_view_name": "ProgressView",
            "style": "IPY_MODEL_8e64985e6d38474e8c697af09df46978",
            "_dom_classes": [],
            "description": "Downloading: 100%",
            "_model_name": "FloatProgressModel",
            "bar_style": "success",
            "max": 512,
            "_view_module": "@jupyter-widgets/controls",
            "_model_module_version": "1.5.0",
            "value": 512,
            "_view_count": null,
            "_view_module_version": "1.5.0",
            "orientation": "horizontal",
            "min": 0,
            "description_tooltip": null,
            "_model_module": "@jupyter-widgets/controls",
            "layout": "IPY_MODEL_233fdd42d57e41db9935a7b37f8e14dd"
          }
        },
        "56aed51257c547ed8ebde33a0d0a35ea": {
          "model_module": "@jupyter-widgets/controls",
          "model_name": "HTMLModel",
          "state": {
            "_view_name": "HTMLView",
            "style": "IPY_MODEL_ccab389d88a948bdb4d2bd6368b45fe5",
            "_dom_classes": [],
            "description": "",
            "_model_name": "HTMLModel",
            "placeholder": "​",
            "_view_module": "@jupyter-widgets/controls",
            "_model_module_version": "1.5.0",
            "value": " 512/512 [00:00&lt;00:00, 2.82kB/s]",
            "_view_count": null,
            "_view_module_version": "1.5.0",
            "description_tooltip": null,
            "_model_module": "@jupyter-widgets/controls",
            "layout": "IPY_MODEL_cc98dab9a0294cf8a40d1107e9aa2db0"
          }
        },
        "8e64985e6d38474e8c697af09df46978": {
          "model_module": "@jupyter-widgets/controls",
          "model_name": "ProgressStyleModel",
          "state": {
            "_view_name": "StyleView",
            "_model_name": "ProgressStyleModel",
            "description_width": "initial",
            "_view_module": "@jupyter-widgets/base",
            "_model_module_version": "1.5.0",
            "_view_count": null,
            "_view_module_version": "1.2.0",
            "bar_color": null,
            "_model_module": "@jupyter-widgets/controls"
          }
        },
        "233fdd42d57e41db9935a7b37f8e14dd": {
          "model_module": "@jupyter-widgets/base",
          "model_name": "LayoutModel",
          "state": {
            "_view_name": "LayoutView",
            "grid_template_rows": null,
            "right": null,
            "justify_content": null,
            "_view_module": "@jupyter-widgets/base",
            "overflow": null,
            "_model_module_version": "1.2.0",
            "_view_count": null,
            "flex_flow": null,
            "width": null,
            "min_width": null,
            "border": null,
            "align_items": null,
            "bottom": null,
            "_model_module": "@jupyter-widgets/base",
            "top": null,
            "grid_column": null,
            "overflow_y": null,
            "overflow_x": null,
            "grid_auto_flow": null,
            "grid_area": null,
            "grid_template_columns": null,
            "flex": null,
            "_model_name": "LayoutModel",
            "justify_items": null,
            "grid_row": null,
            "max_height": null,
            "align_content": null,
            "visibility": null,
            "align_self": null,
            "height": null,
            "min_height": null,
            "padding": null,
            "grid_auto_rows": null,
            "grid_gap": null,
            "max_width": null,
            "order": null,
            "_view_module_version": "1.2.0",
            "grid_template_areas": null,
            "object_position": null,
            "object_fit": null,
            "grid_auto_columns": null,
            "margin": null,
            "display": null,
            "left": null
          }
        },
        "ccab389d88a948bdb4d2bd6368b45fe5": {
          "model_module": "@jupyter-widgets/controls",
          "model_name": "DescriptionStyleModel",
          "state": {
            "_view_name": "StyleView",
            "_model_name": "DescriptionStyleModel",
            "description_width": "",
            "_view_module": "@jupyter-widgets/base",
            "_model_module_version": "1.5.0",
            "_view_count": null,
            "_view_module_version": "1.2.0",
            "_model_module": "@jupyter-widgets/controls"
          }
        },
        "cc98dab9a0294cf8a40d1107e9aa2db0": {
          "model_module": "@jupyter-widgets/base",
          "model_name": "LayoutModel",
          "state": {
            "_view_name": "LayoutView",
            "grid_template_rows": null,
            "right": null,
            "justify_content": null,
            "_view_module": "@jupyter-widgets/base",
            "overflow": null,
            "_model_module_version": "1.2.0",
            "_view_count": null,
            "flex_flow": null,
            "width": null,
            "min_width": null,
            "border": null,
            "align_items": null,
            "bottom": null,
            "_model_module": "@jupyter-widgets/base",
            "top": null,
            "grid_column": null,
            "overflow_y": null,
            "overflow_x": null,
            "grid_auto_flow": null,
            "grid_area": null,
            "grid_template_columns": null,
            "flex": null,
            "_model_name": "LayoutModel",
            "justify_items": null,
            "grid_row": null,
            "max_height": null,
            "align_content": null,
            "visibility": null,
            "align_self": null,
            "height": null,
            "min_height": null,
            "padding": null,
            "grid_auto_rows": null,
            "grid_gap": null,
            "max_width": null,
            "order": null,
            "_view_module_version": "1.2.0",
            "grid_template_areas": null,
            "object_position": null,
            "object_fit": null,
            "grid_auto_columns": null,
            "margin": null,
            "display": null,
            "left": null
          }
        },
        "c39048da709a4a4e9c3a6efe5e779631": {
          "model_module": "@jupyter-widgets/controls",
          "model_name": "HBoxModel",
          "state": {
            "_view_name": "HBoxView",
            "_dom_classes": [],
            "_model_name": "HBoxModel",
            "_view_module": "@jupyter-widgets/controls",
            "_model_module_version": "1.5.0",
            "_view_count": null,
            "_view_module_version": "1.5.0",
            "box_style": "",
            "layout": "IPY_MODEL_7a23922b807348bcb79513f9d711365d",
            "_model_module": "@jupyter-widgets/controls",
            "children": [
              "IPY_MODEL_2b2d0655a15047d6936b874d58857bae",
              "IPY_MODEL_a39678f8088042579671601cb6548ce9"
            ]
          }
        },
        "7a23922b807348bcb79513f9d711365d": {
          "model_module": "@jupyter-widgets/base",
          "model_name": "LayoutModel",
          "state": {
            "_view_name": "LayoutView",
            "grid_template_rows": null,
            "right": null,
            "justify_content": null,
            "_view_module": "@jupyter-widgets/base",
            "overflow": null,
            "_model_module_version": "1.2.0",
            "_view_count": null,
            "flex_flow": null,
            "width": null,
            "min_width": null,
            "border": null,
            "align_items": null,
            "bottom": null,
            "_model_module": "@jupyter-widgets/base",
            "top": null,
            "grid_column": null,
            "overflow_y": null,
            "overflow_x": null,
            "grid_auto_flow": null,
            "grid_area": null,
            "grid_template_columns": null,
            "flex": null,
            "_model_name": "LayoutModel",
            "justify_items": null,
            "grid_row": null,
            "max_height": null,
            "align_content": null,
            "visibility": null,
            "align_self": null,
            "height": null,
            "min_height": null,
            "padding": null,
            "grid_auto_rows": null,
            "grid_gap": null,
            "max_width": null,
            "order": null,
            "_view_module_version": "1.2.0",
            "grid_template_areas": null,
            "object_position": null,
            "object_fit": null,
            "grid_auto_columns": null,
            "margin": null,
            "display": null,
            "left": null
          }
        },
        "2b2d0655a15047d6936b874d58857bae": {
          "model_module": "@jupyter-widgets/controls",
          "model_name": "FloatProgressModel",
          "state": {
            "_view_name": "ProgressView",
            "style": "IPY_MODEL_937176ce735749e8a880fc4313d2d063",
            "_dom_classes": [],
            "description": "Downloading: 100%",
            "_model_name": "FloatProgressModel",
            "bar_style": "success",
            "max": 1115590446,
            "_view_module": "@jupyter-widgets/controls",
            "_model_module_version": "1.5.0",
            "value": 1115590446,
            "_view_count": null,
            "_view_module_version": "1.5.0",
            "orientation": "horizontal",
            "min": 0,
            "description_tooltip": null,
            "_model_module": "@jupyter-widgets/controls",
            "layout": "IPY_MODEL_65795d00f15847feb551557c26e7f0b2"
          }
        },
        "a39678f8088042579671601cb6548ce9": {
          "model_module": "@jupyter-widgets/controls",
          "model_name": "HTMLModel",
          "state": {
            "_view_name": "HTMLView",
            "style": "IPY_MODEL_08fdf1e8a3d0457c8e63f74394ac33e4",
            "_dom_classes": [],
            "description": "",
            "_model_name": "HTMLModel",
            "placeholder": "​",
            "_view_module": "@jupyter-widgets/controls",
            "_model_module_version": "1.5.0",
            "value": " 1.12G/1.12G [00:53&lt;00:00, 20.9MB/s]",
            "_view_count": null,
            "_view_module_version": "1.5.0",
            "description_tooltip": null,
            "_model_module": "@jupyter-widgets/controls",
            "layout": "IPY_MODEL_5ef8ddf6a3734350861d4aea10d93124"
          }
        },
        "937176ce735749e8a880fc4313d2d063": {
          "model_module": "@jupyter-widgets/controls",
          "model_name": "ProgressStyleModel",
          "state": {
            "_view_name": "StyleView",
            "_model_name": "ProgressStyleModel",
            "description_width": "initial",
            "_view_module": "@jupyter-widgets/base",
            "_model_module_version": "1.5.0",
            "_view_count": null,
            "_view_module_version": "1.2.0",
            "bar_color": null,
            "_model_module": "@jupyter-widgets/controls"
          }
        },
        "65795d00f15847feb551557c26e7f0b2": {
          "model_module": "@jupyter-widgets/base",
          "model_name": "LayoutModel",
          "state": {
            "_view_name": "LayoutView",
            "grid_template_rows": null,
            "right": null,
            "justify_content": null,
            "_view_module": "@jupyter-widgets/base",
            "overflow": null,
            "_model_module_version": "1.2.0",
            "_view_count": null,
            "flex_flow": null,
            "width": null,
            "min_width": null,
            "border": null,
            "align_items": null,
            "bottom": null,
            "_model_module": "@jupyter-widgets/base",
            "top": null,
            "grid_column": null,
            "overflow_y": null,
            "overflow_x": null,
            "grid_auto_flow": null,
            "grid_area": null,
            "grid_template_columns": null,
            "flex": null,
            "_model_name": "LayoutModel",
            "justify_items": null,
            "grid_row": null,
            "max_height": null,
            "align_content": null,
            "visibility": null,
            "align_self": null,
            "height": null,
            "min_height": null,
            "padding": null,
            "grid_auto_rows": null,
            "grid_gap": null,
            "max_width": null,
            "order": null,
            "_view_module_version": "1.2.0",
            "grid_template_areas": null,
            "object_position": null,
            "object_fit": null,
            "grid_auto_columns": null,
            "margin": null,
            "display": null,
            "left": null
          }
        },
        "08fdf1e8a3d0457c8e63f74394ac33e4": {
          "model_module": "@jupyter-widgets/controls",
          "model_name": "DescriptionStyleModel",
          "state": {
            "_view_name": "StyleView",
            "_model_name": "DescriptionStyleModel",
            "description_width": "",
            "_view_module": "@jupyter-widgets/base",
            "_model_module_version": "1.5.0",
            "_view_count": null,
            "_view_module_version": "1.2.0",
            "_model_module": "@jupyter-widgets/controls"
          }
        },
        "5ef8ddf6a3734350861d4aea10d93124": {
          "model_module": "@jupyter-widgets/base",
          "model_name": "LayoutModel",
          "state": {
            "_view_name": "LayoutView",
            "grid_template_rows": null,
            "right": null,
            "justify_content": null,
            "_view_module": "@jupyter-widgets/base",
            "overflow": null,
            "_model_module_version": "1.2.0",
            "_view_count": null,
            "flex_flow": null,
            "width": null,
            "min_width": null,
            "border": null,
            "align_items": null,
            "bottom": null,
            "_model_module": "@jupyter-widgets/base",
            "top": null,
            "grid_column": null,
            "overflow_y": null,
            "overflow_x": null,
            "grid_auto_flow": null,
            "grid_area": null,
            "grid_template_columns": null,
            "flex": null,
            "_model_name": "LayoutModel",
            "justify_items": null,
            "grid_row": null,
            "max_height": null,
            "align_content": null,
            "visibility": null,
            "align_self": null,
            "height": null,
            "min_height": null,
            "padding": null,
            "grid_auto_rows": null,
            "grid_gap": null,
            "max_width": null,
            "order": null,
            "_view_module_version": "1.2.0",
            "grid_template_areas": null,
            "object_position": null,
            "object_fit": null,
            "grid_auto_columns": null,
            "margin": null,
            "display": null,
            "left": null
          }
        },
        "4afedb7aad6642669ebd4914c92b9370": {
          "model_module": "@jupyter-widgets/controls",
          "model_name": "HBoxModel",
          "state": {
            "_view_name": "HBoxView",
            "_dom_classes": [],
            "_model_name": "HBoxModel",
            "_view_module": "@jupyter-widgets/controls",
            "_model_module_version": "1.5.0",
            "_view_count": null,
            "_view_module_version": "1.5.0",
            "box_style": "",
            "layout": "IPY_MODEL_8072cdd0bc0e42d49f3f40263676635a",
            "_model_module": "@jupyter-widgets/controls",
            "children": [
              "IPY_MODEL_785d6f9aaaff48ce9f1ad0b407af2b30",
              "IPY_MODEL_d88a07d00a7e46558f6a871de1462222"
            ]
          }
        },
        "8072cdd0bc0e42d49f3f40263676635a": {
          "model_module": "@jupyter-widgets/base",
          "model_name": "LayoutModel",
          "state": {
            "_view_name": "LayoutView",
            "grid_template_rows": null,
            "right": null,
            "justify_content": null,
            "_view_module": "@jupyter-widgets/base",
            "overflow": null,
            "_model_module_version": "1.2.0",
            "_view_count": null,
            "flex_flow": null,
            "width": null,
            "min_width": null,
            "border": null,
            "align_items": null,
            "bottom": null,
            "_model_module": "@jupyter-widgets/base",
            "top": null,
            "grid_column": null,
            "overflow_y": null,
            "overflow_x": null,
            "grid_auto_flow": null,
            "grid_area": null,
            "grid_template_columns": null,
            "flex": null,
            "_model_name": "LayoutModel",
            "justify_items": null,
            "grid_row": null,
            "max_height": null,
            "align_content": null,
            "visibility": null,
            "align_self": null,
            "height": null,
            "min_height": null,
            "padding": null,
            "grid_auto_rows": null,
            "grid_gap": null,
            "max_width": null,
            "order": null,
            "_view_module_version": "1.2.0",
            "grid_template_areas": null,
            "object_position": null,
            "object_fit": null,
            "grid_auto_columns": null,
            "margin": null,
            "display": null,
            "left": null
          }
        },
        "785d6f9aaaff48ce9f1ad0b407af2b30": {
          "model_module": "@jupyter-widgets/controls",
          "model_name": "FloatProgressModel",
          "state": {
            "_view_name": "ProgressView",
            "style": "IPY_MODEL_2bae1da0b477428ea87224b4e74a54ad",
            "_dom_classes": [],
            "description": "Downloading: 100%",
            "_model_name": "FloatProgressModel",
            "bar_style": "success",
            "max": 5069051,
            "_view_module": "@jupyter-widgets/controls",
            "_model_module_version": "1.5.0",
            "value": 5069051,
            "_view_count": null,
            "_view_module_version": "1.5.0",
            "orientation": "horizontal",
            "min": 0,
            "description_tooltip": null,
            "_model_module": "@jupyter-widgets/controls",
            "layout": "IPY_MODEL_e82f63e109f54b50a169f97b6d28f4ed"
          }
        },
        "d88a07d00a7e46558f6a871de1462222": {
          "model_module": "@jupyter-widgets/controls",
          "model_name": "HTMLModel",
          "state": {
            "_view_name": "HTMLView",
            "style": "IPY_MODEL_2ccc4a07f4334b0b8e69afdd361b56a3",
            "_dom_classes": [],
            "description": "",
            "_model_name": "HTMLModel",
            "placeholder": "​",
            "_view_module": "@jupyter-widgets/controls",
            "_model_module_version": "1.5.0",
            "value": " 5.07M/5.07M [00:01&lt;00:00, 3.65MB/s]",
            "_view_count": null,
            "_view_module_version": "1.5.0",
            "description_tooltip": null,
            "_model_module": "@jupyter-widgets/controls",
            "layout": "IPY_MODEL_5b894c8b51d449c29042eb3b7451fda1"
          }
        },
        "2bae1da0b477428ea87224b4e74a54ad": {
          "model_module": "@jupyter-widgets/controls",
          "model_name": "ProgressStyleModel",
          "state": {
            "_view_name": "StyleView",
            "_model_name": "ProgressStyleModel",
            "description_width": "initial",
            "_view_module": "@jupyter-widgets/base",
            "_model_module_version": "1.5.0",
            "_view_count": null,
            "_view_module_version": "1.2.0",
            "bar_color": null,
            "_model_module": "@jupyter-widgets/controls"
          }
        },
        "e82f63e109f54b50a169f97b6d28f4ed": {
          "model_module": "@jupyter-widgets/base",
          "model_name": "LayoutModel",
          "state": {
            "_view_name": "LayoutView",
            "grid_template_rows": null,
            "right": null,
            "justify_content": null,
            "_view_module": "@jupyter-widgets/base",
            "overflow": null,
            "_model_module_version": "1.2.0",
            "_view_count": null,
            "flex_flow": null,
            "width": null,
            "min_width": null,
            "border": null,
            "align_items": null,
            "bottom": null,
            "_model_module": "@jupyter-widgets/base",
            "top": null,
            "grid_column": null,
            "overflow_y": null,
            "overflow_x": null,
            "grid_auto_flow": null,
            "grid_area": null,
            "grid_template_columns": null,
            "flex": null,
            "_model_name": "LayoutModel",
            "justify_items": null,
            "grid_row": null,
            "max_height": null,
            "align_content": null,
            "visibility": null,
            "align_self": null,
            "height": null,
            "min_height": null,
            "padding": null,
            "grid_auto_rows": null,
            "grid_gap": null,
            "max_width": null,
            "order": null,
            "_view_module_version": "1.2.0",
            "grid_template_areas": null,
            "object_position": null,
            "object_fit": null,
            "grid_auto_columns": null,
            "margin": null,
            "display": null,
            "left": null
          }
        },
        "2ccc4a07f4334b0b8e69afdd361b56a3": {
          "model_module": "@jupyter-widgets/controls",
          "model_name": "DescriptionStyleModel",
          "state": {
            "_view_name": "StyleView",
            "_model_name": "DescriptionStyleModel",
            "description_width": "",
            "_view_module": "@jupyter-widgets/base",
            "_model_module_version": "1.5.0",
            "_view_count": null,
            "_view_module_version": "1.2.0",
            "_model_module": "@jupyter-widgets/controls"
          }
        },
        "5b894c8b51d449c29042eb3b7451fda1": {
          "model_module": "@jupyter-widgets/base",
          "model_name": "LayoutModel",
          "state": {
            "_view_name": "LayoutView",
            "grid_template_rows": null,
            "right": null,
            "justify_content": null,
            "_view_module": "@jupyter-widgets/base",
            "overflow": null,
            "_model_module_version": "1.2.0",
            "_view_count": null,
            "flex_flow": null,
            "width": null,
            "min_width": null,
            "border": null,
            "align_items": null,
            "bottom": null,
            "_model_module": "@jupyter-widgets/base",
            "top": null,
            "grid_column": null,
            "overflow_y": null,
            "overflow_x": null,
            "grid_auto_flow": null,
            "grid_area": null,
            "grid_template_columns": null,
            "flex": null,
            "_model_name": "LayoutModel",
            "justify_items": null,
            "grid_row": null,
            "max_height": null,
            "align_content": null,
            "visibility": null,
            "align_self": null,
            "height": null,
            "min_height": null,
            "padding": null,
            "grid_auto_rows": null,
            "grid_gap": null,
            "max_width": null,
            "order": null,
            "_view_module_version": "1.2.0",
            "grid_template_areas": null,
            "object_position": null,
            "object_fit": null,
            "grid_auto_columns": null,
            "margin": null,
            "display": null,
            "left": null
          }
        },
        "8dc9141d375a43b0a3f06387d129b5ba": {
          "model_module": "@jupyter-widgets/controls",
          "model_name": "HBoxModel",
          "state": {
            "_view_name": "HBoxView",
            "_dom_classes": [],
            "_model_name": "HBoxModel",
            "_view_module": "@jupyter-widgets/controls",
            "_model_module_version": "1.5.0",
            "_view_count": null,
            "_view_module_version": "1.5.0",
            "box_style": "",
            "layout": "IPY_MODEL_814c7280fb524ecb81cd4bb6ed0a22b2",
            "_model_module": "@jupyter-widgets/controls",
            "children": [
              "IPY_MODEL_421ae97d66bc41c4b4110682c0890fcd",
              "IPY_MODEL_e04803137d444a4292f6c8860a79531f"
            ]
          }
        },
        "814c7280fb524ecb81cd4bb6ed0a22b2": {
          "model_module": "@jupyter-widgets/base",
          "model_name": "LayoutModel",
          "state": {
            "_view_name": "LayoutView",
            "grid_template_rows": null,
            "right": null,
            "justify_content": null,
            "_view_module": "@jupyter-widgets/base",
            "overflow": null,
            "_model_module_version": "1.2.0",
            "_view_count": null,
            "flex_flow": null,
            "width": null,
            "min_width": null,
            "border": null,
            "align_items": null,
            "bottom": null,
            "_model_module": "@jupyter-widgets/base",
            "top": null,
            "grid_column": null,
            "overflow_y": null,
            "overflow_x": null,
            "grid_auto_flow": null,
            "grid_area": null,
            "grid_template_columns": null,
            "flex": null,
            "_model_name": "LayoutModel",
            "justify_items": null,
            "grid_row": null,
            "max_height": null,
            "align_content": null,
            "visibility": null,
            "align_self": null,
            "height": null,
            "min_height": null,
            "padding": null,
            "grid_auto_rows": null,
            "grid_gap": null,
            "max_width": null,
            "order": null,
            "_view_module_version": "1.2.0",
            "grid_template_areas": null,
            "object_position": null,
            "object_fit": null,
            "grid_auto_columns": null,
            "margin": null,
            "display": null,
            "left": null
          }
        },
        "421ae97d66bc41c4b4110682c0890fcd": {
          "model_module": "@jupyter-widgets/controls",
          "model_name": "FloatProgressModel",
          "state": {
            "_view_name": "ProgressView",
            "style": "IPY_MODEL_f84ae11db62848e78a3972af9cc17d6c",
            "_dom_classes": [],
            "description": "Epoch: 100%",
            "_model_name": "FloatProgressModel",
            "bar_style": "success",
            "max": 2,
            "_view_module": "@jupyter-widgets/controls",
            "_model_module_version": "1.5.0",
            "value": 2,
            "_view_count": null,
            "_view_module_version": "1.5.0",
            "orientation": "horizontal",
            "min": 0,
            "description_tooltip": null,
            "_model_module": "@jupyter-widgets/controls",
            "layout": "IPY_MODEL_7936ed1f858d427e829bcb0923ea1aae"
          }
        },
        "e04803137d444a4292f6c8860a79531f": {
          "model_module": "@jupyter-widgets/controls",
          "model_name": "HTMLModel",
          "state": {
            "_view_name": "HTMLView",
            "style": "IPY_MODEL_7ad239b72c684243b20c4cedf7799e5a",
            "_dom_classes": [],
            "description": "",
            "_model_name": "HTMLModel",
            "placeholder": "​",
            "_view_module": "@jupyter-widgets/controls",
            "_model_module_version": "1.5.0",
            "value": " 2/2 [27:05&lt;00:00, 812.64s/it]",
            "_view_count": null,
            "_view_module_version": "1.5.0",
            "description_tooltip": null,
            "_model_module": "@jupyter-widgets/controls",
            "layout": "IPY_MODEL_531d27da94de448486d665de7ef7f50a"
          }
        },
        "f84ae11db62848e78a3972af9cc17d6c": {
          "model_module": "@jupyter-widgets/controls",
          "model_name": "ProgressStyleModel",
          "state": {
            "_view_name": "StyleView",
            "_model_name": "ProgressStyleModel",
            "description_width": "initial",
            "_view_module": "@jupyter-widgets/base",
            "_model_module_version": "1.5.0",
            "_view_count": null,
            "_view_module_version": "1.2.0",
            "bar_color": null,
            "_model_module": "@jupyter-widgets/controls"
          }
        },
        "7936ed1f858d427e829bcb0923ea1aae": {
          "model_module": "@jupyter-widgets/base",
          "model_name": "LayoutModel",
          "state": {
            "_view_name": "LayoutView",
            "grid_template_rows": null,
            "right": null,
            "justify_content": null,
            "_view_module": "@jupyter-widgets/base",
            "overflow": null,
            "_model_module_version": "1.2.0",
            "_view_count": null,
            "flex_flow": null,
            "width": null,
            "min_width": null,
            "border": null,
            "align_items": null,
            "bottom": null,
            "_model_module": "@jupyter-widgets/base",
            "top": null,
            "grid_column": null,
            "overflow_y": null,
            "overflow_x": null,
            "grid_auto_flow": null,
            "grid_area": null,
            "grid_template_columns": null,
            "flex": null,
            "_model_name": "LayoutModel",
            "justify_items": null,
            "grid_row": null,
            "max_height": null,
            "align_content": null,
            "visibility": null,
            "align_self": null,
            "height": null,
            "min_height": null,
            "padding": null,
            "grid_auto_rows": null,
            "grid_gap": null,
            "max_width": null,
            "order": null,
            "_view_module_version": "1.2.0",
            "grid_template_areas": null,
            "object_position": null,
            "object_fit": null,
            "grid_auto_columns": null,
            "margin": null,
            "display": null,
            "left": null
          }
        },
        "7ad239b72c684243b20c4cedf7799e5a": {
          "model_module": "@jupyter-widgets/controls",
          "model_name": "DescriptionStyleModel",
          "state": {
            "_view_name": "StyleView",
            "_model_name": "DescriptionStyleModel",
            "description_width": "",
            "_view_module": "@jupyter-widgets/base",
            "_model_module_version": "1.5.0",
            "_view_count": null,
            "_view_module_version": "1.2.0",
            "_model_module": "@jupyter-widgets/controls"
          }
        },
        "531d27da94de448486d665de7ef7f50a": {
          "model_module": "@jupyter-widgets/base",
          "model_name": "LayoutModel",
          "state": {
            "_view_name": "LayoutView",
            "grid_template_rows": null,
            "right": null,
            "justify_content": null,
            "_view_module": "@jupyter-widgets/base",
            "overflow": null,
            "_model_module_version": "1.2.0",
            "_view_count": null,
            "flex_flow": null,
            "width": null,
            "min_width": null,
            "border": null,
            "align_items": null,
            "bottom": null,
            "_model_module": "@jupyter-widgets/base",
            "top": null,
            "grid_column": null,
            "overflow_y": null,
            "overflow_x": null,
            "grid_auto_flow": null,
            "grid_area": null,
            "grid_template_columns": null,
            "flex": null,
            "_model_name": "LayoutModel",
            "justify_items": null,
            "grid_row": null,
            "max_height": null,
            "align_content": null,
            "visibility": null,
            "align_self": null,
            "height": null,
            "min_height": null,
            "padding": null,
            "grid_auto_rows": null,
            "grid_gap": null,
            "max_width": null,
            "order": null,
            "_view_module_version": "1.2.0",
            "grid_template_areas": null,
            "object_position": null,
            "object_fit": null,
            "grid_auto_columns": null,
            "margin": null,
            "display": null,
            "left": null
          }
        },
        "627ec7fc99df410784b106279ff4aa53": {
          "model_module": "@jupyter-widgets/controls",
          "model_name": "HBoxModel",
          "state": {
            "_view_name": "HBoxView",
            "_dom_classes": [],
            "_model_name": "HBoxModel",
            "_view_module": "@jupyter-widgets/controls",
            "_model_module_version": "1.5.0",
            "_view_count": null,
            "_view_module_version": "1.5.0",
            "box_style": "",
            "layout": "IPY_MODEL_a7c41d571ba8415f96e4d0d5652fc224",
            "_model_module": "@jupyter-widgets/controls",
            "children": [
              "IPY_MODEL_6e2bc765c77646c29893af350644fa24",
              "IPY_MODEL_33e40b24c8cc416d9a38658f33d8cf62"
            ]
          }
        },
        "a7c41d571ba8415f96e4d0d5652fc224": {
          "model_module": "@jupyter-widgets/base",
          "model_name": "LayoutModel",
          "state": {
            "_view_name": "LayoutView",
            "grid_template_rows": null,
            "right": null,
            "justify_content": null,
            "_view_module": "@jupyter-widgets/base",
            "overflow": null,
            "_model_module_version": "1.2.0",
            "_view_count": null,
            "flex_flow": null,
            "width": null,
            "min_width": null,
            "border": null,
            "align_items": null,
            "bottom": null,
            "_model_module": "@jupyter-widgets/base",
            "top": null,
            "grid_column": null,
            "overflow_y": null,
            "overflow_x": null,
            "grid_auto_flow": null,
            "grid_area": null,
            "grid_template_columns": null,
            "flex": null,
            "_model_name": "LayoutModel",
            "justify_items": null,
            "grid_row": null,
            "max_height": null,
            "align_content": null,
            "visibility": null,
            "align_self": null,
            "height": null,
            "min_height": null,
            "padding": null,
            "grid_auto_rows": null,
            "grid_gap": null,
            "max_width": null,
            "order": null,
            "_view_module_version": "1.2.0",
            "grid_template_areas": null,
            "object_position": null,
            "object_fit": null,
            "grid_auto_columns": null,
            "margin": null,
            "display": null,
            "left": null
          }
        },
        "6e2bc765c77646c29893af350644fa24": {
          "model_module": "@jupyter-widgets/controls",
          "model_name": "FloatProgressModel",
          "state": {
            "_view_name": "ProgressView",
            "style": "IPY_MODEL_aeab754e50884826a3420e22aa521cea",
            "_dom_classes": [],
            "description": "Iteration: 100%",
            "_model_name": "FloatProgressModel",
            "bar_style": "success",
            "max": 1044,
            "_view_module": "@jupyter-widgets/controls",
            "_model_module_version": "1.5.0",
            "value": 1044,
            "_view_count": null,
            "_view_module_version": "1.5.0",
            "orientation": "horizontal",
            "min": 0,
            "description_tooltip": null,
            "_model_module": "@jupyter-widgets/controls",
            "layout": "IPY_MODEL_25fdb9df716e4cef9e7add3632303063"
          }
        },
        "33e40b24c8cc416d9a38658f33d8cf62": {
          "model_module": "@jupyter-widgets/controls",
          "model_name": "HTMLModel",
          "state": {
            "_view_name": "HTMLView",
            "style": "IPY_MODEL_4817858eda774423aba7aa62cf8fb62e",
            "_dom_classes": [],
            "description": "",
            "_model_name": "HTMLModel",
            "placeholder": "​",
            "_view_module": "@jupyter-widgets/controls",
            "_model_module_version": "1.5.0",
            "value": " 1044/1044 [13:29&lt;00:00,  1.29it/s]",
            "_view_count": null,
            "_view_module_version": "1.5.0",
            "description_tooltip": null,
            "_model_module": "@jupyter-widgets/controls",
            "layout": "IPY_MODEL_5924b99007284c47bc6447c29e6eb58e"
          }
        },
        "aeab754e50884826a3420e22aa521cea": {
          "model_module": "@jupyter-widgets/controls",
          "model_name": "ProgressStyleModel",
          "state": {
            "_view_name": "StyleView",
            "_model_name": "ProgressStyleModel",
            "description_width": "initial",
            "_view_module": "@jupyter-widgets/base",
            "_model_module_version": "1.5.0",
            "_view_count": null,
            "_view_module_version": "1.2.0",
            "bar_color": null,
            "_model_module": "@jupyter-widgets/controls"
          }
        },
        "25fdb9df716e4cef9e7add3632303063": {
          "model_module": "@jupyter-widgets/base",
          "model_name": "LayoutModel",
          "state": {
            "_view_name": "LayoutView",
            "grid_template_rows": null,
            "right": null,
            "justify_content": null,
            "_view_module": "@jupyter-widgets/base",
            "overflow": null,
            "_model_module_version": "1.2.0",
            "_view_count": null,
            "flex_flow": null,
            "width": null,
            "min_width": null,
            "border": null,
            "align_items": null,
            "bottom": null,
            "_model_module": "@jupyter-widgets/base",
            "top": null,
            "grid_column": null,
            "overflow_y": null,
            "overflow_x": null,
            "grid_auto_flow": null,
            "grid_area": null,
            "grid_template_columns": null,
            "flex": null,
            "_model_name": "LayoutModel",
            "justify_items": null,
            "grid_row": null,
            "max_height": null,
            "align_content": null,
            "visibility": null,
            "align_self": null,
            "height": null,
            "min_height": null,
            "padding": null,
            "grid_auto_rows": null,
            "grid_gap": null,
            "max_width": null,
            "order": null,
            "_view_module_version": "1.2.0",
            "grid_template_areas": null,
            "object_position": null,
            "object_fit": null,
            "grid_auto_columns": null,
            "margin": null,
            "display": null,
            "left": null
          }
        },
        "4817858eda774423aba7aa62cf8fb62e": {
          "model_module": "@jupyter-widgets/controls",
          "model_name": "DescriptionStyleModel",
          "state": {
            "_view_name": "StyleView",
            "_model_name": "DescriptionStyleModel",
            "description_width": "",
            "_view_module": "@jupyter-widgets/base",
            "_model_module_version": "1.5.0",
            "_view_count": null,
            "_view_module_version": "1.2.0",
            "_model_module": "@jupyter-widgets/controls"
          }
        },
        "5924b99007284c47bc6447c29e6eb58e": {
          "model_module": "@jupyter-widgets/base",
          "model_name": "LayoutModel",
          "state": {
            "_view_name": "LayoutView",
            "grid_template_rows": null,
            "right": null,
            "justify_content": null,
            "_view_module": "@jupyter-widgets/base",
            "overflow": null,
            "_model_module_version": "1.2.0",
            "_view_count": null,
            "flex_flow": null,
            "width": null,
            "min_width": null,
            "border": null,
            "align_items": null,
            "bottom": null,
            "_model_module": "@jupyter-widgets/base",
            "top": null,
            "grid_column": null,
            "overflow_y": null,
            "overflow_x": null,
            "grid_auto_flow": null,
            "grid_area": null,
            "grid_template_columns": null,
            "flex": null,
            "_model_name": "LayoutModel",
            "justify_items": null,
            "grid_row": null,
            "max_height": null,
            "align_content": null,
            "visibility": null,
            "align_self": null,
            "height": null,
            "min_height": null,
            "padding": null,
            "grid_auto_rows": null,
            "grid_gap": null,
            "max_width": null,
            "order": null,
            "_view_module_version": "1.2.0",
            "grid_template_areas": null,
            "object_position": null,
            "object_fit": null,
            "grid_auto_columns": null,
            "margin": null,
            "display": null,
            "left": null
          }
        },
        "2b6ecc74c82b44ed8a0d2f13b5d20eb9": {
          "model_module": "@jupyter-widgets/controls",
          "model_name": "HBoxModel",
          "state": {
            "_view_name": "HBoxView",
            "_dom_classes": [],
            "_model_name": "HBoxModel",
            "_view_module": "@jupyter-widgets/controls",
            "_model_module_version": "1.5.0",
            "_view_count": null,
            "_view_module_version": "1.5.0",
            "box_style": "",
            "layout": "IPY_MODEL_4031e07e8e4d4a45b5abaeee2ac634d3",
            "_model_module": "@jupyter-widgets/controls",
            "children": [
              "IPY_MODEL_818ad247d049436b87a7aa214f672b1f",
              "IPY_MODEL_2031cdd4573f4c8da3029d31daa562b4"
            ]
          }
        },
        "4031e07e8e4d4a45b5abaeee2ac634d3": {
          "model_module": "@jupyter-widgets/base",
          "model_name": "LayoutModel",
          "state": {
            "_view_name": "LayoutView",
            "grid_template_rows": null,
            "right": null,
            "justify_content": null,
            "_view_module": "@jupyter-widgets/base",
            "overflow": null,
            "_model_module_version": "1.2.0",
            "_view_count": null,
            "flex_flow": null,
            "width": null,
            "min_width": null,
            "border": null,
            "align_items": null,
            "bottom": null,
            "_model_module": "@jupyter-widgets/base",
            "top": null,
            "grid_column": null,
            "overflow_y": null,
            "overflow_x": null,
            "grid_auto_flow": null,
            "grid_area": null,
            "grid_template_columns": null,
            "flex": null,
            "_model_name": "LayoutModel",
            "justify_items": null,
            "grid_row": null,
            "max_height": null,
            "align_content": null,
            "visibility": null,
            "align_self": null,
            "height": null,
            "min_height": null,
            "padding": null,
            "grid_auto_rows": null,
            "grid_gap": null,
            "max_width": null,
            "order": null,
            "_view_module_version": "1.2.0",
            "grid_template_areas": null,
            "object_position": null,
            "object_fit": null,
            "grid_auto_columns": null,
            "margin": null,
            "display": null,
            "left": null
          }
        },
        "818ad247d049436b87a7aa214f672b1f": {
          "model_module": "@jupyter-widgets/controls",
          "model_name": "FloatProgressModel",
          "state": {
            "_view_name": "ProgressView",
            "style": "IPY_MODEL_16f5f3452c2f45b1adf8b9f4e9f80324",
            "_dom_classes": [],
            "description": "Iteration: 100%",
            "_model_name": "FloatProgressModel",
            "bar_style": "success",
            "max": 1044,
            "_view_module": "@jupyter-widgets/controls",
            "_model_module_version": "1.5.0",
            "value": 1044,
            "_view_count": null,
            "_view_module_version": "1.5.0",
            "orientation": "horizontal",
            "min": 0,
            "description_tooltip": null,
            "_model_module": "@jupyter-widgets/controls",
            "layout": "IPY_MODEL_2d436f78cd034419a8e8a1049524ede2"
          }
        },
        "2031cdd4573f4c8da3029d31daa562b4": {
          "model_module": "@jupyter-widgets/controls",
          "model_name": "HTMLModel",
          "state": {
            "_view_name": "HTMLView",
            "style": "IPY_MODEL_9441f1311f3e4528a3e8afd5a4827634",
            "_dom_classes": [],
            "description": "",
            "_model_name": "HTMLModel",
            "placeholder": "​",
            "_view_module": "@jupyter-widgets/controls",
            "_model_module_version": "1.5.0",
            "value": " 1044/1044 [13:35&lt;00:00,  1.28it/s]",
            "_view_count": null,
            "_view_module_version": "1.5.0",
            "description_tooltip": null,
            "_model_module": "@jupyter-widgets/controls",
            "layout": "IPY_MODEL_fff5d542a88845bcbad313cbfb254f75"
          }
        },
        "16f5f3452c2f45b1adf8b9f4e9f80324": {
          "model_module": "@jupyter-widgets/controls",
          "model_name": "ProgressStyleModel",
          "state": {
            "_view_name": "StyleView",
            "_model_name": "ProgressStyleModel",
            "description_width": "initial",
            "_view_module": "@jupyter-widgets/base",
            "_model_module_version": "1.5.0",
            "_view_count": null,
            "_view_module_version": "1.2.0",
            "bar_color": null,
            "_model_module": "@jupyter-widgets/controls"
          }
        },
        "2d436f78cd034419a8e8a1049524ede2": {
          "model_module": "@jupyter-widgets/base",
          "model_name": "LayoutModel",
          "state": {
            "_view_name": "LayoutView",
            "grid_template_rows": null,
            "right": null,
            "justify_content": null,
            "_view_module": "@jupyter-widgets/base",
            "overflow": null,
            "_model_module_version": "1.2.0",
            "_view_count": null,
            "flex_flow": null,
            "width": null,
            "min_width": null,
            "border": null,
            "align_items": null,
            "bottom": null,
            "_model_module": "@jupyter-widgets/base",
            "top": null,
            "grid_column": null,
            "overflow_y": null,
            "overflow_x": null,
            "grid_auto_flow": null,
            "grid_area": null,
            "grid_template_columns": null,
            "flex": null,
            "_model_name": "LayoutModel",
            "justify_items": null,
            "grid_row": null,
            "max_height": null,
            "align_content": null,
            "visibility": null,
            "align_self": null,
            "height": null,
            "min_height": null,
            "padding": null,
            "grid_auto_rows": null,
            "grid_gap": null,
            "max_width": null,
            "order": null,
            "_view_module_version": "1.2.0",
            "grid_template_areas": null,
            "object_position": null,
            "object_fit": null,
            "grid_auto_columns": null,
            "margin": null,
            "display": null,
            "left": null
          }
        },
        "9441f1311f3e4528a3e8afd5a4827634": {
          "model_module": "@jupyter-widgets/controls",
          "model_name": "DescriptionStyleModel",
          "state": {
            "_view_name": "StyleView",
            "_model_name": "DescriptionStyleModel",
            "description_width": "",
            "_view_module": "@jupyter-widgets/base",
            "_model_module_version": "1.5.0",
            "_view_count": null,
            "_view_module_version": "1.2.0",
            "_model_module": "@jupyter-widgets/controls"
          }
        },
        "fff5d542a88845bcbad313cbfb254f75": {
          "model_module": "@jupyter-widgets/base",
          "model_name": "LayoutModel",
          "state": {
            "_view_name": "LayoutView",
            "grid_template_rows": null,
            "right": null,
            "justify_content": null,
            "_view_module": "@jupyter-widgets/base",
            "overflow": null,
            "_model_module_version": "1.2.0",
            "_view_count": null,
            "flex_flow": null,
            "width": null,
            "min_width": null,
            "border": null,
            "align_items": null,
            "bottom": null,
            "_model_module": "@jupyter-widgets/base",
            "top": null,
            "grid_column": null,
            "overflow_y": null,
            "overflow_x": null,
            "grid_auto_flow": null,
            "grid_area": null,
            "grid_template_columns": null,
            "flex": null,
            "_model_name": "LayoutModel",
            "justify_items": null,
            "grid_row": null,
            "max_height": null,
            "align_content": null,
            "visibility": null,
            "align_self": null,
            "height": null,
            "min_height": null,
            "padding": null,
            "grid_auto_rows": null,
            "grid_gap": null,
            "max_width": null,
            "order": null,
            "_view_module_version": "1.2.0",
            "grid_template_areas": null,
            "object_position": null,
            "object_fit": null,
            "grid_auto_columns": null,
            "margin": null,
            "display": null,
            "left": null
          }
        },
        "6a6c15b499e34f48800097675b23b324": {
          "model_module": "@jupyter-widgets/controls",
          "model_name": "HBoxModel",
          "state": {
            "_view_name": "HBoxView",
            "_dom_classes": [],
            "_model_name": "HBoxModel",
            "_view_module": "@jupyter-widgets/controls",
            "_model_module_version": "1.5.0",
            "_view_count": null,
            "_view_module_version": "1.5.0",
            "box_style": "",
            "layout": "IPY_MODEL_0f9a002afc8b46e393c89865912812df",
            "_model_module": "@jupyter-widgets/controls",
            "children": [
              "IPY_MODEL_369ba879c2e14acbaf6f8f1b9ac88873",
              "IPY_MODEL_eea7948f8e26451e952bb89f8490f09c"
            ]
          }
        },
        "0f9a002afc8b46e393c89865912812df": {
          "model_module": "@jupyter-widgets/base",
          "model_name": "LayoutModel",
          "state": {
            "_view_name": "LayoutView",
            "grid_template_rows": null,
            "right": null,
            "justify_content": null,
            "_view_module": "@jupyter-widgets/base",
            "overflow": null,
            "_model_module_version": "1.2.0",
            "_view_count": null,
            "flex_flow": null,
            "width": null,
            "min_width": null,
            "border": null,
            "align_items": null,
            "bottom": null,
            "_model_module": "@jupyter-widgets/base",
            "top": null,
            "grid_column": null,
            "overflow_y": null,
            "overflow_x": null,
            "grid_auto_flow": null,
            "grid_area": null,
            "grid_template_columns": null,
            "flex": null,
            "_model_name": "LayoutModel",
            "justify_items": null,
            "grid_row": null,
            "max_height": null,
            "align_content": null,
            "visibility": null,
            "align_self": null,
            "height": null,
            "min_height": null,
            "padding": null,
            "grid_auto_rows": null,
            "grid_gap": null,
            "max_width": null,
            "order": null,
            "_view_module_version": "1.2.0",
            "grid_template_areas": null,
            "object_position": null,
            "object_fit": null,
            "grid_auto_columns": null,
            "margin": null,
            "display": null,
            "left": null
          }
        },
        "369ba879c2e14acbaf6f8f1b9ac88873": {
          "model_module": "@jupyter-widgets/controls",
          "model_name": "FloatProgressModel",
          "state": {
            "_view_name": "ProgressView",
            "style": "IPY_MODEL_7f545600bd734f958158a51ae4357f2e",
            "_dom_classes": [],
            "description": "Evaluation: 100%",
            "_model_name": "FloatProgressModel",
            "bar_style": "success",
            "max": 112,
            "_view_module": "@jupyter-widgets/controls",
            "_model_module_version": "1.5.0",
            "value": 112,
            "_view_count": null,
            "_view_module_version": "1.5.0",
            "orientation": "horizontal",
            "min": 0,
            "description_tooltip": null,
            "_model_module": "@jupyter-widgets/controls",
            "layout": "IPY_MODEL_66460f62b67e4c08a5122c422e4f9dc4"
          }
        },
        "eea7948f8e26451e952bb89f8490f09c": {
          "model_module": "@jupyter-widgets/controls",
          "model_name": "HTMLModel",
          "state": {
            "_view_name": "HTMLView",
            "style": "IPY_MODEL_2a41e84b58b74facaf951a787798aa11",
            "_dom_classes": [],
            "description": "",
            "_model_name": "HTMLModel",
            "placeholder": "​",
            "_view_module": "@jupyter-widgets/controls",
            "_model_module_version": "1.5.0",
            "value": " 112/112 [01:17&lt;00:00,  1.44it/s]",
            "_view_count": null,
            "_view_module_version": "1.5.0",
            "description_tooltip": null,
            "_model_module": "@jupyter-widgets/controls",
            "layout": "IPY_MODEL_71341a0fee214d4e888a7b250a674bf7"
          }
        },
        "7f545600bd734f958158a51ae4357f2e": {
          "model_module": "@jupyter-widgets/controls",
          "model_name": "ProgressStyleModel",
          "state": {
            "_view_name": "StyleView",
            "_model_name": "ProgressStyleModel",
            "description_width": "initial",
            "_view_module": "@jupyter-widgets/base",
            "_model_module_version": "1.5.0",
            "_view_count": null,
            "_view_module_version": "1.2.0",
            "bar_color": null,
            "_model_module": "@jupyter-widgets/controls"
          }
        },
        "66460f62b67e4c08a5122c422e4f9dc4": {
          "model_module": "@jupyter-widgets/base",
          "model_name": "LayoutModel",
          "state": {
            "_view_name": "LayoutView",
            "grid_template_rows": null,
            "right": null,
            "justify_content": null,
            "_view_module": "@jupyter-widgets/base",
            "overflow": null,
            "_model_module_version": "1.2.0",
            "_view_count": null,
            "flex_flow": null,
            "width": null,
            "min_width": null,
            "border": null,
            "align_items": null,
            "bottom": null,
            "_model_module": "@jupyter-widgets/base",
            "top": null,
            "grid_column": null,
            "overflow_y": null,
            "overflow_x": null,
            "grid_auto_flow": null,
            "grid_area": null,
            "grid_template_columns": null,
            "flex": null,
            "_model_name": "LayoutModel",
            "justify_items": null,
            "grid_row": null,
            "max_height": null,
            "align_content": null,
            "visibility": null,
            "align_self": null,
            "height": null,
            "min_height": null,
            "padding": null,
            "grid_auto_rows": null,
            "grid_gap": null,
            "max_width": null,
            "order": null,
            "_view_module_version": "1.2.0",
            "grid_template_areas": null,
            "object_position": null,
            "object_fit": null,
            "grid_auto_columns": null,
            "margin": null,
            "display": null,
            "left": null
          }
        },
        "2a41e84b58b74facaf951a787798aa11": {
          "model_module": "@jupyter-widgets/controls",
          "model_name": "DescriptionStyleModel",
          "state": {
            "_view_name": "StyleView",
            "_model_name": "DescriptionStyleModel",
            "description_width": "",
            "_view_module": "@jupyter-widgets/base",
            "_model_module_version": "1.5.0",
            "_view_count": null,
            "_view_module_version": "1.2.0",
            "_model_module": "@jupyter-widgets/controls"
          }
        },
        "71341a0fee214d4e888a7b250a674bf7": {
          "model_module": "@jupyter-widgets/base",
          "model_name": "LayoutModel",
          "state": {
            "_view_name": "LayoutView",
            "grid_template_rows": null,
            "right": null,
            "justify_content": null,
            "_view_module": "@jupyter-widgets/base",
            "overflow": null,
            "_model_module_version": "1.2.0",
            "_view_count": null,
            "flex_flow": null,
            "width": null,
            "min_width": null,
            "border": null,
            "align_items": null,
            "bottom": null,
            "_model_module": "@jupyter-widgets/base",
            "top": null,
            "grid_column": null,
            "overflow_y": null,
            "overflow_x": null,
            "grid_auto_flow": null,
            "grid_area": null,
            "grid_template_columns": null,
            "flex": null,
            "_model_name": "LayoutModel",
            "justify_items": null,
            "grid_row": null,
            "max_height": null,
            "align_content": null,
            "visibility": null,
            "align_self": null,
            "height": null,
            "min_height": null,
            "padding": null,
            "grid_auto_rows": null,
            "grid_gap": null,
            "max_width": null,
            "order": null,
            "_view_module_version": "1.2.0",
            "grid_template_areas": null,
            "object_position": null,
            "object_fit": null,
            "grid_auto_columns": null,
            "margin": null,
            "display": null,
            "left": null
          }
        }
      }
    }
  },
  "cells": [
    {
      "cell_type": "markdown",
      "metadata": {
        "id": "view-in-github",
        "colab_type": "text"
      },
      "source": [
        "<a href=\"https://colab.research.google.com/github/msrjdin/TransformerUseCases/blob/master/Text%20Classification/xlm-roberta-base.ipynb\" target=\"_parent\"><img src=\"https://colab.research.google.com/assets/colab-badge.svg\" alt=\"Open In Colab\"/></a>"
      ]
    },
    {
      "cell_type": "code",
      "metadata": {
        "id": "Dl-5ZsrBwBiN",
        "colab_type": "code",
        "colab": {
          "base_uri": "https://localhost:8080/",
          "height": 367
        },
        "outputId": "9a4fb9f0-bd9b-4f2d-e508-33612e74f59f"
      },
      "source": [
        "!pip3 install transformers"
      ],
      "execution_count": 6,
      "outputs": [
        {
          "output_type": "stream",
          "text": [
            "Requirement already satisfied: transformers in /usr/local/lib/python3.6/dist-packages (3.1.0)\n",
            "Requirement already satisfied: packaging in /usr/local/lib/python3.6/dist-packages (from transformers) (20.4)\n",
            "Requirement already satisfied: filelock in /usr/local/lib/python3.6/dist-packages (from transformers) (3.0.12)\n",
            "Requirement already satisfied: dataclasses; python_version < \"3.7\" in /usr/local/lib/python3.6/dist-packages (from transformers) (0.7)\n",
            "Requirement already satisfied: tqdm>=4.27 in /usr/local/lib/python3.6/dist-packages (from transformers) (4.41.1)\n",
            "Requirement already satisfied: sacremoses in /usr/local/lib/python3.6/dist-packages (from transformers) (0.0.43)\n",
            "Requirement already satisfied: tokenizers==0.8.1.rc2 in /usr/local/lib/python3.6/dist-packages (from transformers) (0.8.1rc2)\n",
            "Requirement already satisfied: numpy in /usr/local/lib/python3.6/dist-packages (from transformers) (1.18.5)\n",
            "Requirement already satisfied: regex!=2019.12.17 in /usr/local/lib/python3.6/dist-packages (from transformers) (2019.12.20)\n",
            "Requirement already satisfied: requests in /usr/local/lib/python3.6/dist-packages (from transformers) (2.23.0)\n",
            "Requirement already satisfied: sentencepiece!=0.1.92 in /usr/local/lib/python3.6/dist-packages (from transformers) (0.1.91)\n",
            "Requirement already satisfied: pyparsing>=2.0.2 in /usr/local/lib/python3.6/dist-packages (from packaging->transformers) (2.4.7)\n",
            "Requirement already satisfied: six in /usr/local/lib/python3.6/dist-packages (from packaging->transformers) (1.15.0)\n",
            "Requirement already satisfied: click in /usr/local/lib/python3.6/dist-packages (from sacremoses->transformers) (7.1.2)\n",
            "Requirement already satisfied: joblib in /usr/local/lib/python3.6/dist-packages (from sacremoses->transformers) (0.16.0)\n",
            "Requirement already satisfied: chardet<4,>=3.0.2 in /usr/local/lib/python3.6/dist-packages (from requests->transformers) (3.0.4)\n",
            "Requirement already satisfied: idna<3,>=2.5 in /usr/local/lib/python3.6/dist-packages (from requests->transformers) (2.10)\n",
            "Requirement already satisfied: urllib3!=1.25.0,!=1.25.1,<1.26,>=1.21.1 in /usr/local/lib/python3.6/dist-packages (from requests->transformers) (1.24.3)\n",
            "Requirement already satisfied: certifi>=2017.4.17 in /usr/local/lib/python3.6/dist-packages (from requests->transformers) (2020.6.20)\n"
          ],
          "name": "stdout"
        }
      ]
    },
    {
      "cell_type": "code",
      "metadata": {
        "id": "PkAZtZlLtGKP",
        "colab_type": "code",
        "colab": {}
      },
      "source": [
        "import pandas as pd"
      ],
      "execution_count": 7,
      "outputs": []
    },
    {
      "cell_type": "code",
      "metadata": {
        "id": "4JnBJP4jv_W0",
        "colab_type": "code",
        "colab": {}
      },
      "source": [
        "df = pd.read_csv('Data.csv')"
      ],
      "execution_count": 8,
      "outputs": []
    },
    {
      "cell_type": "code",
      "metadata": {
        "id": "aEMyWqYRwDEC",
        "colab_type": "code",
        "colab": {}
      },
      "source": [
        "df.dropna(inplace=True)"
      ],
      "execution_count": 9,
      "outputs": []
    },
    {
      "cell_type": "code",
      "metadata": {
        "id": "x3Tfpl44wKNE",
        "colab_type": "code",
        "colab": {
          "base_uri": "https://localhost:8080/",
          "height": 35
        },
        "outputId": "e60f747b-69d3-404f-e65d-edc29bc09337"
      },
      "source": [
        "df.shape"
      ],
      "execution_count": 10,
      "outputs": [
        {
          "output_type": "execute_result",
          "data": {
            "text/plain": [
              "(23853, 5)"
            ]
          },
          "metadata": {
            "tags": []
          },
          "execution_count": 10
        }
      ]
    },
    {
      "cell_type": "code",
      "metadata": {
        "id": "6H2wprcXwKkc",
        "colab_type": "code",
        "colab": {
          "base_uri": "https://localhost:8080/",
          "height": 202
        },
        "outputId": "138ce968-ae6e-4fbf-ab90-82edac4e3fd1"
      },
      "source": [
        "df.head()"
      ],
      "execution_count": 11,
      "outputs": [
        {
          "output_type": "execute_result",
          "data": {
            "text/html": [
              "<div>\n",
              "<style scoped>\n",
              "    .dataframe tbody tr th:only-of-type {\n",
              "        vertical-align: middle;\n",
              "    }\n",
              "\n",
              "    .dataframe tbody tr th {\n",
              "        vertical-align: top;\n",
              "    }\n",
              "\n",
              "    .dataframe thead th {\n",
              "        text-align: right;\n",
              "    }\n",
              "</style>\n",
              "<table border=\"1\" class=\"dataframe\">\n",
              "  <thead>\n",
              "    <tr style=\"text-align: right;\">\n",
              "      <th></th>\n",
              "      <th>asin</th>\n",
              "      <th>Rating5</th>\n",
              "      <th>title</th>\n",
              "      <th>body1</th>\n",
              "      <th>price</th>\n",
              "    </tr>\n",
              "  </thead>\n",
              "  <tbody>\n",
              "    <tr>\n",
              "      <th>0</th>\n",
              "      <td>B0009N5L7K</td>\n",
              "      <td>0</td>\n",
              "      <td>Stupid phone</td>\n",
              "      <td>BUY SERVICE</td>\n",
              "      <td>49.95</td>\n",
              "    </tr>\n",
              "    <tr>\n",
              "      <th>1</th>\n",
              "      <td>B0009N5L7K</td>\n",
              "      <td>0</td>\n",
              "      <td>Exellent Service</td>\n",
              "      <td>nextel nearly year started time last year Moto...</td>\n",
              "      <td>49.95</td>\n",
              "    </tr>\n",
              "    <tr>\n",
              "      <th>2</th>\n",
              "      <td>B0009N5L7K</td>\n",
              "      <td>1</td>\n",
              "      <td>I love it</td>\n",
              "      <td>got say easy use, hear person talking fine pro...</td>\n",
              "      <td>49.95</td>\n",
              "    </tr>\n",
              "    <tr>\n",
              "      <th>3</th>\n",
              "      <td>B0009N5L7K</td>\n",
              "      <td>0</td>\n",
              "      <td>Phones locked</td>\n",
              "      <td>1 star phones locked pay additional fees unlock</td>\n",
              "      <td>49.95</td>\n",
              "    </tr>\n",
              "    <tr>\n",
              "      <th>4</th>\n",
              "      <td>B0009N5L7K</td>\n",
              "      <td>1</td>\n",
              "      <td>Excellent product</td>\n",
              "      <td>product good. used cell phone one projects wor...</td>\n",
              "      <td>49.95</td>\n",
              "    </tr>\n",
              "  </tbody>\n",
              "</table>\n",
              "</div>"
            ],
            "text/plain": [
              "         asin  ...  price\n",
              "0  B0009N5L7K  ...  49.95\n",
              "1  B0009N5L7K  ...  49.95\n",
              "2  B0009N5L7K  ...  49.95\n",
              "3  B0009N5L7K  ...  49.95\n",
              "4  B0009N5L7K  ...  49.95\n",
              "\n",
              "[5 rows x 5 columns]"
            ]
          },
          "metadata": {
            "tags": []
          },
          "execution_count": 11
        }
      ]
    },
    {
      "cell_type": "code",
      "metadata": {
        "id": "AU8_zZ18wL4T",
        "colab_type": "code",
        "colab": {}
      },
      "source": [
        "df.rename(columns = {'body1':'text', 'Rating5':'5star'}, inplace=True)"
      ],
      "execution_count": 12,
      "outputs": []
    },
    {
      "cell_type": "code",
      "metadata": {
        "id": "A_fwmOjA6z-1",
        "colab_type": "code",
        "colab": {}
      },
      "source": [
        "df.reset_index(drop= True, inplace=True)"
      ],
      "execution_count": 13,
      "outputs": []
    },
    {
      "cell_type": "code",
      "metadata": {
        "id": "5PnUOkH_wad2",
        "colab_type": "code",
        "colab": {
          "base_uri": "https://localhost:8080/",
          "height": 202
        },
        "outputId": "880549d6-c7ff-4523-e767-c3794cac1135"
      },
      "source": [
        "df.head()"
      ],
      "execution_count": 14,
      "outputs": [
        {
          "output_type": "execute_result",
          "data": {
            "text/html": [
              "<div>\n",
              "<style scoped>\n",
              "    .dataframe tbody tr th:only-of-type {\n",
              "        vertical-align: middle;\n",
              "    }\n",
              "\n",
              "    .dataframe tbody tr th {\n",
              "        vertical-align: top;\n",
              "    }\n",
              "\n",
              "    .dataframe thead th {\n",
              "        text-align: right;\n",
              "    }\n",
              "</style>\n",
              "<table border=\"1\" class=\"dataframe\">\n",
              "  <thead>\n",
              "    <tr style=\"text-align: right;\">\n",
              "      <th></th>\n",
              "      <th>asin</th>\n",
              "      <th>5star</th>\n",
              "      <th>title</th>\n",
              "      <th>text</th>\n",
              "      <th>price</th>\n",
              "    </tr>\n",
              "  </thead>\n",
              "  <tbody>\n",
              "    <tr>\n",
              "      <th>0</th>\n",
              "      <td>B0009N5L7K</td>\n",
              "      <td>0</td>\n",
              "      <td>Stupid phone</td>\n",
              "      <td>BUY SERVICE</td>\n",
              "      <td>49.95</td>\n",
              "    </tr>\n",
              "    <tr>\n",
              "      <th>1</th>\n",
              "      <td>B0009N5L7K</td>\n",
              "      <td>0</td>\n",
              "      <td>Exellent Service</td>\n",
              "      <td>nextel nearly year started time last year Moto...</td>\n",
              "      <td>49.95</td>\n",
              "    </tr>\n",
              "    <tr>\n",
              "      <th>2</th>\n",
              "      <td>B0009N5L7K</td>\n",
              "      <td>1</td>\n",
              "      <td>I love it</td>\n",
              "      <td>got say easy use, hear person talking fine pro...</td>\n",
              "      <td>49.95</td>\n",
              "    </tr>\n",
              "    <tr>\n",
              "      <th>3</th>\n",
              "      <td>B0009N5L7K</td>\n",
              "      <td>0</td>\n",
              "      <td>Phones locked</td>\n",
              "      <td>1 star phones locked pay additional fees unlock</td>\n",
              "      <td>49.95</td>\n",
              "    </tr>\n",
              "    <tr>\n",
              "      <th>4</th>\n",
              "      <td>B0009N5L7K</td>\n",
              "      <td>1</td>\n",
              "      <td>Excellent product</td>\n",
              "      <td>product good. used cell phone one projects wor...</td>\n",
              "      <td>49.95</td>\n",
              "    </tr>\n",
              "  </tbody>\n",
              "</table>\n",
              "</div>"
            ],
            "text/plain": [
              "         asin  5star  ...                                               text  price\n",
              "0  B0009N5L7K      0  ...                                        BUY SERVICE  49.95\n",
              "1  B0009N5L7K      0  ...  nextel nearly year started time last year Moto...  49.95\n",
              "2  B0009N5L7K      1  ...  got say easy use, hear person talking fine pro...  49.95\n",
              "3  B0009N5L7K      0  ...    1 star phones locked pay additional fees unlock  49.95\n",
              "4  B0009N5L7K      1  ...  product good. used cell phone one projects wor...  49.95\n",
              "\n",
              "[5 rows x 5 columns]"
            ]
          },
          "metadata": {
            "tags": []
          },
          "execution_count": 14
        }
      ]
    },
    {
      "cell_type": "code",
      "metadata": {
        "id": "yvqe927nwbR4",
        "colab_type": "code",
        "colab": {}
      },
      "source": [
        "from sklearn.model_selection import train_test_split\n",
        "X= df['text'].copy()\n",
        "y= df['5star']\n",
        "X_train, X_test, y_train, y_test = train_test_split(X, y, test_size=0.3, random_state=42)"
      ],
      "execution_count": 15,
      "outputs": []
    },
    {
      "cell_type": "code",
      "metadata": {
        "id": "3X9vOChww3jd",
        "colab_type": "code",
        "colab": {}
      },
      "source": [
        "from transformers import AutoTokenizer, AutoModelForSequenceClassification"
      ],
      "execution_count": 16,
      "outputs": []
    },
    {
      "cell_type": "code",
      "metadata": {
        "id": "2PTxjjclxA8u",
        "colab_type": "code",
        "colab": {
          "base_uri": "https://localhost:8080/",
          "height": 272,
          "referenced_widgets": [
            "938364b8fa4c493b88adf94f3895e521",
            "0bf403d38af24a9092dc3b03dc2b940b",
            "c9d9dc8a5d3c4bde857dcf4c2cff7fd6",
            "56aed51257c547ed8ebde33a0d0a35ea",
            "8e64985e6d38474e8c697af09df46978",
            "233fdd42d57e41db9935a7b37f8e14dd",
            "ccab389d88a948bdb4d2bd6368b45fe5",
            "cc98dab9a0294cf8a40d1107e9aa2db0",
            "c39048da709a4a4e9c3a6efe5e779631",
            "7a23922b807348bcb79513f9d711365d",
            "2b2d0655a15047d6936b874d58857bae",
            "a39678f8088042579671601cb6548ce9",
            "937176ce735749e8a880fc4313d2d063",
            "65795d00f15847feb551557c26e7f0b2",
            "08fdf1e8a3d0457c8e63f74394ac33e4",
            "5ef8ddf6a3734350861d4aea10d93124",
            "4afedb7aad6642669ebd4914c92b9370",
            "8072cdd0bc0e42d49f3f40263676635a",
            "785d6f9aaaff48ce9f1ad0b407af2b30",
            "d88a07d00a7e46558f6a871de1462222",
            "2bae1da0b477428ea87224b4e74a54ad",
            "e82f63e109f54b50a169f97b6d28f4ed",
            "2ccc4a07f4334b0b8e69afdd361b56a3",
            "5b894c8b51d449c29042eb3b7451fda1"
          ]
        },
        "outputId": "aaceafb1-55cb-4dd8-c7dd-a3e27b4553f9"
      },
      "source": [
        "#Setting the model_name runs the model required\n",
        "model_name = \"xlm-roberta-base\"\n",
        "pt_model = AutoModelForSequenceClassification.from_pretrained(model_name)\n",
        "tokenizer = AutoTokenizer.from_pretrained(model_name)"
      ],
      "execution_count": 32,
      "outputs": [
        {
          "output_type": "display_data",
          "data": {
            "application/vnd.jupyter.widget-view+json": {
              "model_id": "938364b8fa4c493b88adf94f3895e521",
              "version_minor": 0,
              "version_major": 2
            },
            "text/plain": [
              "HBox(children=(FloatProgress(value=0.0, description='Downloading', max=512.0, style=ProgressStyle(description_…"
            ]
          },
          "metadata": {
            "tags": []
          }
        },
        {
          "output_type": "stream",
          "text": [
            "\n"
          ],
          "name": "stdout"
        },
        {
          "output_type": "display_data",
          "data": {
            "application/vnd.jupyter.widget-view+json": {
              "model_id": "c39048da709a4a4e9c3a6efe5e779631",
              "version_minor": 0,
              "version_major": 2
            },
            "text/plain": [
              "HBox(children=(FloatProgress(value=0.0, description='Downloading', max=1115590446.0, style=ProgressStyle(descr…"
            ]
          },
          "metadata": {
            "tags": []
          }
        },
        {
          "output_type": "stream",
          "text": [
            "\n"
          ],
          "name": "stdout"
        },
        {
          "output_type": "stream",
          "text": [
            "Some weights of the model checkpoint at xlm-roberta-base were not used when initializing XLMRobertaForSequenceClassification: ['lm_head.bias', 'lm_head.dense.weight', 'lm_head.dense.bias', 'lm_head.layer_norm.weight', 'lm_head.layer_norm.bias', 'lm_head.decoder.weight']\n",
            "- This IS expected if you are initializing XLMRobertaForSequenceClassification from the checkpoint of a model trained on another task or with another architecture (e.g. initializing a BertForSequenceClassification model from a BertForPretraining model).\n",
            "- This IS NOT expected if you are initializing XLMRobertaForSequenceClassification from the checkpoint of a model that you expect to be exactly identical (initializing a BertForSequenceClassification model from a BertForSequenceClassification model).\n",
            "Some weights of XLMRobertaForSequenceClassification were not initialized from the model checkpoint at xlm-roberta-base and are newly initialized: ['classifier.dense.weight', 'classifier.dense.bias', 'classifier.out_proj.weight', 'classifier.out_proj.bias']\n",
            "You should probably TRAIN this model on a down-stream task to be able to use it for predictions and inference.\n"
          ],
          "name": "stderr"
        },
        {
          "output_type": "display_data",
          "data": {
            "application/vnd.jupyter.widget-view+json": {
              "model_id": "4afedb7aad6642669ebd4914c92b9370",
              "version_minor": 0,
              "version_major": 2
            },
            "text/plain": [
              "HBox(children=(FloatProgress(value=0.0, description='Downloading', max=5069051.0, style=ProgressStyle(descript…"
            ]
          },
          "metadata": {
            "tags": []
          }
        },
        {
          "output_type": "stream",
          "text": [
            "\n"
          ],
          "name": "stdout"
        }
      ]
    },
    {
      "cell_type": "code",
      "metadata": {
        "id": "X7F3JQJ2xO1D",
        "colab_type": "code",
        "colab": {}
      },
      "source": [
        "tr_enc = tokenizer(list(X_train.values), padding=True, truncation=True, max_length=100)\n",
        "tst_enc = tokenizer(list(X_test.values),  padding=True, truncation=True,  max_length=100)"
      ],
      "execution_count": 33,
      "outputs": []
    },
    {
      "cell_type": "code",
      "metadata": {
        "id": "K3c8fQNn28Ex",
        "colab_type": "code",
        "colab": {}
      },
      "source": [
        "import torch\n",
        "\n",
        "class buildingDataset(torch.utils.data.Dataset):\n",
        "    def __init__(self, encodings, labels):\n",
        "        self.encodings = encodings\n",
        "        self.labels = labels\n",
        "\n",
        "    def __getitem__(self, idx):\n",
        "        item = {key: torch.tensor(val[idx]) for key, val in self.encodings.items()}\n",
        "        item['labels'] = torch.tensor(self.labels[idx])\n",
        "        return item\n",
        "\n",
        "    def __len__(self):\n",
        "        return len(self.labels)\n",
        "\n",
        "train_dataset = buildingDataset(tr_enc, list(y_train.values))\n",
        "val_dataset = buildingDataset(tst_enc, list(y_test.values))"
      ],
      "execution_count": 34,
      "outputs": []
    },
    {
      "cell_type": "code",
      "metadata": {
        "id": "YhkSEqx2x15m",
        "colab_type": "code",
        "colab": {}
      },
      "source": [
        "from sklearn.metrics import accuracy_score, precision_recall_fscore_support\n",
        "\n",
        "def compute_metrics(pred):\n",
        "    labels = pred.label_ids\n",
        "    preds = pred.predictions.argmax(-1)\n",
        "    precision, recall, f1, _ = precision_recall_fscore_support(labels, preds, average='binary')\n",
        "    acc = accuracy_score(labels, preds)\n",
        "    return {\n",
        "        'accuracy': acc,\n",
        "        'f1': f1,\n",
        "        'precision': precision,\n",
        "        'recall': recall\n",
        "    }"
      ],
      "execution_count": 35,
      "outputs": []
    },
    {
      "cell_type": "code",
      "metadata": {
        "id": "BN4NVFeA3a2J",
        "colab_type": "code",
        "colab": {}
      },
      "source": [
        "from transformers import Trainer, TrainingArguments\n",
        "\n",
        "training_args = TrainingArguments(\n",
        "    output_dir='./results',          # output directory\n",
        "    num_train_epochs=2,              # total number of training epochs\n",
        "    per_device_train_batch_size=16,  # batch size per device during training\n",
        "    per_device_eval_batch_size=64,   # batch size for evaluation\n",
        "    warmup_steps=100,                # number of warmup steps for learning rate scheduler\n",
        "    weight_decay=0.01,               # strength of weight decay\n",
        "    logging_dir='./logs',            # directory for storing logs\n",
        "    logging_steps=10\n",
        ")\n",
        "\n",
        "trainer = Trainer(\n",
        "    model=pt_model,                         # the instantiated 🤗 Transformers model to be trained\n",
        "    args=training_args,                  # training arguments, defined above\n",
        "    train_dataset=train_dataset,         # training dataset\n",
        "    eval_dataset=val_dataset,             # evaluation dataset\n",
        "    compute_metrics = compute_metrics\n",
        ")\n"
      ],
      "execution_count": 36,
      "outputs": []
    },
    {
      "cell_type": "code",
      "metadata": {
        "id": "ohr1WQgw5rhJ",
        "colab_type": "code",
        "colab": {
          "base_uri": "https://localhost:8080/",
          "height": 1000,
          "referenced_widgets": [
            "8dc9141d375a43b0a3f06387d129b5ba",
            "814c7280fb524ecb81cd4bb6ed0a22b2",
            "421ae97d66bc41c4b4110682c0890fcd",
            "e04803137d444a4292f6c8860a79531f",
            "f84ae11db62848e78a3972af9cc17d6c",
            "7936ed1f858d427e829bcb0923ea1aae",
            "7ad239b72c684243b20c4cedf7799e5a",
            "531d27da94de448486d665de7ef7f50a",
            "627ec7fc99df410784b106279ff4aa53",
            "a7c41d571ba8415f96e4d0d5652fc224",
            "6e2bc765c77646c29893af350644fa24",
            "33e40b24c8cc416d9a38658f33d8cf62",
            "aeab754e50884826a3420e22aa521cea",
            "25fdb9df716e4cef9e7add3632303063",
            "4817858eda774423aba7aa62cf8fb62e",
            "5924b99007284c47bc6447c29e6eb58e",
            "2b6ecc74c82b44ed8a0d2f13b5d20eb9",
            "4031e07e8e4d4a45b5abaeee2ac634d3",
            "818ad247d049436b87a7aa214f672b1f",
            "2031cdd4573f4c8da3029d31daa562b4",
            "16f5f3452c2f45b1adf8b9f4e9f80324",
            "2d436f78cd034419a8e8a1049524ede2",
            "9441f1311f3e4528a3e8afd5a4827634",
            "fff5d542a88845bcbad313cbfb254f75"
          ]
        },
        "outputId": "ca7c7779-7210-4b8b-f8fe-13b5a8df3571"
      },
      "source": [
        "trainer.train()"
      ],
      "execution_count": 37,
      "outputs": [
        {
          "output_type": "display_data",
          "data": {
            "application/vnd.jupyter.widget-view+json": {
              "model_id": "8dc9141d375a43b0a3f06387d129b5ba",
              "version_minor": 0,
              "version_major": 2
            },
            "text/plain": [
              "HBox(children=(FloatProgress(value=0.0, description='Epoch', max=2.0, style=ProgressStyle(description_width='i…"
            ]
          },
          "metadata": {
            "tags": []
          }
        },
        {
          "output_type": "display_data",
          "data": {
            "application/vnd.jupyter.widget-view+json": {
              "model_id": "627ec7fc99df410784b106279ff4aa53",
              "version_minor": 0,
              "version_major": 2
            },
            "text/plain": [
              "HBox(children=(FloatProgress(value=0.0, description='Iteration', max=1044.0, style=ProgressStyle(description_w…"
            ]
          },
          "metadata": {
            "tags": []
          }
        },
        {
          "output_type": "stream",
          "text": [
            "{'loss': 0.7026439666748047, 'learning_rate': 5e-06, 'epoch': 0.009578544061302681, 'step': 10}\n",
            "{'loss': 0.698890495300293, 'learning_rate': 1e-05, 'epoch': 0.019157088122605363, 'step': 20}\n",
            "{'loss': 0.6850046157836914, 'learning_rate': 1.5e-05, 'epoch': 0.028735632183908046, 'step': 30}\n",
            "{'loss': 0.6874238967895507, 'learning_rate': 2e-05, 'epoch': 0.038314176245210725, 'step': 40}\n",
            "{'loss': 0.6793737411499023, 'learning_rate': 2.5e-05, 'epoch': 0.04789272030651341, 'step': 50}\n",
            "{'loss': 0.612884521484375, 'learning_rate': 3e-05, 'epoch': 0.05747126436781609, 'step': 60}\n",
            "{'loss': 0.6469951629638672, 'learning_rate': 3.5e-05, 'epoch': 0.06704980842911877, 'step': 70}\n",
            "{'loss': 0.5519207000732422, 'learning_rate': 4e-05, 'epoch': 0.07662835249042145, 'step': 80}\n",
            "{'loss': 0.4926597595214844, 'learning_rate': 4.5e-05, 'epoch': 0.08620689655172414, 'step': 90}\n",
            "{'loss': 0.7206424713134766, 'learning_rate': 5e-05, 'epoch': 0.09578544061302682, 'step': 100}\n",
            "{'loss': 0.6191886901855469, 'learning_rate': 4.9748490945674046e-05, 'epoch': 0.1053639846743295, 'step': 110}\n",
            "{'loss': 0.5156120300292969, 'learning_rate': 4.949698189134809e-05, 'epoch': 0.11494252873563218, 'step': 120}\n",
            "{'loss': 0.5660781860351562, 'learning_rate': 4.9245472837022134e-05, 'epoch': 0.12452107279693486, 'step': 130}\n",
            "{'loss': 0.5715194702148437, 'learning_rate': 4.899396378269618e-05, 'epoch': 0.13409961685823754, 'step': 140}\n",
            "{'loss': 0.6572471618652344, 'learning_rate': 4.874245472837022e-05, 'epoch': 0.14367816091954022, 'step': 150}\n",
            "{'loss': 0.6468887329101562, 'learning_rate': 4.849094567404427e-05, 'epoch': 0.1532567049808429, 'step': 160}\n",
            "{'loss': 0.5203346252441406, 'learning_rate': 4.8239436619718316e-05, 'epoch': 0.16283524904214558, 'step': 170}\n",
            "{'loss': 0.600341796875, 'learning_rate': 4.798792756539235e-05, 'epoch': 0.1724137931034483, 'step': 180}\n",
            "{'loss': 0.6376121520996094, 'learning_rate': 4.77364185110664e-05, 'epoch': 0.18199233716475097, 'step': 190}\n",
            "{'loss': 0.6242446899414062, 'learning_rate': 4.748490945674045e-05, 'epoch': 0.19157088122605365, 'step': 200}\n",
            "{'loss': 0.6438652038574219, 'learning_rate': 4.723340040241449e-05, 'epoch': 0.20114942528735633, 'step': 210}\n",
            "{'loss': 0.606097412109375, 'learning_rate': 4.6981891348088536e-05, 'epoch': 0.210727969348659, 'step': 220}\n",
            "{'loss': 0.7003616333007813, 'learning_rate': 4.673038229376257e-05, 'epoch': 0.22030651340996169, 'step': 230}\n",
            "{'loss': 0.5934722900390625, 'learning_rate': 4.647887323943662e-05, 'epoch': 0.22988505747126436, 'step': 240}\n",
            "{'loss': 0.6541839599609375, 'learning_rate': 4.622736418511067e-05, 'epoch': 0.23946360153256704, 'step': 250}\n",
            "{'loss': 0.6070281982421875, 'learning_rate': 4.597585513078471e-05, 'epoch': 0.24904214559386972, 'step': 260}\n",
            "{'loss': 0.5378799438476562, 'learning_rate': 4.5724346076458755e-05, 'epoch': 0.25862068965517243, 'step': 270}\n",
            "{'loss': 0.6762481689453125, 'learning_rate': 4.54728370221328e-05, 'epoch': 0.2681992337164751, 'step': 280}\n",
            "{'loss': 0.6023788452148438, 'learning_rate': 4.522132796780684e-05, 'epoch': 0.2777777777777778, 'step': 290}\n",
            "{'loss': 0.5587371826171875, 'learning_rate': 4.4969818913480886e-05, 'epoch': 0.28735632183908044, 'step': 300}\n",
            "{'loss': 0.670068359375, 'learning_rate': 4.471830985915493e-05, 'epoch': 0.29693486590038315, 'step': 310}\n",
            "{'loss': 0.56986083984375, 'learning_rate': 4.446680080482898e-05, 'epoch': 0.3065134099616858, 'step': 320}\n",
            "{'loss': 0.6211669921875, 'learning_rate': 4.421529175050302e-05, 'epoch': 0.3160919540229885, 'step': 330}\n",
            "{'loss': 0.5472091674804688, 'learning_rate': 4.396378269617706e-05, 'epoch': 0.32567049808429116, 'step': 340}\n",
            "{'loss': 0.58018798828125, 'learning_rate': 4.3712273641851106e-05, 'epoch': 0.33524904214559387, 'step': 350}\n",
            "{'loss': 0.5152435302734375, 'learning_rate': 4.3460764587525156e-05, 'epoch': 0.3448275862068966, 'step': 360}\n",
            "{'loss': 0.5774688720703125, 'learning_rate': 4.32092555331992e-05, 'epoch': 0.3544061302681992, 'step': 370}\n",
            "{'loss': 0.43360137939453125, 'learning_rate': 4.295774647887324e-05, 'epoch': 0.36398467432950193, 'step': 380}\n",
            "{'loss': 0.5767852783203125, 'learning_rate': 4.270623742454729e-05, 'epoch': 0.3735632183908046, 'step': 390}\n",
            "{'loss': 0.5933822631835938, 'learning_rate': 4.245472837022133e-05, 'epoch': 0.3831417624521073, 'step': 400}\n",
            "{'loss': 0.5449432373046875, 'learning_rate': 4.2203219315895376e-05, 'epoch': 0.39272030651340994, 'step': 410}\n",
            "{'loss': 0.5113662719726563, 'learning_rate': 4.195171026156941e-05, 'epoch': 0.40229885057471265, 'step': 420}\n",
            "{'loss': 0.44059295654296876, 'learning_rate': 4.1700201207243463e-05, 'epoch': 0.4118773946360153, 'step': 430}\n",
            "{'loss': 0.4930206298828125, 'learning_rate': 4.144869215291751e-05, 'epoch': 0.421455938697318, 'step': 440}\n",
            "{'loss': 0.6108154296875, 'learning_rate': 4.119718309859155e-05, 'epoch': 0.43103448275862066, 'step': 450}\n",
            "{'loss': 0.4936370849609375, 'learning_rate': 4.0945674044265595e-05, 'epoch': 0.44061302681992337, 'step': 460}\n",
            "{'loss': 0.480645751953125, 'learning_rate': 4.069416498993964e-05, 'epoch': 0.4501915708812261, 'step': 470}\n",
            "{'loss': 0.4605255126953125, 'learning_rate': 4.044265593561368e-05, 'epoch': 0.45977011494252873, 'step': 480}\n",
            "{'loss': 0.621533203125, 'learning_rate': 4.019114688128773e-05, 'epoch': 0.46934865900383144, 'step': 490}\n",
            "{'loss': 0.5256500244140625, 'learning_rate': 3.993963782696177e-05, 'epoch': 0.4789272030651341, 'step': 500}\n"
          ],
          "name": "stdout"
        },
        {
          "output_type": "stream",
          "text": [
            "/usr/local/lib/python3.6/dist-packages/torch/optim/lr_scheduler.py:200: UserWarning: Please also save or load the state of the optimzer when saving or loading the scheduler.\n",
            "  warnings.warn(SAVE_STATE_WARNING, UserWarning)\n"
          ],
          "name": "stderr"
        },
        {
          "output_type": "stream",
          "text": [
            "{'loss': 0.5013458251953125, 'learning_rate': 3.968812877263582e-05, 'epoch': 0.4885057471264368, 'step': 510}\n",
            "{'loss': 0.5289154052734375, 'learning_rate': 3.943661971830986e-05, 'epoch': 0.49808429118773945, 'step': 520}\n",
            "{'loss': 0.473626708984375, 'learning_rate': 3.91851106639839e-05, 'epoch': 0.5076628352490421, 'step': 530}\n",
            "{'loss': 0.5202239990234375, 'learning_rate': 3.8933601609657946e-05, 'epoch': 0.5172413793103449, 'step': 540}\n",
            "{'loss': 0.4822265625, 'learning_rate': 3.8682092555332e-05, 'epoch': 0.5268199233716475, 'step': 550}\n",
            "{'loss': 0.5155059814453125, 'learning_rate': 3.843058350100604e-05, 'epoch': 0.5363984674329502, 'step': 560}\n",
            "{'loss': 0.4742889404296875, 'learning_rate': 3.817907444668008e-05, 'epoch': 0.5459770114942529, 'step': 570}\n",
            "{'loss': 0.469256591796875, 'learning_rate': 3.792756539235413e-05, 'epoch': 0.5555555555555556, 'step': 580}\n",
            "{'loss': 0.5942626953125, 'learning_rate': 3.767605633802817e-05, 'epoch': 0.5651340996168582, 'step': 590}\n",
            "{'loss': 0.6201171875, 'learning_rate': 3.7424547283702216e-05, 'epoch': 0.5747126436781609, 'step': 600}\n",
            "{'loss': 0.544476318359375, 'learning_rate': 3.717303822937626e-05, 'epoch': 0.5842911877394636, 'step': 610}\n",
            "{'loss': 0.5211181640625, 'learning_rate': 3.6921529175050304e-05, 'epoch': 0.5938697318007663, 'step': 620}\n",
            "{'loss': 0.4874969482421875, 'learning_rate': 3.667002012072435e-05, 'epoch': 0.603448275862069, 'step': 630}\n",
            "{'loss': 0.5466522216796875, 'learning_rate': 3.641851106639839e-05, 'epoch': 0.6130268199233716, 'step': 640}\n",
            "{'loss': 0.5125335693359375, 'learning_rate': 3.6167002012072435e-05, 'epoch': 0.6226053639846744, 'step': 650}\n",
            "{'loss': 0.495404052734375, 'learning_rate': 3.5915492957746486e-05, 'epoch': 0.632183908045977, 'step': 660}\n",
            "{'loss': 0.5003326416015625, 'learning_rate': 3.566398390342052e-05, 'epoch': 0.6417624521072797, 'step': 670}\n",
            "{'loss': 0.472271728515625, 'learning_rate': 3.541247484909457e-05, 'epoch': 0.6513409961685823, 'step': 680}\n",
            "{'loss': 0.50394287109375, 'learning_rate': 3.516096579476861e-05, 'epoch': 0.6609195402298851, 'step': 690}\n",
            "{'loss': 0.467987060546875, 'learning_rate': 3.490945674044266e-05, 'epoch': 0.6704980842911877, 'step': 700}\n",
            "{'loss': 0.4729644775390625, 'learning_rate': 3.4657947686116705e-05, 'epoch': 0.6800766283524904, 'step': 710}\n",
            "{'loss': 0.4933380126953125, 'learning_rate': 3.440643863179074e-05, 'epoch': 0.6896551724137931, 'step': 720}\n",
            "{'loss': 0.494659423828125, 'learning_rate': 3.4154929577464786e-05, 'epoch': 0.6992337164750958, 'step': 730}\n",
            "{'loss': 0.522784423828125, 'learning_rate': 3.390342052313884e-05, 'epoch': 0.7088122605363985, 'step': 740}\n",
            "{'loss': 0.4826629638671875, 'learning_rate': 3.365191146881288e-05, 'epoch': 0.7183908045977011, 'step': 750}\n",
            "{'loss': 0.58109130859375, 'learning_rate': 3.3400402414486925e-05, 'epoch': 0.7279693486590039, 'step': 760}\n",
            "{'loss': 0.5009613037109375, 'learning_rate': 3.314889336016097e-05, 'epoch': 0.7375478927203065, 'step': 770}\n",
            "{'loss': 0.4376739501953125, 'learning_rate': 3.289738430583501e-05, 'epoch': 0.7471264367816092, 'step': 780}\n",
            "{'loss': 0.5648773193359375, 'learning_rate': 3.2645875251509056e-05, 'epoch': 0.7567049808429118, 'step': 790}\n",
            "{'loss': 0.472491455078125, 'learning_rate': 3.23943661971831e-05, 'epoch': 0.7662835249042146, 'step': 800}\n",
            "{'loss': 0.5234710693359375, 'learning_rate': 3.2142857142857144e-05, 'epoch': 0.7758620689655172, 'step': 810}\n",
            "{'loss': 0.5420501708984375, 'learning_rate': 3.189134808853119e-05, 'epoch': 0.7854406130268199, 'step': 820}\n",
            "{'loss': 0.531414794921875, 'learning_rate': 3.163983903420523e-05, 'epoch': 0.7950191570881227, 'step': 830}\n",
            "{'loss': 0.6232147216796875, 'learning_rate': 3.1388329979879276e-05, 'epoch': 0.8045977011494253, 'step': 840}\n",
            "{'loss': 0.5523162841796875, 'learning_rate': 3.113682092555332e-05, 'epoch': 0.814176245210728, 'step': 850}\n",
            "{'loss': 0.4778045654296875, 'learning_rate': 3.088531187122737e-05, 'epoch': 0.8237547892720306, 'step': 860}\n",
            "{'loss': 0.4602935791015625, 'learning_rate': 3.063380281690141e-05, 'epoch': 0.8333333333333334, 'step': 870}\n",
            "{'loss': 0.4919921875, 'learning_rate': 3.0382293762575454e-05, 'epoch': 0.842911877394636, 'step': 880}\n",
            "{'loss': 0.4157135009765625, 'learning_rate': 3.0130784708249498e-05, 'epoch': 0.8524904214559387, 'step': 890}\n",
            "{'loss': 0.4620452880859375, 'learning_rate': 2.9879275653923545e-05, 'epoch': 0.8620689655172413, 'step': 900}\n",
            "{'loss': 0.5028839111328125, 'learning_rate': 2.962776659959759e-05, 'epoch': 0.8716475095785441, 'step': 910}\n",
            "{'loss': 0.4251190185546875, 'learning_rate': 2.937625754527163e-05, 'epoch': 0.8812260536398467, 'step': 920}\n",
            "{'loss': 0.4445587158203125, 'learning_rate': 2.9124748490945674e-05, 'epoch': 0.8908045977011494, 'step': 930}\n",
            "{'loss': 0.4836395263671875, 'learning_rate': 2.887323943661972e-05, 'epoch': 0.9003831417624522, 'step': 940}\n",
            "{'loss': 0.466827392578125, 'learning_rate': 2.8621730382293765e-05, 'epoch': 0.9099616858237548, 'step': 950}\n",
            "{'loss': 0.375830078125, 'learning_rate': 2.8370221327967812e-05, 'epoch': 0.9195402298850575, 'step': 960}\n",
            "{'loss': 0.478326416015625, 'learning_rate': 2.811871227364185e-05, 'epoch': 0.9291187739463601, 'step': 970}\n",
            "{'loss': 0.483184814453125, 'learning_rate': 2.7867203219315896e-05, 'epoch': 0.9386973180076629, 'step': 980}\n",
            "{'loss': 0.38870849609375, 'learning_rate': 2.761569416498994e-05, 'epoch': 0.9482758620689655, 'step': 990}\n",
            "{'loss': 0.45379638671875, 'learning_rate': 2.7364185110663988e-05, 'epoch': 0.9578544061302682, 'step': 1000}\n",
            "{'loss': 0.477587890625, 'learning_rate': 2.711267605633803e-05, 'epoch': 0.9674329501915708, 'step': 1010}\n",
            "{'loss': 0.43370361328125, 'learning_rate': 2.6861167002012072e-05, 'epoch': 0.9770114942528736, 'step': 1020}\n",
            "{'loss': 0.556121826171875, 'learning_rate': 2.660965794768612e-05, 'epoch': 0.9865900383141762, 'step': 1030}\n",
            "{'loss': 0.4418701171875, 'learning_rate': 2.6358148893360163e-05, 'epoch': 0.9961685823754789, 'step': 1040}\n",
            "\n"
          ],
          "name": "stdout"
        },
        {
          "output_type": "display_data",
          "data": {
            "application/vnd.jupyter.widget-view+json": {
              "model_id": "2b6ecc74c82b44ed8a0d2f13b5d20eb9",
              "version_minor": 0,
              "version_major": 2
            },
            "text/plain": [
              "HBox(children=(FloatProgress(value=0.0, description='Iteration', max=1044.0, style=ProgressStyle(description_w…"
            ]
          },
          "metadata": {
            "tags": []
          }
        },
        {
          "output_type": "stream",
          "text": [
            "{'loss': 0.42623291015625, 'learning_rate': 2.6106639839034207e-05, 'epoch': 1.0057471264367817, 'step': 1050}\n",
            "{'loss': 0.398699951171875, 'learning_rate': 2.5855130784708247e-05, 'epoch': 1.0153256704980842, 'step': 1060}\n",
            "{'loss': 0.404132080078125, 'learning_rate': 2.5603621730382295e-05, 'epoch': 1.024904214559387, 'step': 1070}\n",
            "{'loss': 0.450531005859375, 'learning_rate': 2.535211267605634e-05, 'epoch': 1.0344827586206897, 'step': 1080}\n",
            "{'loss': 0.4815673828125, 'learning_rate': 2.5100603621730386e-05, 'epoch': 1.0440613026819923, 'step': 1090}\n",
            "{'loss': 0.371160888671875, 'learning_rate': 2.4849094567404426e-05, 'epoch': 1.053639846743295, 'step': 1100}\n",
            "{'loss': 0.45426025390625, 'learning_rate': 2.4597585513078473e-05, 'epoch': 1.0632183908045978, 'step': 1110}\n",
            "{'loss': 0.4747314453125, 'learning_rate': 2.4346076458752517e-05, 'epoch': 1.0727969348659003, 'step': 1120}\n",
            "{'loss': 0.45013427734375, 'learning_rate': 2.409456740442656e-05, 'epoch': 1.082375478927203, 'step': 1130}\n",
            "{'loss': 0.379510498046875, 'learning_rate': 2.3843058350100605e-05, 'epoch': 1.0919540229885056, 'step': 1140}\n",
            "{'loss': 0.516009521484375, 'learning_rate': 2.359154929577465e-05, 'epoch': 1.1015325670498084, 'step': 1150}\n",
            "{'loss': 0.43922119140625, 'learning_rate': 2.3340040241448693e-05, 'epoch': 1.1111111111111112, 'step': 1160}\n",
            "{'loss': 0.42718505859375, 'learning_rate': 2.308853118712274e-05, 'epoch': 1.1206896551724137, 'step': 1170}\n",
            "{'loss': 0.421063232421875, 'learning_rate': 2.283702213279678e-05, 'epoch': 1.1302681992337165, 'step': 1180}\n",
            "{'loss': 0.462744140625, 'learning_rate': 2.2585513078470828e-05, 'epoch': 1.1398467432950192, 'step': 1190}\n",
            "{'loss': 0.441973876953125, 'learning_rate': 2.2334004024144868e-05, 'epoch': 1.1494252873563218, 'step': 1200}\n",
            "{'loss': 0.45819091796875, 'learning_rate': 2.2082494969818915e-05, 'epoch': 1.1590038314176245, 'step': 1210}\n",
            "{'loss': 0.462445068359375, 'learning_rate': 2.1830985915492956e-05, 'epoch': 1.1685823754789273, 'step': 1220}\n",
            "{'loss': 0.3313720703125, 'learning_rate': 2.1579476861167003e-05, 'epoch': 1.1781609195402298, 'step': 1230}\n",
            "{'loss': 0.5004150390625, 'learning_rate': 2.1327967806841047e-05, 'epoch': 1.1877394636015326, 'step': 1240}\n",
            "{'loss': 0.45517578125, 'learning_rate': 2.107645875251509e-05, 'epoch': 1.1973180076628354, 'step': 1250}\n",
            "{'loss': 0.427325439453125, 'learning_rate': 2.0824949698189135e-05, 'epoch': 1.206896551724138, 'step': 1260}\n",
            "{'loss': 0.472503662109375, 'learning_rate': 2.057344064386318e-05, 'epoch': 1.2164750957854407, 'step': 1270}\n",
            "{'loss': 0.38409423828125, 'learning_rate': 2.0321931589537226e-05, 'epoch': 1.2260536398467432, 'step': 1280}\n",
            "{'loss': 0.445574951171875, 'learning_rate': 2.007042253521127e-05, 'epoch': 1.235632183908046, 'step': 1290}\n",
            "{'loss': 0.357427978515625, 'learning_rate': 1.9818913480885314e-05, 'epoch': 1.2452107279693487, 'step': 1300}\n",
            "{'loss': 0.5024169921875, 'learning_rate': 1.9567404426559357e-05, 'epoch': 1.2547892720306513, 'step': 1310}\n",
            "{'loss': 0.41363525390625, 'learning_rate': 1.93158953722334e-05, 'epoch': 1.264367816091954, 'step': 1320}\n",
            "{'loss': 0.466033935546875, 'learning_rate': 1.9064386317907445e-05, 'epoch': 1.2739463601532566, 'step': 1330}\n",
            "{'loss': 0.4400634765625, 'learning_rate': 1.8812877263581492e-05, 'epoch': 1.2835249042145593, 'step': 1340}\n",
            "{'loss': 0.469720458984375, 'learning_rate': 1.8561368209255533e-05, 'epoch': 1.293103448275862, 'step': 1350}\n",
            "{'loss': 0.392449951171875, 'learning_rate': 1.830985915492958e-05, 'epoch': 1.3026819923371646, 'step': 1360}\n",
            "{'loss': 0.405047607421875, 'learning_rate': 1.805835010060362e-05, 'epoch': 1.3122605363984674, 'step': 1370}\n",
            "{'loss': 0.389178466796875, 'learning_rate': 1.7806841046277668e-05, 'epoch': 1.3218390804597702, 'step': 1380}\n",
            "{'loss': 0.465106201171875, 'learning_rate': 1.7555331991951712e-05, 'epoch': 1.3314176245210727, 'step': 1390}\n",
            "{'loss': 0.378643798828125, 'learning_rate': 1.7303822937625756e-05, 'epoch': 1.3409961685823755, 'step': 1400}\n",
            "{'loss': 0.420526123046875, 'learning_rate': 1.70523138832998e-05, 'epoch': 1.3505747126436782, 'step': 1410}\n",
            "{'loss': 0.419671630859375, 'learning_rate': 1.6800804828973843e-05, 'epoch': 1.3601532567049808, 'step': 1420}\n",
            "{'loss': 0.44437255859375, 'learning_rate': 1.6549295774647887e-05, 'epoch': 1.3697318007662835, 'step': 1430}\n",
            "{'loss': 0.42623291015625, 'learning_rate': 1.6297786720321935e-05, 'epoch': 1.3793103448275863, 'step': 1440}\n",
            "{'loss': 0.356414794921875, 'learning_rate': 1.6046277665995975e-05, 'epoch': 1.3888888888888888, 'step': 1450}\n",
            "{'loss': 0.415484619140625, 'learning_rate': 1.5794768611670022e-05, 'epoch': 1.3984674329501916, 'step': 1460}\n",
            "{'loss': 0.321197509765625, 'learning_rate': 1.5543259557344063e-05, 'epoch': 1.4080459770114944, 'step': 1470}\n",
            "{'loss': 0.3800537109375, 'learning_rate': 1.529175050301811e-05, 'epoch': 1.417624521072797, 'step': 1480}\n",
            "{'loss': 0.53245849609375, 'learning_rate': 1.5040241448692156e-05, 'epoch': 1.4272030651340997, 'step': 1490}\n",
            "{'loss': 0.405712890625, 'learning_rate': 1.4788732394366198e-05, 'epoch': 1.4367816091954024, 'step': 1500}\n",
            "{'loss': 0.373779296875, 'learning_rate': 1.4537223340040243e-05, 'epoch': 1.446360153256705, 'step': 1510}\n",
            "{'loss': 0.53883056640625, 'learning_rate': 1.4285714285714285e-05, 'epoch': 1.4559386973180077, 'step': 1520}\n",
            "{'loss': 0.3633056640625, 'learning_rate': 1.4034205231388331e-05, 'epoch': 1.4655172413793103, 'step': 1530}\n",
            "{'loss': 0.291595458984375, 'learning_rate': 1.3782696177062373e-05, 'epoch': 1.475095785440613, 'step': 1540}\n",
            "{'loss': 0.407904052734375, 'learning_rate': 1.3531187122736419e-05, 'epoch': 1.4846743295019156, 'step': 1550}\n",
            "{'loss': 0.560125732421875, 'learning_rate': 1.3279678068410464e-05, 'epoch': 1.4942528735632183, 'step': 1560}\n",
            "{'loss': 0.385479736328125, 'learning_rate': 1.3028169014084506e-05, 'epoch': 1.503831417624521, 'step': 1570}\n",
            "{'loss': 0.47662353515625, 'learning_rate': 1.2776659959758552e-05, 'epoch': 1.5134099616858236, 'step': 1580}\n",
            "{'loss': 0.547613525390625, 'learning_rate': 1.2525150905432594e-05, 'epoch': 1.5229885057471264, 'step': 1590}\n",
            "{'loss': 0.405810546875, 'learning_rate': 1.227364185110664e-05, 'epoch': 1.5325670498084292, 'step': 1600}\n",
            "{'loss': 0.3864501953125, 'learning_rate': 1.2022132796780684e-05, 'epoch': 1.5421455938697317, 'step': 1610}\n",
            "{'loss': 0.44500732421875, 'learning_rate': 1.177062374245473e-05, 'epoch': 1.5517241379310345, 'step': 1620}\n",
            "{'loss': 0.390093994140625, 'learning_rate': 1.1519114688128773e-05, 'epoch': 1.5613026819923372, 'step': 1630}\n",
            "{'loss': 0.42359619140625, 'learning_rate': 1.1267605633802817e-05, 'epoch': 1.5708812260536398, 'step': 1640}\n",
            "{'loss': 0.459466552734375, 'learning_rate': 1.1016096579476862e-05, 'epoch': 1.5804597701149425, 'step': 1650}\n",
            "{'loss': 0.390765380859375, 'learning_rate': 1.0764587525150906e-05, 'epoch': 1.5900383141762453, 'step': 1660}\n",
            "{'loss': 0.314935302734375, 'learning_rate': 1.051307847082495e-05, 'epoch': 1.5996168582375478, 'step': 1670}\n",
            "{'loss': 0.364251708984375, 'learning_rate': 1.0261569416498996e-05, 'epoch': 1.6091954022988506, 'step': 1680}\n",
            "{'loss': 0.432305908203125, 'learning_rate': 1.001006036217304e-05, 'epoch': 1.6187739463601534, 'step': 1690}\n",
            "{'loss': 0.378363037109375, 'learning_rate': 9.758551307847083e-06, 'epoch': 1.628352490421456, 'step': 1700}\n",
            "{'loss': 0.49400634765625, 'learning_rate': 9.507042253521127e-06, 'epoch': 1.6379310344827587, 'step': 1710}\n",
            "{'loss': 0.329473876953125, 'learning_rate': 9.255533199195171e-06, 'epoch': 1.6475095785440614, 'step': 1720}\n",
            "{'loss': 0.382110595703125, 'learning_rate': 9.004024144869217e-06, 'epoch': 1.657088122605364, 'step': 1730}\n",
            "{'loss': 0.544134521484375, 'learning_rate': 8.75251509054326e-06, 'epoch': 1.6666666666666665, 'step': 1740}\n",
            "{'loss': 0.374493408203125, 'learning_rate': 8.501006036217304e-06, 'epoch': 1.6762452107279695, 'step': 1750}\n",
            "{'loss': 0.423626708984375, 'learning_rate': 8.249496981891348e-06, 'epoch': 1.685823754789272, 'step': 1760}\n",
            "{'loss': 0.470367431640625, 'learning_rate': 7.997987927565392e-06, 'epoch': 1.6954022988505746, 'step': 1770}\n",
            "{'loss': 0.416131591796875, 'learning_rate': 7.746478873239436e-06, 'epoch': 1.7049808429118773, 'step': 1780}\n",
            "{'loss': 0.37059326171875, 'learning_rate': 7.494969818913482e-06, 'epoch': 1.71455938697318, 'step': 1790}\n",
            "{'loss': 0.49276123046875, 'learning_rate': 7.2434607645875255e-06, 'epoch': 1.7241379310344827, 'step': 1800}\n",
            "{'loss': 0.37689208984375, 'learning_rate': 6.991951710261569e-06, 'epoch': 1.7337164750957854, 'step': 1810}\n",
            "{'loss': 0.459100341796875, 'learning_rate': 6.740442655935614e-06, 'epoch': 1.7432950191570882, 'step': 1820}\n",
            "{'loss': 0.40533447265625, 'learning_rate': 6.488933601609658e-06, 'epoch': 1.7528735632183907, 'step': 1830}\n",
            "{'loss': 0.418060302734375, 'learning_rate': 6.237424547283703e-06, 'epoch': 1.7624521072796935, 'step': 1840}\n",
            "{'loss': 0.4385986328125, 'learning_rate': 5.9859154929577465e-06, 'epoch': 1.7720306513409962, 'step': 1850}\n",
            "{'loss': 0.37701416015625, 'learning_rate': 5.734406438631791e-06, 'epoch': 1.7816091954022988, 'step': 1860}\n",
            "{'loss': 0.55546875, 'learning_rate': 5.482897384305835e-06, 'epoch': 1.7911877394636015, 'step': 1870}\n",
            "{'loss': 0.38128662109375, 'learning_rate': 5.23138832997988e-06, 'epoch': 1.8007662835249043, 'step': 1880}\n",
            "{'loss': 0.376220703125, 'learning_rate': 4.979879275653924e-06, 'epoch': 1.8103448275862069, 'step': 1890}\n",
            "{'loss': 0.427288818359375, 'learning_rate': 4.7283702213279675e-06, 'epoch': 1.8199233716475096, 'step': 1900}\n",
            "{'loss': 0.340924072265625, 'learning_rate': 4.476861167002012e-06, 'epoch': 1.8295019157088124, 'step': 1910}\n",
            "{'loss': 0.441766357421875, 'learning_rate': 4.225352112676056e-06, 'epoch': 1.839080459770115, 'step': 1920}\n",
            "{'loss': 0.391485595703125, 'learning_rate': 3.973843058350101e-06, 'epoch': 1.8486590038314177, 'step': 1930}\n",
            "{'loss': 0.396990966796875, 'learning_rate': 3.722334004024145e-06, 'epoch': 1.8582375478927204, 'step': 1940}\n",
            "{'loss': 0.39676513671875, 'learning_rate': 3.470824949698189e-06, 'epoch': 1.867816091954023, 'step': 1950}\n",
            "{'loss': 0.388958740234375, 'learning_rate': 3.2193158953722337e-06, 'epoch': 1.8773946360153255, 'step': 1960}\n",
            "{'loss': 0.41766357421875, 'learning_rate': 2.967806841046278e-06, 'epoch': 1.8869731800766285, 'step': 1970}\n",
            "{'loss': 0.395513916015625, 'learning_rate': 2.7162977867203223e-06, 'epoch': 1.896551724137931, 'step': 1980}\n",
            "{'loss': 0.4263671875, 'learning_rate': 2.464788732394366e-06, 'epoch': 1.9061302681992336, 'step': 1990}\n",
            "{'loss': 0.3072021484375, 'learning_rate': 2.2132796780684104e-06, 'epoch': 1.9157088122605364, 'step': 2000}\n",
            "{'loss': 0.44898681640625, 'learning_rate': 1.9617706237424547e-06, 'epoch': 1.9252873563218391, 'step': 2010}\n",
            "{'loss': 0.413421630859375, 'learning_rate': 1.7102615694164992e-06, 'epoch': 1.9348659003831417, 'step': 2020}\n",
            "{'loss': 0.34140625, 'learning_rate': 1.4587525150905433e-06, 'epoch': 1.9444444444444444, 'step': 2030}\n",
            "{'loss': 0.3496337890625, 'learning_rate': 1.2072434607645876e-06, 'epoch': 1.9540229885057472, 'step': 2040}\n",
            "{'loss': 0.432720947265625, 'learning_rate': 9.557344064386319e-07, 'epoch': 1.9636015325670497, 'step': 2050}\n",
            "{'loss': 0.45960693359375, 'learning_rate': 7.042253521126761e-07, 'epoch': 1.9731800766283525, 'step': 2060}\n",
            "{'loss': 0.364739990234375, 'learning_rate': 4.5271629778672034e-07, 'epoch': 1.9827586206896552, 'step': 2070}\n",
            "{'loss': 0.32664794921875, 'learning_rate': 2.012072434607646e-07, 'epoch': 1.9923371647509578, 'step': 2080}\n",
            "\n",
            "\n"
          ],
          "name": "stdout"
        },
        {
          "output_type": "execute_result",
          "data": {
            "text/plain": [
              "TrainOutput(global_step=2088, training_loss=0.48001250636075193)"
            ]
          },
          "metadata": {
            "tags": []
          },
          "execution_count": 37
        }
      ]
    },
    {
      "cell_type": "code",
      "metadata": {
        "id": "rF0HrKDgMa9s",
        "colab_type": "code",
        "colab": {
          "base_uri": "https://localhost:8080/",
          "height": 208,
          "referenced_widgets": [
            "6a6c15b499e34f48800097675b23b324",
            "0f9a002afc8b46e393c89865912812df",
            "369ba879c2e14acbaf6f8f1b9ac88873",
            "eea7948f8e26451e952bb89f8490f09c",
            "7f545600bd734f958158a51ae4357f2e",
            "66460f62b67e4c08a5122c422e4f9dc4",
            "2a41e84b58b74facaf951a787798aa11",
            "71341a0fee214d4e888a7b250a674bf7"
          ]
        },
        "outputId": "3ec34a08-06d4-429b-b101-36eb9400b977"
      },
      "source": [
        "trainer.evaluate()"
      ],
      "execution_count": 38,
      "outputs": [
        {
          "output_type": "display_data",
          "data": {
            "application/vnd.jupyter.widget-view+json": {
              "model_id": "6a6c15b499e34f48800097675b23b324",
              "version_minor": 0,
              "version_major": 2
            },
            "text/plain": [
              "HBox(children=(FloatProgress(value=0.0, description='Evaluation', max=112.0, style=ProgressStyle(description_w…"
            ]
          },
          "metadata": {
            "tags": []
          }
        },
        {
          "output_type": "stream",
          "text": [
            "\n",
            "{'eval_loss': 0.403257584341949, 'eval_accuracy': 0.8293739519284516, 'eval_f1': 0.8400366828245776, 'eval_precision': 0.8098004546602677, 'eval_recall': 0.8726183995645074, 'epoch': 2.0, 'step': 2088}\n"
          ],
          "name": "stdout"
        },
        {
          "output_type": "execute_result",
          "data": {
            "text/plain": [
              "{'epoch': 2.0,\n",
              " 'eval_accuracy': 0.8293739519284516,\n",
              " 'eval_f1': 0.8400366828245776,\n",
              " 'eval_loss': 0.403257584341949,\n",
              " 'eval_precision': 0.8098004546602677,\n",
              " 'eval_recall': 0.8726183995645074}"
            ]
          },
          "metadata": {
            "tags": []
          },
          "execution_count": 38
        }
      ]
    }
  ]
}